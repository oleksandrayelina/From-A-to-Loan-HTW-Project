{
 "cells": [
  {
   "cell_type": "code",
   "execution_count": 170,
   "metadata": {},
   "outputs": [
    {
     "ename": "ImportError",
     "evalue": "cannot import name 'plot_partial_dependence' from 'sklearn.inspection' (C:\\Users\\joel.sarkisyan\\AppData\\Local\\anaconda3\\Lib\\site-packages\\sklearn\\inspection\\__init__.py)",
     "output_type": "error",
     "traceback": [
      "\u001b[1;31m---------------------------------------------------------------------------\u001b[0m",
      "\u001b[1;31mImportError\u001b[0m                               Traceback (most recent call last)",
      "Cell \u001b[1;32mIn[170], line 17\u001b[0m\n\u001b[0;32m     15\u001b[0m \u001b[38;5;28;01mfrom\u001b[39;00m \u001b[38;5;21;01msklearn\u001b[39;00m\u001b[38;5;21;01m.\u001b[39;00m\u001b[38;5;21;01minspection\u001b[39;00m \u001b[38;5;28;01mimport\u001b[39;00m PartialDependenceDisplay\n\u001b[0;32m     16\u001b[0m \u001b[38;5;28;01mfrom\u001b[39;00m \u001b[38;5;21;01msklearn\u001b[39;00m\u001b[38;5;21;01m.\u001b[39;00m\u001b[38;5;21;01minspection\u001b[39;00m \u001b[38;5;28;01mimport\u001b[39;00m partial_dependence\n\u001b[1;32m---> 17\u001b[0m \u001b[38;5;28;01mfrom\u001b[39;00m \u001b[38;5;21;01msklearn\u001b[39;00m\u001b[38;5;21;01m.\u001b[39;00m\u001b[38;5;21;01minspection\u001b[39;00m \u001b[38;5;28;01mimport\u001b[39;00m plot_partial_dependence\n\u001b[0;32m     18\u001b[0m pd\u001b[38;5;241m.\u001b[39mset_option(\u001b[38;5;124m\"\u001b[39m\u001b[38;5;124mfuture.no_silent_downcasting\u001b[39m\u001b[38;5;124m\"\u001b[39m, \u001b[38;5;28;01mTrue\u001b[39;00m)\n",
      "\u001b[1;31mImportError\u001b[0m: cannot import name 'plot_partial_dependence' from 'sklearn.inspection' (C:\\Users\\joel.sarkisyan\\AppData\\Local\\anaconda3\\Lib\\site-packages\\sklearn\\inspection\\__init__.py)"
     ]
    }
   ],
   "source": [
    "# Import required libs\n",
    "import numpy as np\n",
    "import pandas as pd\n",
    "import matplotlib.pyplot as plt\n",
    "import seaborn as sns\n",
    "from sklearn.model_selection import train_test_split\n",
    "from sklearn.model_selection import GridSearchCV\n",
    "import xgboost as xgb\n",
    "from xgboost import XGBRFRegressor\n",
    "from sklearn.ensemble import RandomForestClassifier\n",
    "from sklearn.linear_model import LogisticRegression\n",
    "from sklearn.metrics import accuracy_score,precision_score,f1_score,recall_score\n",
    "from sklearn.metrics import confusion_matrix\n",
    "from sklearn.neighbors import KNeighborsClassifier\n",
    "from sklearn.inspection import PartialDependenceDisplay\n",
    "from sklearn.inspection import partial_dependence\n",
    "pd.set_option(\"future.no_silent_downcasting\", True)"
   ]
  },
  {
   "cell_type": "code",
   "execution_count": 123,
   "metadata": {},
   "outputs": [],
   "source": [
    "# Read the dataset\n",
    "dataset = pd.read_csv('esg-dataset.csv')"
   ]
  },
  {
   "cell_type": "code",
   "execution_count": 153,
   "metadata": {},
   "outputs": [
    {
     "data": {
      "text/html": [
       "<div>\n",
       "<style scoped>\n",
       "    .dataframe tbody tr th:only-of-type {\n",
       "        vertical-align: middle;\n",
       "    }\n",
       "\n",
       "    .dataframe tbody tr th {\n",
       "        vertical-align: top;\n",
       "    }\n",
       "\n",
       "    .dataframe thead th {\n",
       "        text-align: right;\n",
       "    }\n",
       "</style>\n",
       "<table border=\"1\" class=\"dataframe\">\n",
       "  <thead>\n",
       "    <tr style=\"text-align: right;\">\n",
       "      <th></th>\n",
       "      <th>Company</th>\n",
       "      <th>EGroup1</th>\n",
       "      <th>EGroup2</th>\n",
       "      <th>EGroup3</th>\n",
       "      <th>EGroup4</th>\n",
       "      <th>Ggroup</th>\n",
       "      <th>SGroup1</th>\n",
       "      <th>SGroup2</th>\n",
       "      <th>SGroup3</th>\n",
       "      <th>SGroup4</th>\n",
       "      <th>Controversy Level</th>\n",
       "      <th>Controversy Score</th>\n",
       "      <th>ESG_Loan Approval</th>\n",
       "      <th>A</th>\n",
       "      <th>B</th>\n",
       "      <th>C</th>\n",
       "    </tr>\n",
       "  </thead>\n",
       "  <tbody>\n",
       "    <tr>\n",
       "      <th>0</th>\n",
       "      <td>1</td>\n",
       "      <td>3</td>\n",
       "      <td>3</td>\n",
       "      <td>3</td>\n",
       "      <td>3</td>\n",
       "      <td>3</td>\n",
       "      <td>3</td>\n",
       "      <td>3</td>\n",
       "      <td>0</td>\n",
       "      <td>D</td>\n",
       "      <td>Moderate Controversy Level</td>\n",
       "      <td>2.0</td>\n",
       "      <td>2</td>\n",
       "      <td>7</td>\n",
       "      <td>0</td>\n",
       "      <td>0</td>\n",
       "    </tr>\n",
       "    <tr>\n",
       "      <th>1</th>\n",
       "      <td>2</td>\n",
       "      <td>3</td>\n",
       "      <td>3</td>\n",
       "      <td>3</td>\n",
       "      <td>3</td>\n",
       "      <td>3</td>\n",
       "      <td>3</td>\n",
       "      <td>3</td>\n",
       "      <td>3</td>\n",
       "      <td>A</td>\n",
       "      <td>Low Controversy Level</td>\n",
       "      <td>1.0</td>\n",
       "      <td>2</td>\n",
       "      <td>9</td>\n",
       "      <td>0</td>\n",
       "      <td>0</td>\n",
       "    </tr>\n",
       "    <tr>\n",
       "      <th>2</th>\n",
       "      <td>3</td>\n",
       "      <td>3</td>\n",
       "      <td>3</td>\n",
       "      <td>3</td>\n",
       "      <td>3</td>\n",
       "      <td>3</td>\n",
       "      <td>3</td>\n",
       "      <td>3</td>\n",
       "      <td>3</td>\n",
       "      <td>A</td>\n",
       "      <td>Low Controversy Level</td>\n",
       "      <td>1.0</td>\n",
       "      <td>2</td>\n",
       "      <td>9</td>\n",
       "      <td>0</td>\n",
       "      <td>0</td>\n",
       "    </tr>\n",
       "    <tr>\n",
       "      <th>3</th>\n",
       "      <td>4</td>\n",
       "      <td>2</td>\n",
       "      <td>2</td>\n",
       "      <td>3</td>\n",
       "      <td>3</td>\n",
       "      <td>3</td>\n",
       "      <td>1</td>\n",
       "      <td>3</td>\n",
       "      <td>3</td>\n",
       "      <td>A</td>\n",
       "      <td>None Controversy Level</td>\n",
       "      <td>2.0</td>\n",
       "      <td>2</td>\n",
       "      <td>6</td>\n",
       "      <td>2</td>\n",
       "      <td>1</td>\n",
       "    </tr>\n",
       "    <tr>\n",
       "      <th>4</th>\n",
       "      <td>5</td>\n",
       "      <td>2</td>\n",
       "      <td>2</td>\n",
       "      <td>0</td>\n",
       "      <td>3</td>\n",
       "      <td>3</td>\n",
       "      <td>3</td>\n",
       "      <td>3</td>\n",
       "      <td>3</td>\n",
       "      <td>C</td>\n",
       "      <td>Low Controversy Level</td>\n",
       "      <td>1.0</td>\n",
       "      <td>2</td>\n",
       "      <td>5</td>\n",
       "      <td>2</td>\n",
       "      <td>1</td>\n",
       "    </tr>\n",
       "  </tbody>\n",
       "</table>\n",
       "</div>"
      ],
      "text/plain": [
       "   Company  EGroup1  EGroup2  EGroup3  EGroup4  Ggroup  SGroup1  SGroup2  \\\n",
       "0        1        3        3        3        3       3        3        3   \n",
       "1        2        3        3        3        3       3        3        3   \n",
       "2        3        3        3        3        3       3        3        3   \n",
       "3        4        2        2        3        3       3        1        3   \n",
       "4        5        2        2        0        3       3        3        3   \n",
       "\n",
       "   SGroup3 SGroup4           Controversy Level  Controversy Score  \\\n",
       "0        0       D  Moderate Controversy Level                2.0   \n",
       "1        3       A       Low Controversy Level                1.0   \n",
       "2        3       A       Low Controversy Level                1.0   \n",
       "3        3       A      None Controversy Level                2.0   \n",
       "4        3       C       Low Controversy Level                1.0   \n",
       "\n",
       "   ESG_Loan Approval  A  B  C  \n",
       "0                  2  7  0  0  \n",
       "1                  2  9  0  0  \n",
       "2                  2  9  0  0  \n",
       "3                  2  6  2  1  \n",
       "4                  2  5  2  1  "
      ]
     },
     "execution_count": 153,
     "metadata": {},
     "output_type": "execute_result"
    }
   ],
   "source": [
    "# Preview the dataset\n",
    "dataset.head()"
   ]
  },
  {
   "cell_type": "code",
   "execution_count": 130,
   "metadata": {},
   "outputs": [],
   "source": [
    "scores = [\"EGroup1\", \"EGroup2\", \"EGroup3\", \"EGroup4\", \"Ggroup\", \"SGroup1\", \"SGroup2\", \"SGroup3\", \"SGroup4\"]\n",
    "dataset[\"A\"] = dataset[dataset.loc[:,scores] == \"A\"].count(axis=1)\n",
    "dataset[\"B\"] = dataset[dataset.loc[:,scores] == \"B\"].count(axis=1)\n",
    "dataset[\"C\"] = dataset[dataset.loc[:,scores] == \"C\"].count(axis=1)\n",
    "\n",
    "\n",
    "dataset[\"Controversy Score\"] = dataset[\"Controversy Score\"].fillna((dataset['Controversy Score'].median()))\n",
    "\n",
    "\n",
    "mapping1 = {'High': 2, 'Medium': 1, 'Low': 0}\n",
    "mapping2 = {'A' : 3, 'B' : 2, 'C' : 1, 'D' : 0}\n",
    "\n",
    "dataset[\"ESG_Loan Approval\"] = dataset[\"ESG_Loan Approval\"].map(mapping1)\n",
    "for col in dataset.columns[1:9]:\n",
    "    dataset[col] = dataset[col].map(mapping2)"
   ]
  },
  {
   "cell_type": "code",
   "execution_count": 131,
   "metadata": {},
   "outputs": [
    {
     "data": {
      "text/plain": [
       "Index(['Company', 'EGroup1', 'EGroup2', 'EGroup3', 'EGroup4', 'Ggroup',\n",
       "       'SGroup1', 'SGroup2', 'SGroup3', 'SGroup4', 'Controversy Level',\n",
       "       'Controversy Score', 'ESG_Loan Approval', 'A', 'B', 'C'],\n",
       "      dtype='object')"
      ]
     },
     "execution_count": 131,
     "metadata": {},
     "output_type": "execute_result"
    }
   ],
   "source": [
    "# Check the column names\n",
    "dataset.columns"
   ]
  },
  {
   "cell_type": "code",
   "execution_count": 154,
   "metadata": {},
   "outputs": [],
   "source": [
    "## Selecting the features and target variable\n",
    "# Controversy Level and Controversy Score reflect the same infomation (highly correlated). So, we can drop one of them.\n",
    "interested_features = ['EGroup1',\n",
    "                       'EGroup2',\n",
    "                       'EGroup3',\n",
    "                       'EGroup4',\n",
    "                       'Ggroup',\n",
    "                       'SGroup1',\n",
    "                       'SGroup2',\n",
    "                       'SGroup3',\n",
    "                       'SGroup4',\n",
    "                       'Controversy Score','A', 'B', 'C']\n",
    "target_var = 'ESG_Loan Approval'"
   ]
  },
  {
   "cell_type": "markdown",
   "metadata": {},
   "source": [
    "## Exploratory Data Analysis"
   ]
  },
  {
   "cell_type": "code",
   "execution_count": 155,
   "metadata": {},
   "outputs": [],
   "source": [
    "dataset_copy = dataset.copy()"
   ]
  },
  {
   "cell_type": "code",
   "execution_count": 156,
   "metadata": {},
   "outputs": [
    {
     "name": "stderr",
     "output_type": "stream",
     "text": [
      "C:\\Users\\joel.sarkisyan\\AppData\\Local\\Temp\\ipykernel_21336\\3434623401.py:4: MatplotlibDeprecationWarning: Auto-removal of overlapping axes is deprecated since 3.6 and will be removed two minor releases later; explicitly call ax.remove() as needed.\n",
      "  ax = plt.subplot(5, 2, i+1)\n"
     ]
    },
    {
     "ename": "ValueError",
     "evalue": "num must be an integer with 1 <= num <= 10, not 11",
     "output_type": "error",
     "traceback": [
      "\u001b[1;31m---------------------------------------------------------------------------\u001b[0m",
      "\u001b[1;31mValueError\u001b[0m                                Traceback (most recent call last)",
      "Cell \u001b[1;32mIn[156], line 4\u001b[0m\n\u001b[0;32m      2\u001b[0m plt\u001b[38;5;241m.\u001b[39msubplots(figsize\u001b[38;5;241m=\u001b[39m(\u001b[38;5;241m14\u001b[39m, \u001b[38;5;241m12\u001b[39m))\n\u001b[0;32m      3\u001b[0m \u001b[38;5;28;01mfor\u001b[39;00m i, feature \u001b[38;5;129;01min\u001b[39;00m \u001b[38;5;28menumerate\u001b[39m(interested_features):\n\u001b[1;32m----> 4\u001b[0m     ax \u001b[38;5;241m=\u001b[39m plt\u001b[38;5;241m.\u001b[39msubplot(\u001b[38;5;241m5\u001b[39m, \u001b[38;5;241m2\u001b[39m, i\u001b[38;5;241m+\u001b[39m\u001b[38;5;241m1\u001b[39m)\n\u001b[0;32m      5\u001b[0m     ax\u001b[38;5;241m.\u001b[39mhist(dataset_copy[feature]\u001b[38;5;241m.\u001b[39msort_values(), width \u001b[38;5;241m=\u001b[39m \u001b[38;5;241m0.4\u001b[39m)\n\u001b[0;32m      6\u001b[0m     ax\u001b[38;5;241m.\u001b[39mset_title(feature)\n",
      "File \u001b[1;32m~\\AppData\\Local\\anaconda3\\Lib\\site-packages\\matplotlib\\pyplot.py:1323\u001b[0m, in \u001b[0;36msubplot\u001b[1;34m(*args, **kwargs)\u001b[0m\n\u001b[0;32m   1320\u001b[0m fig \u001b[38;5;241m=\u001b[39m gcf()\n\u001b[0;32m   1322\u001b[0m \u001b[38;5;66;03m# First, search for an existing subplot with a matching spec.\u001b[39;00m\n\u001b[1;32m-> 1323\u001b[0m key \u001b[38;5;241m=\u001b[39m SubplotSpec\u001b[38;5;241m.\u001b[39m_from_subplot_args(fig, args)\n\u001b[0;32m   1325\u001b[0m \u001b[38;5;28;01mfor\u001b[39;00m ax \u001b[38;5;129;01min\u001b[39;00m fig\u001b[38;5;241m.\u001b[39maxes:\n\u001b[0;32m   1326\u001b[0m     \u001b[38;5;66;03m# if we found an Axes at the position sort out if we can re-use it\u001b[39;00m\n\u001b[0;32m   1327\u001b[0m     \u001b[38;5;28;01mif\u001b[39;00m ax\u001b[38;5;241m.\u001b[39mget_subplotspec() \u001b[38;5;241m==\u001b[39m key:\n\u001b[0;32m   1328\u001b[0m         \u001b[38;5;66;03m# if the user passed no kwargs, re-use\u001b[39;00m\n",
      "File \u001b[1;32m~\\AppData\\Local\\anaconda3\\Lib\\site-packages\\matplotlib\\gridspec.py:600\u001b[0m, in \u001b[0;36mSubplotSpec._from_subplot_args\u001b[1;34m(figure, args)\u001b[0m\n\u001b[0;32m    598\u001b[0m \u001b[38;5;28;01melse\u001b[39;00m:\n\u001b[0;32m    599\u001b[0m     \u001b[38;5;28;01mif\u001b[39;00m \u001b[38;5;129;01mnot\u001b[39;00m \u001b[38;5;28misinstance\u001b[39m(num, Integral) \u001b[38;5;129;01mor\u001b[39;00m num \u001b[38;5;241m<\u001b[39m \u001b[38;5;241m1\u001b[39m \u001b[38;5;129;01mor\u001b[39;00m num \u001b[38;5;241m>\u001b[39m rows\u001b[38;5;241m*\u001b[39mcols:\n\u001b[1;32m--> 600\u001b[0m         \u001b[38;5;28;01mraise\u001b[39;00m \u001b[38;5;167;01mValueError\u001b[39;00m(\n\u001b[0;32m    601\u001b[0m             \u001b[38;5;124mf\u001b[39m\u001b[38;5;124m\"\u001b[39m\u001b[38;5;124mnum must be an integer with 1 <= num <= \u001b[39m\u001b[38;5;132;01m{\u001b[39;00mrows\u001b[38;5;241m*\u001b[39mcols\u001b[38;5;132;01m}\u001b[39;00m\u001b[38;5;124m, \u001b[39m\u001b[38;5;124m\"\u001b[39m\n\u001b[0;32m    602\u001b[0m             \u001b[38;5;124mf\u001b[39m\u001b[38;5;124m\"\u001b[39m\u001b[38;5;124mnot \u001b[39m\u001b[38;5;132;01m{\u001b[39;00mnum\u001b[38;5;132;01m!r}\u001b[39;00m\u001b[38;5;124m\"\u001b[39m\n\u001b[0;32m    603\u001b[0m         )\n\u001b[0;32m    604\u001b[0m     i \u001b[38;5;241m=\u001b[39m j \u001b[38;5;241m=\u001b[39m num\n\u001b[0;32m    605\u001b[0m \u001b[38;5;28;01mreturn\u001b[39;00m gs[i\u001b[38;5;241m-\u001b[39m\u001b[38;5;241m1\u001b[39m:j]\n",
      "\u001b[1;31mValueError\u001b[0m: num must be an integer with 1 <= num <= 10, not 11"
     ]
    },
    {
     "data": {
      "image/png": "[encoded data removed]",
      "text/plain": [
       "<Figure size 1400x1200 with 10 Axes>"
      ]
     },
     "metadata": {},
     "output_type": "display_data"
    }
   ],
   "source": [
    "# Feature Distributions\n",
    "plt.subplots(figsize=(14, 12))\n",
    "for i, feature in enumerate(interested_features):\n",
    "    ax = plt.subplot(5, 2, i+1)\n",
    "    ax.hist(dataset_copy[feature].sort_values(), width = 0.4)\n",
    "    ax.set_title(feature)\n",
    "plt.suptitle('Feature Distributions')\n",
    "plt.tight_layout()\n",
    "plt.show()"
   ]
  },
  {
   "cell_type": "code",
   "execution_count": null,
   "metadata": {},
   "outputs": [],
   "source": [
    "plt.figure()\n",
    "dataset[\"ESG_Loan Approval\"].hist(density = True)\n",
    "plt.title(\"Distribution of Target Variable\")\n",
    "plt.tight_layout()\n",
    "plt.show()"
   ]
  },
  {
   "cell_type": "code",
   "execution_count": null,
   "metadata": {},
   "outputs": [],
   "source": [
    "# Distribution of features grouping by target variable\n",
    "plt.subplots(figsize=(14, 12))\n",
    "for i, feature in enumerate(interested_features):\n",
    "    plt.subplot(5, 2, i+1)\n",
    "    dataset_copy = dataset_copy.sort_values(feature)\n",
    "    sns.countplot(x=feature, data=dataset_copy, hue=target_var)\n",
    "plt.suptitle('Feature Distributions Grouped by Target Variable')\n",
    "plt.tight_layout()\n",
    "plt.show()"
   ]
  },
  {
   "cell_type": "code",
   "execution_count": null,
   "metadata": {},
   "outputs": [],
   "source": [
    "# transform str to int for correlation analysis\n",
    "mapping = {\"A\": int(4), \"B\": int(3), \"C\": int(2), \"D\": int(1)}\n",
    "for feature in interested_features:\n",
    "    dataset_copy[feature] = dataset_copy[feature].replace(mapping)\n",
    "target_map = {\"High\": int(2), \"Medium\": int(1), \"Low\": int(0)}\n",
    "dataset_copy[\"ESG_Loan Approval\"]=dataset_copy[\"ESG_Loan Approval\"].replace(target_map)"
   ]
  },
  {
   "cell_type": "code",
   "execution_count": null,
   "metadata": {},
   "outputs": [],
   "source": [
    "# exclude missing values for now\n",
    "dataset_copy = dataset_copy.dropna()\n",
    "# drop out the Contraversy Level column\n",
    "dataset_copy = dataset_copy.drop([\"Controversy Level\"], axis=1)"
   ]
  },
  {
   "cell_type": "code",
   "execution_count": null,
   "metadata": {},
   "outputs": [],
   "source": [
    "# Kenall Rank Correlation Matrix\n",
    "corr = dataset_copy.corr(method='kendall')\n",
    "plt.figure(figsize=(10, 10))\n",
    "sns.heatmap(corr, annot=True, cmap='coolwarm', linewidths=0.5)\n",
    "plt.title('Correlation Matrix')\n",
    "plt.tight_layout()\n",
    "plt.show()"
   ]
  },
  {
   "cell_type": "markdown",
   "metadata": {},
   "source": [
    "## Missing Value Detection and Filling"
   ]
  },
  {
   "cell_type": "code",
   "execution_count": 157,
   "metadata": {},
   "outputs": [],
   "source": [
    "features = dataset[interested_features]\n",
    "target = dataset[target_var]"
   ]
  },
  {
   "cell_type": "code",
   "execution_count": 158,
   "metadata": {},
   "outputs": [
    {
     "data": {
      "text/plain": [
       "EGroup1              0\n",
       "EGroup2              0\n",
       "EGroup3              0\n",
       "EGroup4              0\n",
       "Ggroup               0\n",
       "SGroup1              0\n",
       "SGroup2              0\n",
       "SGroup3              0\n",
       "SGroup4              0\n",
       "Controversy Score    0\n",
       "A                    0\n",
       "B                    0\n",
       "C                    0\n",
       "dtype: int64"
      ]
     },
     "execution_count": 158,
     "metadata": {},
     "output_type": "execute_result"
    }
   ],
   "source": [
    "# Numebr of sissing value in features\n",
    "features.isnull().sum()"
   ]
  },
  {
   "cell_type": "code",
   "execution_count": 159,
   "metadata": {},
   "outputs": [],
   "source": [
    "# Fill the controversy Score with the mode\n",
    "mode = features[\"Controversy Score\"].mode()[0]\n",
    "features.loc[:,\"Controversy Score\"] = features[\"Controversy Score\"].replace(np.nan, mode)"
   ]
  },
  {
   "cell_type": "code",
   "execution_count": 160,
   "metadata": {},
   "outputs": [
    {
     "data": {
      "text/plain": [
       "EGroup1              0\n",
       "EGroup2              0\n",
       "EGroup3              0\n",
       "EGroup4              0\n",
       "Ggroup               0\n",
       "SGroup1              0\n",
       "SGroup2              0\n",
       "SGroup3              0\n",
       "SGroup4              0\n",
       "Controversy Score    0\n",
       "A                    0\n",
       "B                    0\n",
       "C                    0\n",
       "dtype: int64"
      ]
     },
     "execution_count": 160,
     "metadata": {},
     "output_type": "execute_result"
    }
   ],
   "source": [
    "# Check the missing values again\n",
    "features.isnull().sum()"
   ]
  },
  {
   "cell_type": "markdown",
   "metadata": {},
   "source": [
    "## Data Transformation"
   ]
  },
  {
   "cell_type": "code",
   "execution_count": 161,
   "metadata": {},
   "outputs": [
    {
     "data": {
      "text/html": [
       "<div>\n",
       "<style scoped>\n",
       "    .dataframe tbody tr th:only-of-type {\n",
       "        vertical-align: middle;\n",
       "    }\n",
       "\n",
       "    .dataframe tbody tr th {\n",
       "        vertical-align: top;\n",
       "    }\n",
       "\n",
       "    .dataframe thead th {\n",
       "        text-align: right;\n",
       "    }\n",
       "</style>\n",
       "<table border=\"1\" class=\"dataframe\">\n",
       "  <thead>\n",
       "    <tr style=\"text-align: right;\">\n",
       "      <th></th>\n",
       "      <th>EGroup1</th>\n",
       "      <th>EGroup2</th>\n",
       "      <th>EGroup3</th>\n",
       "      <th>EGroup4</th>\n",
       "      <th>Ggroup</th>\n",
       "      <th>SGroup1</th>\n",
       "      <th>SGroup2</th>\n",
       "      <th>SGroup3</th>\n",
       "      <th>SGroup4</th>\n",
       "      <th>Controversy Score</th>\n",
       "      <th>A</th>\n",
       "      <th>B</th>\n",
       "      <th>C</th>\n",
       "    </tr>\n",
       "  </thead>\n",
       "  <tbody>\n",
       "    <tr>\n",
       "      <th>0</th>\n",
       "      <td>3</td>\n",
       "      <td>3</td>\n",
       "      <td>3</td>\n",
       "      <td>3</td>\n",
       "      <td>3</td>\n",
       "      <td>3</td>\n",
       "      <td>3</td>\n",
       "      <td>0</td>\n",
       "      <td>D</td>\n",
       "      <td>2.0</td>\n",
       "      <td>7</td>\n",
       "      <td>0</td>\n",
       "      <td>0</td>\n",
       "    </tr>\n",
       "    <tr>\n",
       "      <th>1</th>\n",
       "      <td>3</td>\n",
       "      <td>3</td>\n",
       "      <td>3</td>\n",
       "      <td>3</td>\n",
       "      <td>3</td>\n",
       "      <td>3</td>\n",
       "      <td>3</td>\n",
       "      <td>3</td>\n",
       "      <td>A</td>\n",
       "      <td>1.0</td>\n",
       "      <td>9</td>\n",
       "      <td>0</td>\n",
       "      <td>0</td>\n",
       "    </tr>\n",
       "    <tr>\n",
       "      <th>2</th>\n",
       "      <td>3</td>\n",
       "      <td>3</td>\n",
       "      <td>3</td>\n",
       "      <td>3</td>\n",
       "      <td>3</td>\n",
       "      <td>3</td>\n",
       "      <td>3</td>\n",
       "      <td>3</td>\n",
       "      <td>A</td>\n",
       "      <td>1.0</td>\n",
       "      <td>9</td>\n",
       "      <td>0</td>\n",
       "      <td>0</td>\n",
       "    </tr>\n",
       "    <tr>\n",
       "      <th>3</th>\n",
       "      <td>2</td>\n",
       "      <td>2</td>\n",
       "      <td>3</td>\n",
       "      <td>3</td>\n",
       "      <td>3</td>\n",
       "      <td>1</td>\n",
       "      <td>3</td>\n",
       "      <td>3</td>\n",
       "      <td>A</td>\n",
       "      <td>2.0</td>\n",
       "      <td>6</td>\n",
       "      <td>2</td>\n",
       "      <td>1</td>\n",
       "    </tr>\n",
       "    <tr>\n",
       "      <th>4</th>\n",
       "      <td>2</td>\n",
       "      <td>2</td>\n",
       "      <td>0</td>\n",
       "      <td>3</td>\n",
       "      <td>3</td>\n",
       "      <td>3</td>\n",
       "      <td>3</td>\n",
       "      <td>3</td>\n",
       "      <td>C</td>\n",
       "      <td>1.0</td>\n",
       "      <td>5</td>\n",
       "      <td>2</td>\n",
       "      <td>1</td>\n",
       "    </tr>\n",
       "    <tr>\n",
       "      <th>...</th>\n",
       "      <td>...</td>\n",
       "      <td>...</td>\n",
       "      <td>...</td>\n",
       "      <td>...</td>\n",
       "      <td>...</td>\n",
       "      <td>...</td>\n",
       "      <td>...</td>\n",
       "      <td>...</td>\n",
       "      <td>...</td>\n",
       "      <td>...</td>\n",
       "      <td>...</td>\n",
       "      <td>...</td>\n",
       "      <td>...</td>\n",
       "    </tr>\n",
       "    <tr>\n",
       "      <th>425</th>\n",
       "      <td>0</td>\n",
       "      <td>0</td>\n",
       "      <td>0</td>\n",
       "      <td>0</td>\n",
       "      <td>0</td>\n",
       "      <td>0</td>\n",
       "      <td>0</td>\n",
       "      <td>0</td>\n",
       "      <td>C</td>\n",
       "      <td>2.0</td>\n",
       "      <td>0</td>\n",
       "      <td>0</td>\n",
       "      <td>1</td>\n",
       "    </tr>\n",
       "    <tr>\n",
       "      <th>426</th>\n",
       "      <td>1</td>\n",
       "      <td>1</td>\n",
       "      <td>3</td>\n",
       "      <td>0</td>\n",
       "      <td>0</td>\n",
       "      <td>2</td>\n",
       "      <td>2</td>\n",
       "      <td>0</td>\n",
       "      <td>A</td>\n",
       "      <td>4.0</td>\n",
       "      <td>2</td>\n",
       "      <td>2</td>\n",
       "      <td>2</td>\n",
       "    </tr>\n",
       "    <tr>\n",
       "      <th>427</th>\n",
       "      <td>0</td>\n",
       "      <td>0</td>\n",
       "      <td>1</td>\n",
       "      <td>3</td>\n",
       "      <td>0</td>\n",
       "      <td>0</td>\n",
       "      <td>0</td>\n",
       "      <td>0</td>\n",
       "      <td>A</td>\n",
       "      <td>3.0</td>\n",
       "      <td>2</td>\n",
       "      <td>0</td>\n",
       "      <td>1</td>\n",
       "    </tr>\n",
       "    <tr>\n",
       "      <th>428</th>\n",
       "      <td>0</td>\n",
       "      <td>0</td>\n",
       "      <td>0</td>\n",
       "      <td>0</td>\n",
       "      <td>1</td>\n",
       "      <td>0</td>\n",
       "      <td>1</td>\n",
       "      <td>0</td>\n",
       "      <td>C</td>\n",
       "      <td>3.0</td>\n",
       "      <td>0</td>\n",
       "      <td>0</td>\n",
       "      <td>3</td>\n",
       "    </tr>\n",
       "    <tr>\n",
       "      <th>429</th>\n",
       "      <td>0</td>\n",
       "      <td>2</td>\n",
       "      <td>0</td>\n",
       "      <td>1</td>\n",
       "      <td>1</td>\n",
       "      <td>1</td>\n",
       "      <td>2</td>\n",
       "      <td>1</td>\n",
       "      <td>C</td>\n",
       "      <td>2.0</td>\n",
       "      <td>0</td>\n",
       "      <td>2</td>\n",
       "      <td>5</td>\n",
       "    </tr>\n",
       "  </tbody>\n",
       "</table>\n",
       "<p>430 rows × 13 columns</p>\n",
       "</div>"
      ],
      "text/plain": [
       "     EGroup1  EGroup2  EGroup3  EGroup4  Ggroup  SGroup1  SGroup2  SGroup3  \\\n",
       "0          3        3        3        3       3        3        3        0   \n",
       "1          3        3        3        3       3        3        3        3   \n",
       "2          3        3        3        3       3        3        3        3   \n",
       "3          2        2        3        3       3        1        3        3   \n",
       "4          2        2        0        3       3        3        3        3   \n",
       "..       ...      ...      ...      ...     ...      ...      ...      ...   \n",
       "425        0        0        0        0       0        0        0        0   \n",
       "426        1        1        3        0       0        2        2        0   \n",
       "427        0        0        1        3       0        0        0        0   \n",
       "428        0        0        0        0       1        0        1        0   \n",
       "429        0        2        0        1       1        1        2        1   \n",
       "\n",
       "    SGroup4  Controversy Score  A  B  C  \n",
       "0         D                2.0  7  0  0  \n",
       "1         A                1.0  9  0  0  \n",
       "2         A                1.0  9  0  0  \n",
       "3         A                2.0  6  2  1  \n",
       "4         C                1.0  5  2  1  \n",
       "..      ...                ... .. .. ..  \n",
       "425       C                2.0  0  0  1  \n",
       "426       A                4.0  2  2  2  \n",
       "427       A                3.0  2  0  1  \n",
       "428       C                3.0  0  0  3  \n",
       "429       C                2.0  0  2  5  \n",
       "\n",
       "[430 rows x 13 columns]"
      ]
     },
     "execution_count": 161,
     "metadata": {},
     "output_type": "execute_result"
    }
   ],
   "source": [
    "features"
   ]
  },
  {
   "cell_type": "code",
   "execution_count": 162,
   "metadata": {},
   "outputs": [],
   "source": [
    "# Encode the categorical variables using one-hot encoding\n",
    "cat_featrues = ['EGroup1',\n",
    "                'EGroup2',\n",
    "                'EGroup3',\n",
    "                'EGroup4',\n",
    "                'Ggroup',\n",
    "                'SGroup1',\n",
    "                'SGroup2',\n",
    "                'SGroup3',\n",
    "                'SGroup4']\n",
    "# features = pd.get_dummies(features, columns=cat_featrues, drop_first=False, dtype = int)\n",
    "cat_mapping = {\"A\": int(3), \"B\": int(2), \"C\": int(1), \"D\": int(0)}\n",
    "for feature in cat_featrues:\n",
    "    features.loc[:,feature] = features[feature].replace(cat_mapping)\n",
    "features = features.astype(int)"
   ]
  },
  {
   "cell_type": "code",
   "execution_count": 163,
   "metadata": {},
   "outputs": [],
   "source": [
    "# Transform the target variable from categorical to numerical\n",
    "target_map = {\"High\": int(2), \"Medium\": int(1), \"Low\": int(0)}\n",
    "target = target.replace(target_map).astype(int)"
   ]
  },
  {
   "cell_type": "markdown",
   "metadata": {},
   "source": [
    "## Modelling"
   ]
  },
  {
   "cell_type": "code",
   "execution_count": 164,
   "metadata": {},
   "outputs": [],
   "source": [
    "# Split the dataset into training and testing sets\n",
    "X_train, X_test, y_train, y_test = train_test_split(features, target, test_size=0.2, random_state=42)"
   ]
  },
  {
   "cell_type": "code",
   "execution_count": 87,
   "metadata": {},
   "outputs": [
    {
     "name": "stdout",
     "output_type": "stream",
     "text": [
      "Fitting 8 folds for each of 12 candidates, totalling 96 fits\n",
      "{'C': 2, 'class_weight': 'balanced', 'penalty': 'l2'}\n"
     ]
    }
   ],
   "source": [
    "# Baseline model: Logistic Regression\n",
    "logis_classifier = LogisticRegression()\n",
    "param_grid = {\n",
    "    'C': [5, 2, 1, 0.5, 0.1, 0.05],\n",
    "    'class_weight': ['balanced'],\n",
    "    'penalty': ['none', 'l2']\n",
    "}\n",
    "grid_search = GridSearchCV(estimator=logis_classifier, param_grid=param_grid, cv=8, n_jobs=-1, verbose=2)\n",
    "grid_search.fit(X_train, y_train)\n",
    "# Get the best parameters\n",
    "best_params = grid_search.best_params_\n",
    "print(best_params)\n",
    "# Get the best model\n",
    "best_xgb_classifier = grid_search.best_estimator_"
   ]
  },
  {
   "cell_type": "code",
   "execution_count": 81,
   "metadata": {},
   "outputs": [],
   "source": [
    "pred_train_logist = best_xgb_classifier.predict(X_train)\n",
    "acc_train = accuracy_score(y_train, pred_train_logist)\n",
    "prec_train = precision_score(y_train,pred_train_logist, average='macro')\n",
    "recall_train = recall_score(y_train,pred_train_logist, average='macro')\n",
    "f1_train = f1_score(y_train,pred_train_logist, average='macro')\n",
    "\n",
    "pred_test_logist = best_xgb_classifier.predict(X_test)\n",
    "acc_test = accuracy_score(y_test, pred_test_logist)\n",
    "prec_test = precision_score(y_test,pred_test_logist, average='macro')\n",
    "recall_test = recall_score(y_test,pred_test_logist, average='macro')\n",
    "f1_test = f1_score(y_test,pred_test_logist, average='macro')"
   ]
  },
  {
   "cell_type": "code",
   "execution_count": 82,
   "metadata": {},
   "outputs": [
    {
     "name": "stdout",
     "output_type": "stream",
     "text": [
      "**********Training Phase**********\n",
      "Train Acc: 0.7529\n",
      "Train Precision: 0.7081\n",
      "Train recall: 0.7784\n",
      "Train f1-score: 0.7271\n",
      "**********Test Phase**********\n",
      "Test Acc: 0.7674\n",
      "Test Precision: 0.7267\n",
      "Test recall: 0.7184\n",
      "Test f1-score: 0.7222\n"
     ]
    }
   ],
   "source": [
    "print(\"*\"*10 + \"Training Phase\" + \"*\"*10)\n",
    "print(\"Train Acc: %.4f\" %(acc_train))\n",
    "print(\"Train Precision: %.4f\" %(prec_train))\n",
    "print(\"Train recall: %.4f\" %(recall_train))\n",
    "print(\"Train f1-score: %.4f\" %(f1_train)) \n",
    "\n",
    "print(\"*\"*10 + \"Test Phase\" + \"*\"*10)\n",
    "print(\"Test Acc: %.4f\" %(acc_test))\n",
    "print(\"Test Precision: %.4f\" %(prec_test))\n",
    "print(\"Test recall: %.4f\" %(recall_test))\n",
    "print(\"Test f1-score: %.4f\" %(f1_test)) "
   ]
  },
  {
   "cell_type": "markdown",
   "metadata": {},
   "source": [
    "# Random forest "
   ]
  },
  {
   "cell_type": "code",
   "execution_count": 165,
   "metadata": {
    "scrolled": true
   },
   "outputs": [
    {
     "name": "stdout",
     "output_type": "stream",
     "text": [
      "Fitting 8 folds for each of 375 candidates, totalling 3000 fits\n",
      "{'class_weight': 'balanced', 'max_depth': 7, 'max_features': 'log2', 'min_samples_split': 2, 'n_estimators': 100}\n"
     ]
    },
    {
     "name": "stderr",
     "output_type": "stream",
     "text": [
      "C:\\Users\\joel.sarkisyan\\AppData\\Local\\anaconda3\\Lib\\site-packages\\sklearn\\model_selection\\_validation.py:425: FitFailedWarning: \n",
      "1000 fits failed out of a total of 3000.\n",
      "The score on these train-test partitions for these parameters will be set to nan.\n",
      "If these failures are not expected, you can try to debug them by setting error_score='raise'.\n",
      "\n",
      "Below are more details about the failures:\n",
      "--------------------------------------------------------------------------------\n",
      "757 fits failed with the following error:\n",
      "Traceback (most recent call last):\n",
      "  File \"C:\\Users\\joel.sarkisyan\\AppData\\Local\\anaconda3\\Lib\\site-packages\\sklearn\\model_selection\\_validation.py\", line 732, in _fit_and_score\n",
      "    estimator.fit(X_train, y_train, **fit_params)\n",
      "  File \"C:\\Users\\joel.sarkisyan\\AppData\\Local\\anaconda3\\Lib\\site-packages\\sklearn\\base.py\", line 1144, in wrapper\n",
      "    estimator._validate_params()\n",
      "  File \"C:\\Users\\joel.sarkisyan\\AppData\\Local\\anaconda3\\Lib\\site-packages\\sklearn\\base.py\", line 637, in _validate_params\n",
      "    validate_parameter_constraints(\n",
      "  File \"C:\\Users\\joel.sarkisyan\\AppData\\Local\\anaconda3\\Lib\\site-packages\\sklearn\\utils\\_param_validation.py\", line 95, in validate_parameter_constraints\n",
      "    raise InvalidParameterError(\n",
      "sklearn.utils._param_validation.InvalidParameterError: The 'max_features' parameter of RandomForestClassifier must be an int in the range [1, inf), a float in the range (0.0, 1.0], a str among {'log2', 'sqrt'} or None. Got 'auto' instead.\n",
      "\n",
      "--------------------------------------------------------------------------------\n",
      "243 fits failed with the following error:\n",
      "Traceback (most recent call last):\n",
      "  File \"C:\\Users\\joel.sarkisyan\\AppData\\Local\\anaconda3\\Lib\\site-packages\\sklearn\\model_selection\\_validation.py\", line 732, in _fit_and_score\n",
      "    estimator.fit(X_train, y_train, **fit_params)\n",
      "  File \"C:\\Users\\joel.sarkisyan\\AppData\\Local\\anaconda3\\Lib\\site-packages\\sklearn\\base.py\", line 1144, in wrapper\n",
      "    estimator._validate_params()\n",
      "  File \"C:\\Users\\joel.sarkisyan\\AppData\\Local\\anaconda3\\Lib\\site-packages\\sklearn\\base.py\", line 637, in _validate_params\n",
      "    validate_parameter_constraints(\n",
      "  File \"C:\\Users\\joel.sarkisyan\\AppData\\Local\\anaconda3\\Lib\\site-packages\\sklearn\\utils\\_param_validation.py\", line 95, in validate_parameter_constraints\n",
      "    raise InvalidParameterError(\n",
      "sklearn.utils._param_validation.InvalidParameterError: The 'max_features' parameter of RandomForestClassifier must be an int in the range [1, inf), a float in the range (0.0, 1.0], a str among {'sqrt', 'log2'} or None. Got 'auto' instead.\n",
      "\n",
      "  warnings.warn(some_fits_failed_message, FitFailedWarning)\n",
      "C:\\Users\\joel.sarkisyan\\AppData\\Local\\anaconda3\\Lib\\site-packages\\sklearn\\model_selection\\_search.py:976: UserWarning: One or more of the test scores are non-finite: [       nan        nan        nan        nan        nan        nan\n",
      "        nan        nan        nan        nan        nan        nan\n",
      "        nan        nan        nan        nan        nan        nan\n",
      "        nan        nan        nan        nan        nan        nan\n",
      "        nan 0.64244186 0.65406977 0.64825581 0.64244186 0.64825581\n",
      " 0.60755814 0.64534884 0.65406977 0.65116279 0.64534884 0.59593023\n",
      " 0.63662791 0.66860465 0.63081395 0.65116279 0.63953488 0.65116279\n",
      " 0.65406977 0.64825581 0.65116279 0.62790698 0.64244186 0.64825581\n",
      " 0.64825581 0.63953488 0.62790698 0.65406977 0.63662791 0.65988372\n",
      " 0.65116279 0.61918605 0.64244186 0.65406977 0.65697674 0.65406977\n",
      " 0.61046512 0.65697674 0.64825581 0.65116279 0.64825581 0.62209302\n",
      " 0.625      0.6627907  0.65116279 0.65697674 0.61337209 0.64244186\n",
      " 0.64534884 0.65116279 0.64534884        nan        nan        nan\n",
      "        nan        nan        nan        nan        nan        nan\n",
      "        nan        nan        nan        nan        nan        nan\n",
      "        nan        nan        nan        nan        nan        nan\n",
      "        nan        nan        nan        nan 0.68895349 0.7005814\n",
      " 0.73546512 0.71511628 0.72383721 0.69767442 0.71802326 0.71511628\n",
      " 0.70348837 0.7122093  0.67732558 0.69767442 0.69476744 0.7122093\n",
      " 0.7122093  0.7005814  0.68604651 0.67732558 0.68895349 0.69476744\n",
      " 0.65988372 0.67732558 0.68023256 0.68604651 0.6627907  0.67732558\n",
      " 0.71802326 0.71511628 0.72093023 0.72965116 0.68604651 0.72383721\n",
      " 0.71511628 0.72965116 0.7122093  0.68604651 0.71802326 0.70930233\n",
      " 0.71802326 0.72093023 0.65697674 0.69476744 0.67732558 0.7005814\n",
      " 0.69186047 0.65406977 0.68023256 0.67732558 0.68895349 0.66860465\n",
      "        nan        nan        nan        nan        nan        nan\n",
      "        nan        nan        nan        nan        nan        nan\n",
      "        nan        nan        nan        nan        nan        nan\n",
      "        nan        nan        nan        nan        nan        nan\n",
      "        nan 0.69767442 0.72093023 0.7122093  0.72965116 0.71511628\n",
      " 0.69767442 0.72674419 0.72093023 0.72965116 0.72674419 0.69476744\n",
      " 0.71802326 0.72674419 0.72674419 0.72093023 0.67732558 0.71802326\n",
      " 0.70930233 0.70639535 0.69476744 0.65697674 0.6744186  0.6744186\n",
      " 0.68604651 0.68313953 0.69186047 0.72383721 0.74418605 0.72383721\n",
      " 0.71802326 0.70348837 0.72093023 0.7122093  0.72965116 0.72674419\n",
      " 0.65406977 0.72383721 0.72383721 0.72093023 0.72383721 0.65697674\n",
      " 0.68604651 0.69476744 0.68895349 0.69767442 0.66860465 0.66860465\n",
      " 0.67732558 0.68023256 0.68895349        nan        nan        nan\n",
      "        nan        nan        nan        nan        nan        nan\n",
      "        nan        nan        nan        nan        nan        nan\n",
      "        nan        nan        nan        nan        nan        nan\n",
      "        nan        nan        nan        nan 0.69186047 0.73837209\n",
      " 0.73546512 0.72093023 0.7122093  0.6744186  0.71802326 0.73837209\n",
      " 0.72093023 0.72383721 0.72674419 0.73546512 0.72093023 0.70348837\n",
      " 0.72093023 0.66860465 0.70639535 0.70639535 0.68895349 0.69186047\n",
      " 0.6627907  0.66860465 0.65988372 0.66860465 0.68313953 0.70639535\n",
      " 0.7005814  0.72093023 0.72093023 0.7122093  0.68313953 0.72965116\n",
      " 0.72383721 0.72965116 0.71511628 0.70930233 0.71802326 0.72965116\n",
      " 0.71511628 0.7122093  0.66569767 0.7005814  0.69186047 0.68895349\n",
      " 0.69186047 0.67151163 0.69767442 0.68023256 0.6744186  0.67732558\n",
      "        nan        nan        nan        nan        nan        nan\n",
      "        nan        nan        nan        nan        nan        nan\n",
      "        nan        nan        nan        nan        nan        nan\n",
      "        nan        nan        nan        nan        nan        nan\n",
      "        nan 0.67151163 0.72383721 0.71802326 0.72093023 0.71802326\n",
      " 0.72093023 0.72383721 0.70930233 0.71802326 0.72674419 0.7122093\n",
      " 0.71802326 0.73255814 0.72674419 0.72093023 0.65988372 0.7122093\n",
      " 0.71511628 0.70639535 0.7005814  0.6627907  0.69186047 0.65988372\n",
      " 0.67151163 0.6744186  0.69476744 0.71511628 0.70639535 0.72383721\n",
      " 0.72093023 0.69476744 0.70930233 0.74418605 0.72383721 0.71802326\n",
      " 0.66860465 0.69767442 0.7122093  0.72383721 0.72383721 0.65697674\n",
      " 0.69767442 0.69476744 0.69767442 0.70930233 0.66569767 0.65988372\n",
      " 0.67732558 0.68313953 0.68604651]\n",
      "  warnings.warn(\n"
     ]
    }
   ],
   "source": [
    "# Create a random forest regressor\n",
    "rf_classifier = RandomForestClassifier()\n",
    "# grid search for hyperparameters\n",
    "param_grid = {\n",
    "    'n_estimators': [10, 50, 100, 200, 500],\n",
    "    'max_depth': [2, 5, 7, 10, 15],\n",
    "    'min_samples_split': [2, 5, 10, 20, 40],\n",
    "    'max_features' : [\"auto\", \"sqrt\", \"log2\"],\n",
    "    'class_weight': ['balanced']\n",
    "}\n",
    "grid_search = GridSearchCV(estimator=rf_classifier, param_grid=param_grid, cv=8, n_jobs=-1, verbose=2)\n",
    "grid_search.fit(X_train, y_train)\n",
    "# Get the best parameters\n",
    "best_params = grid_search.best_params_\n",
    "print(best_params)\n",
    "# Get the best model\n",
    "best_rf_classifier = grid_search.best_estimator_"
   ]
  },
  {
   "cell_type": "code",
   "execution_count": 84,
   "metadata": {},
   "outputs": [],
   "source": [
    "pred_train_rf = best_rf_classifier.predict(X_train)\n",
    "acc_train = accuracy_score(y_train, pred_train_rf)\n",
    "prec_train = precision_score(y_train,pred_train_rf, average='macro')\n",
    "recall_train = recall_score(y_train,pred_train_rf, average='macro')\n",
    "f1_train = f1_score(y_train,pred_train_rf, average='macro')\n",
    "\n",
    "pred_test_rf = best_rf_classifier.predict(X_test)\n",
    "acc_test = accuracy_score(y_test, pred_test_rf)\n",
    "prec_test = precision_score(y_test,pred_test_rf, average='macro')\n",
    "recall_test = recall_score(y_test,pred_test_rf, average='macro')\n",
    "f1_test = f1_score(y_test,pred_test_rf, average='macro')"
   ]
  },
  {
   "cell_type": "code",
   "execution_count": 74,
   "metadata": {},
   "outputs": [
    {
     "name": "stdout",
     "output_type": "stream",
     "text": [
      "**********Training Phase**********\n",
      "Train Acc: 0.9483\n",
      "Train Precision: 0.9459\n",
      "Train recall: 0.9553\n",
      "Train f1-score: 0.9503\n",
      "**********Test Phase**********\n",
      "Test Acc: 0.7907\n",
      "Test Precision: 0.8021\n",
      "Test recall: 0.7756\n",
      "Test f1-score: 0.7847\n"
     ]
    }
   ],
   "source": [
    "print(\"*\"*10 + \"Training Phase\" + \"*\"*10)\n",
    "print(\"Train Acc: %.4f\" %(acc_train))\n",
    "print(\"Train Precision: %.4f\" %(prec_train))\n",
    "print(\"Train recall: %.4f\" %(recall_train))\n",
    "print(\"Train f1-score: %.4f\" %(f1_train)) \n",
    "\n",
    "print(\"*\"*10 + \"Test Phase\" + \"*\"*10)\n",
    "print(\"Test Acc: %.4f\" %(acc_test))\n",
    "print(\"Test Precision: %.4f\" %(prec_test))\n",
    "print(\"Test recall: %.4f\" %(recall_test))\n",
    "print(\"Test f1-score: %.4f\" %(f1_test)) "
   ]
  },
  {
   "cell_type": "code",
   "execution_count": 53,
   "metadata": {},
   "outputs": [
    {
     "name": "stdout",
     "output_type": "stream",
     "text": [
      "Fitting 8 folds for each of 24000 candidates, totalling 192000 fits\n"
     ]
    },
    {
     "ename": "KeyboardInterrupt",
     "evalue": "",
     "output_type": "error",
     "traceback": [
      "\u001b[1;31m---------------------------------------------------------------------------\u001b[0m",
      "\u001b[1;31mKeyboardInterrupt\u001b[0m                         Traceback (most recent call last)",
      "Cell \u001b[1;32mIn[53], line 12\u001b[0m\n\u001b[0;32m      2\u001b[0m param_grid \u001b[38;5;241m=\u001b[39m {\n\u001b[0;32m      3\u001b[0m     \u001b[38;5;124m'\u001b[39m\u001b[38;5;124mn_estimators\u001b[39m\u001b[38;5;124m'\u001b[39m: [\u001b[38;5;241m10\u001b[39m, \u001b[38;5;241m50\u001b[39m, \u001b[38;5;241m100\u001b[39m, \u001b[38;5;241m200\u001b[39m],\n\u001b[0;32m      4\u001b[0m     \u001b[38;5;124m'\u001b[39m\u001b[38;5;124mmax_depth\u001b[39m\u001b[38;5;124m'\u001b[39m: [\u001b[38;5;241m2\u001b[39m, \u001b[38;5;241m5\u001b[39m, \u001b[38;5;241m7\u001b[39m, \u001b[38;5;241m10\u001b[39m, \u001b[38;5;241m15\u001b[39m],\n\u001b[1;32m   (...)\u001b[0m\n\u001b[0;32m      9\u001b[0m     \u001b[38;5;124m'\u001b[39m\u001b[38;5;124mmax_delta_step\u001b[39m\u001b[38;5;124m'\u001b[39m: [\u001b[38;5;241m0\u001b[39m, \u001b[38;5;241m1\u001b[39m, \u001b[38;5;241m2\u001b[39m, \u001b[38;5;241m5\u001b[39m]\n\u001b[0;32m     10\u001b[0m }\n\u001b[0;32m     11\u001b[0m grid_search \u001b[38;5;241m=\u001b[39m GridSearchCV(estimator\u001b[38;5;241m=\u001b[39mxgb_classifier, param_grid\u001b[38;5;241m=\u001b[39mparam_grid, cv\u001b[38;5;241m=\u001b[39m\u001b[38;5;241m8\u001b[39m, n_jobs\u001b[38;5;241m=\u001b[39m\u001b[38;5;241m-\u001b[39m\u001b[38;5;241m1\u001b[39m, verbose\u001b[38;5;241m=\u001b[39m\u001b[38;5;241m2\u001b[39m)\n\u001b[1;32m---> 12\u001b[0m grid_search\u001b[38;5;241m.\u001b[39mfit(X_train, y_train)\n\u001b[0;32m     13\u001b[0m \u001b[38;5;66;03m# Get the best parameters\u001b[39;00m\n\u001b[0;32m     14\u001b[0m best_params \u001b[38;5;241m=\u001b[39m grid_search\u001b[38;5;241m.\u001b[39mbest_params_\n",
      "File \u001b[1;32m~\\AppData\\Local\\anaconda3\\Lib\\site-packages\\sklearn\\base.py:1151\u001b[0m, in \u001b[0;36m_fit_context.<locals>.decorator.<locals>.wrapper\u001b[1;34m(estimator, *args, **kwargs)\u001b[0m\n\u001b[0;32m   1144\u001b[0m     estimator\u001b[38;5;241m.\u001b[39m_validate_params()\n\u001b[0;32m   1146\u001b[0m \u001b[38;5;28;01mwith\u001b[39;00m config_context(\n\u001b[0;32m   1147\u001b[0m     skip_parameter_validation\u001b[38;5;241m=\u001b[39m(\n\u001b[0;32m   1148\u001b[0m         prefer_skip_nested_validation \u001b[38;5;129;01mor\u001b[39;00m global_skip_validation\n\u001b[0;32m   1149\u001b[0m     )\n\u001b[0;32m   1150\u001b[0m ):\n\u001b[1;32m-> 1151\u001b[0m     \u001b[38;5;28;01mreturn\u001b[39;00m fit_method(estimator, \u001b[38;5;241m*\u001b[39margs, \u001b[38;5;241m*\u001b[39m\u001b[38;5;241m*\u001b[39mkwargs)\n",
      "File \u001b[1;32m~\\AppData\\Local\\anaconda3\\Lib\\site-packages\\sklearn\\model_selection\\_search.py:898\u001b[0m, in \u001b[0;36mBaseSearchCV.fit\u001b[1;34m(self, X, y, groups, **fit_params)\u001b[0m\n\u001b[0;32m    892\u001b[0m     results \u001b[38;5;241m=\u001b[39m \u001b[38;5;28mself\u001b[39m\u001b[38;5;241m.\u001b[39m_format_results(\n\u001b[0;32m    893\u001b[0m         all_candidate_params, n_splits, all_out, all_more_results\n\u001b[0;32m    894\u001b[0m     )\n\u001b[0;32m    896\u001b[0m     \u001b[38;5;28;01mreturn\u001b[39;00m results\n\u001b[1;32m--> 898\u001b[0m \u001b[38;5;28mself\u001b[39m\u001b[38;5;241m.\u001b[39m_run_search(evaluate_candidates)\n\u001b[0;32m    900\u001b[0m \u001b[38;5;66;03m# multimetric is determined here because in the case of a callable\u001b[39;00m\n\u001b[0;32m    901\u001b[0m \u001b[38;5;66;03m# self.scoring the return type is only known after calling\u001b[39;00m\n\u001b[0;32m    902\u001b[0m first_test_score \u001b[38;5;241m=\u001b[39m all_out[\u001b[38;5;241m0\u001b[39m][\u001b[38;5;124m\"\u001b[39m\u001b[38;5;124mtest_scores\u001b[39m\u001b[38;5;124m\"\u001b[39m]\n",
      "File \u001b[1;32m~\\AppData\\Local\\anaconda3\\Lib\\site-packages\\sklearn\\model_selection\\_search.py:1419\u001b[0m, in \u001b[0;36mGridSearchCV._run_search\u001b[1;34m(self, evaluate_candidates)\u001b[0m\n\u001b[0;32m   1417\u001b[0m \u001b[38;5;28;01mdef\u001b[39;00m \u001b[38;5;21m_run_search\u001b[39m(\u001b[38;5;28mself\u001b[39m, evaluate_candidates):\n\u001b[0;32m   1418\u001b[0m \u001b[38;5;250m    \u001b[39m\u001b[38;5;124;03m\"\"\"Search all candidates in param_grid\"\"\"\u001b[39;00m\n\u001b[1;32m-> 1419\u001b[0m     evaluate_candidates(ParameterGrid(\u001b[38;5;28mself\u001b[39m\u001b[38;5;241m.\u001b[39mparam_grid))\n",
      "File \u001b[1;32m~\\AppData\\Local\\anaconda3\\Lib\\site-packages\\sklearn\\model_selection\\_search.py:845\u001b[0m, in \u001b[0;36mBaseSearchCV.fit.<locals>.evaluate_candidates\u001b[1;34m(candidate_params, cv, more_results)\u001b[0m\n\u001b[0;32m    837\u001b[0m \u001b[38;5;28;01mif\u001b[39;00m \u001b[38;5;28mself\u001b[39m\u001b[38;5;241m.\u001b[39mverbose \u001b[38;5;241m>\u001b[39m \u001b[38;5;241m0\u001b[39m:\n\u001b[0;32m    838\u001b[0m     \u001b[38;5;28mprint\u001b[39m(\n\u001b[0;32m    839\u001b[0m         \u001b[38;5;124m\"\u001b[39m\u001b[38;5;124mFitting \u001b[39m\u001b[38;5;132;01m{0}\u001b[39;00m\u001b[38;5;124m folds for each of \u001b[39m\u001b[38;5;132;01m{1}\u001b[39;00m\u001b[38;5;124m candidates,\u001b[39m\u001b[38;5;124m\"\u001b[39m\n\u001b[0;32m    840\u001b[0m         \u001b[38;5;124m\"\u001b[39m\u001b[38;5;124m totalling \u001b[39m\u001b[38;5;132;01m{2}\u001b[39;00m\u001b[38;5;124m fits\u001b[39m\u001b[38;5;124m\"\u001b[39m\u001b[38;5;241m.\u001b[39mformat(\n\u001b[0;32m    841\u001b[0m             n_splits, n_candidates, n_candidates \u001b[38;5;241m*\u001b[39m n_splits\n\u001b[0;32m    842\u001b[0m         )\n\u001b[0;32m    843\u001b[0m     )\n\u001b[1;32m--> 845\u001b[0m out \u001b[38;5;241m=\u001b[39m parallel(\n\u001b[0;32m    846\u001b[0m     delayed(_fit_and_score)(\n\u001b[0;32m    847\u001b[0m         clone(base_estimator),\n\u001b[0;32m    848\u001b[0m         X,\n\u001b[0;32m    849\u001b[0m         y,\n\u001b[0;32m    850\u001b[0m         train\u001b[38;5;241m=\u001b[39mtrain,\n\u001b[0;32m    851\u001b[0m         test\u001b[38;5;241m=\u001b[39mtest,\n\u001b[0;32m    852\u001b[0m         parameters\u001b[38;5;241m=\u001b[39mparameters,\n\u001b[0;32m    853\u001b[0m         split_progress\u001b[38;5;241m=\u001b[39m(split_idx, n_splits),\n\u001b[0;32m    854\u001b[0m         candidate_progress\u001b[38;5;241m=\u001b[39m(cand_idx, n_candidates),\n\u001b[0;32m    855\u001b[0m         \u001b[38;5;241m*\u001b[39m\u001b[38;5;241m*\u001b[39mfit_and_score_kwargs,\n\u001b[0;32m    856\u001b[0m     )\n\u001b[0;32m    857\u001b[0m     \u001b[38;5;28;01mfor\u001b[39;00m (cand_idx, parameters), (split_idx, (train, test)) \u001b[38;5;129;01min\u001b[39;00m product(\n\u001b[0;32m    858\u001b[0m         \u001b[38;5;28menumerate\u001b[39m(candidate_params), \u001b[38;5;28menumerate\u001b[39m(cv\u001b[38;5;241m.\u001b[39msplit(X, y, groups))\n\u001b[0;32m    859\u001b[0m     )\n\u001b[0;32m    860\u001b[0m )\n\u001b[0;32m    862\u001b[0m \u001b[38;5;28;01mif\u001b[39;00m \u001b[38;5;28mlen\u001b[39m(out) \u001b[38;5;241m<\u001b[39m \u001b[38;5;241m1\u001b[39m:\n\u001b[0;32m    863\u001b[0m     \u001b[38;5;28;01mraise\u001b[39;00m \u001b[38;5;167;01mValueError\u001b[39;00m(\n\u001b[0;32m    864\u001b[0m         \u001b[38;5;124m\"\u001b[39m\u001b[38;5;124mNo fits were performed. \u001b[39m\u001b[38;5;124m\"\u001b[39m\n\u001b[0;32m    865\u001b[0m         \u001b[38;5;124m\"\u001b[39m\u001b[38;5;124mWas the CV iterator empty? \u001b[39m\u001b[38;5;124m\"\u001b[39m\n\u001b[0;32m    866\u001b[0m         \u001b[38;5;124m\"\u001b[39m\u001b[38;5;124mWere there no candidates?\u001b[39m\u001b[38;5;124m\"\u001b[39m\n\u001b[0;32m    867\u001b[0m     )\n",
      "File \u001b[1;32m~\\AppData\\Local\\anaconda3\\Lib\\site-packages\\sklearn\\utils\\parallel.py:65\u001b[0m, in \u001b[0;36mParallel.__call__\u001b[1;34m(self, iterable)\u001b[0m\n\u001b[0;32m     60\u001b[0m config \u001b[38;5;241m=\u001b[39m get_config()\n\u001b[0;32m     61\u001b[0m iterable_with_config \u001b[38;5;241m=\u001b[39m (\n\u001b[0;32m     62\u001b[0m     (_with_config(delayed_func, config), args, kwargs)\n\u001b[0;32m     63\u001b[0m     \u001b[38;5;28;01mfor\u001b[39;00m delayed_func, args, kwargs \u001b[38;5;129;01min\u001b[39;00m iterable\n\u001b[0;32m     64\u001b[0m )\n\u001b[1;32m---> 65\u001b[0m \u001b[38;5;28;01mreturn\u001b[39;00m \u001b[38;5;28msuper\u001b[39m()\u001b[38;5;241m.\u001b[39m\u001b[38;5;21m__call__\u001b[39m(iterable_with_config)\n",
      "File \u001b[1;32m~\\AppData\\Local\\anaconda3\\Lib\\site-packages\\joblib\\parallel.py:1098\u001b[0m, in \u001b[0;36mParallel.__call__\u001b[1;34m(self, iterable)\u001b[0m\n\u001b[0;32m   1095\u001b[0m     \u001b[38;5;28mself\u001b[39m\u001b[38;5;241m.\u001b[39m_iterating \u001b[38;5;241m=\u001b[39m \u001b[38;5;28;01mFalse\u001b[39;00m\n\u001b[0;32m   1097\u001b[0m \u001b[38;5;28;01mwith\u001b[39;00m \u001b[38;5;28mself\u001b[39m\u001b[38;5;241m.\u001b[39m_backend\u001b[38;5;241m.\u001b[39mretrieval_context():\n\u001b[1;32m-> 1098\u001b[0m     \u001b[38;5;28mself\u001b[39m\u001b[38;5;241m.\u001b[39mretrieve()\n\u001b[0;32m   1099\u001b[0m \u001b[38;5;66;03m# Make sure that we get a last message telling us we are done\u001b[39;00m\n\u001b[0;32m   1100\u001b[0m elapsed_time \u001b[38;5;241m=\u001b[39m time\u001b[38;5;241m.\u001b[39mtime() \u001b[38;5;241m-\u001b[39m \u001b[38;5;28mself\u001b[39m\u001b[38;5;241m.\u001b[39m_start_time\n",
      "File \u001b[1;32m~\\AppData\\Local\\anaconda3\\Lib\\site-packages\\joblib\\parallel.py:975\u001b[0m, in \u001b[0;36mParallel.retrieve\u001b[1;34m(self)\u001b[0m\n\u001b[0;32m    973\u001b[0m \u001b[38;5;28;01mtry\u001b[39;00m:\n\u001b[0;32m    974\u001b[0m     \u001b[38;5;28;01mif\u001b[39;00m \u001b[38;5;28mgetattr\u001b[39m(\u001b[38;5;28mself\u001b[39m\u001b[38;5;241m.\u001b[39m_backend, \u001b[38;5;124m'\u001b[39m\u001b[38;5;124msupports_timeout\u001b[39m\u001b[38;5;124m'\u001b[39m, \u001b[38;5;28;01mFalse\u001b[39;00m):\n\u001b[1;32m--> 975\u001b[0m         \u001b[38;5;28mself\u001b[39m\u001b[38;5;241m.\u001b[39m_output\u001b[38;5;241m.\u001b[39mextend(job\u001b[38;5;241m.\u001b[39mget(timeout\u001b[38;5;241m=\u001b[39m\u001b[38;5;28mself\u001b[39m\u001b[38;5;241m.\u001b[39mtimeout))\n\u001b[0;32m    976\u001b[0m     \u001b[38;5;28;01melse\u001b[39;00m:\n\u001b[0;32m    977\u001b[0m         \u001b[38;5;28mself\u001b[39m\u001b[38;5;241m.\u001b[39m_output\u001b[38;5;241m.\u001b[39mextend(job\u001b[38;5;241m.\u001b[39mget())\n",
      "File \u001b[1;32m~\\AppData\\Local\\anaconda3\\Lib\\site-packages\\joblib\\_parallel_backends.py:567\u001b[0m, in \u001b[0;36mLokyBackend.wrap_future_result\u001b[1;34m(future, timeout)\u001b[0m\n\u001b[0;32m    564\u001b[0m \u001b[38;5;250m\u001b[39m\u001b[38;5;124;03m\"\"\"Wrapper for Future.result to implement the same behaviour as\u001b[39;00m\n\u001b[0;32m    565\u001b[0m \u001b[38;5;124;03mAsyncResults.get from multiprocessing.\"\"\"\u001b[39;00m\n\u001b[0;32m    566\u001b[0m \u001b[38;5;28;01mtry\u001b[39;00m:\n\u001b[1;32m--> 567\u001b[0m     \u001b[38;5;28;01mreturn\u001b[39;00m future\u001b[38;5;241m.\u001b[39mresult(timeout\u001b[38;5;241m=\u001b[39mtimeout)\n\u001b[0;32m    568\u001b[0m \u001b[38;5;28;01mexcept\u001b[39;00m CfTimeoutError \u001b[38;5;28;01mas\u001b[39;00m e:\n\u001b[0;32m    569\u001b[0m     \u001b[38;5;28;01mraise\u001b[39;00m \u001b[38;5;167;01mTimeoutError\u001b[39;00m \u001b[38;5;28;01mfrom\u001b[39;00m \u001b[38;5;21;01me\u001b[39;00m\n",
      "File \u001b[1;32m~\\AppData\\Local\\anaconda3\\Lib\\concurrent\\futures\\_base.py:451\u001b[0m, in \u001b[0;36mFuture.result\u001b[1;34m(self, timeout)\u001b[0m\n\u001b[0;32m    448\u001b[0m \u001b[38;5;28;01melif\u001b[39;00m \u001b[38;5;28mself\u001b[39m\u001b[38;5;241m.\u001b[39m_state \u001b[38;5;241m==\u001b[39m FINISHED:\n\u001b[0;32m    449\u001b[0m     \u001b[38;5;28;01mreturn\u001b[39;00m \u001b[38;5;28mself\u001b[39m\u001b[38;5;241m.\u001b[39m__get_result()\n\u001b[1;32m--> 451\u001b[0m \u001b[38;5;28mself\u001b[39m\u001b[38;5;241m.\u001b[39m_condition\u001b[38;5;241m.\u001b[39mwait(timeout)\n\u001b[0;32m    453\u001b[0m \u001b[38;5;28;01mif\u001b[39;00m \u001b[38;5;28mself\u001b[39m\u001b[38;5;241m.\u001b[39m_state \u001b[38;5;129;01min\u001b[39;00m [CANCELLED, CANCELLED_AND_NOTIFIED]:\n\u001b[0;32m    454\u001b[0m     \u001b[38;5;28;01mraise\u001b[39;00m CancelledError()\n",
      "File \u001b[1;32m~\\AppData\\Local\\anaconda3\\Lib\\threading.py:320\u001b[0m, in \u001b[0;36mCondition.wait\u001b[1;34m(self, timeout)\u001b[0m\n\u001b[0;32m    318\u001b[0m \u001b[38;5;28;01mtry\u001b[39;00m:    \u001b[38;5;66;03m# restore state no matter what (e.g., KeyboardInterrupt)\u001b[39;00m\n\u001b[0;32m    319\u001b[0m     \u001b[38;5;28;01mif\u001b[39;00m timeout \u001b[38;5;129;01mis\u001b[39;00m \u001b[38;5;28;01mNone\u001b[39;00m:\n\u001b[1;32m--> 320\u001b[0m         waiter\u001b[38;5;241m.\u001b[39macquire()\n\u001b[0;32m    321\u001b[0m         gotit \u001b[38;5;241m=\u001b[39m \u001b[38;5;28;01mTrue\u001b[39;00m\n\u001b[0;32m    322\u001b[0m     \u001b[38;5;28;01melse\u001b[39;00m:\n",
      "\u001b[1;31mKeyboardInterrupt\u001b[0m: "
     ]
    }
   ],
   "source": [
    "xgb_classifier = xgb.XGBClassifier()\n",
    "param_grid = {\n",
    "    'n_estimators': [10, 50, 100, 200],\n",
    "    'max_depth': [2, 5, 7, 10, 15],\n",
    "    'subsample': [1, 0.95, 0.75, 0.5, 0.35],\n",
    "    'lambda': [1.5, 1, 0.75, 0.5, 0.2],\n",
    "    'alpha': [5, 2, 1, 0.5],\n",
    "    'eta': [0.05, 0.1, 0.3],\n",
    "    'max_delta_step': [0, 1, 2, 5]\n",
    "}\n",
    "grid_search = GridSearchCV(estimator=xgb_classifier, param_grid=param_grid, cv=8, n_jobs=-1, verbose=2)\n",
    "grid_search.fit(X_train, y_train)\n",
    "# Get the best parameters\n",
    "best_params = grid_search.best_params_\n",
    "print(best_params)\n",
    "# Get the best model\n",
    "best_xgb_classifier = grid_search.best_estimator_"
   ]
  },
  {
   "cell_type": "code",
   "execution_count": 63,
   "metadata": {},
   "outputs": [],
   "source": [
    "pred_train_xgbm = best_xgb_classifier.predict(X_train)\n",
    "acc_train = accuracy_score(y_train, pred_train_xgbm)\n",
    "prec_train = precision_score(y_train,pred_train_xgbm, average='macro')\n",
    "recall_train = recall_score(y_train,pred_train_xgbm, average='macro')\n",
    "f1_train = f1_score(y_train,pred_train_xgbm, average='macro')\n",
    "\n",
    "pred_test_xgbm = best_xgb_classifier.predict(X_test)\n",
    "acc_test = accuracy_score(y_test, pred_test_xgbm)\n",
    "prec_test = precision_score(y_test,pred_test_xgbm, average='macro')\n",
    "recall_test = recall_score(y_test,pred_test_xgbm, average='macro')\n",
    "f1_test = f1_score(y_test,pred_test_xgbm, average='macro')"
   ]
  },
  {
   "cell_type": "code",
   "execution_count": 64,
   "metadata": {},
   "outputs": [
    {
     "name": "stdout",
     "output_type": "stream",
     "text": [
      "**********Training Phase**********\n",
      "Train Acc: 0.8579\n",
      "Train Precision: 0.8600\n",
      "Train recall: 0.7862\n",
      "Train f1-score: 0.8122\n",
      "**********Test Phase**********\n",
      "Test Acc: 0.7442\n",
      "Test Precision: 0.7421\n",
      "Test recall: 0.6762\n",
      "Test f1-score: 0.6935\n"
     ]
    }
   ],
   "source": [
    "print(\"*\"*10 + \"Training Phase\" + \"*\"*10)\n",
    "print(\"Train Acc: %.4f\" %(acc_train))\n",
    "print(\"Train Precision: %.4f\" %(prec_train))\n",
    "print(\"Train recall: %.4f\" %(recall_train))\n",
    "print(\"Train f1-score: %.4f\" %(f1_train)) \n",
    "\n",
    "print(\"*\"*10 + \"Test Phase\" + \"*\"*10)\n",
    "print(\"Test Acc: %.4f\" %(acc_test))\n",
    "print(\"Test Precision: %.4f\" %(prec_test))\n",
    "print(\"Test recall: %.4f\" %(recall_test))\n",
    "print(\"Test f1-score: %.4f\" %(f1_test)) "
   ]
  },
  {
   "cell_type": "markdown",
   "metadata": {},
   "source": [
    "# Global interpretation"
   ]
  },
  {
   "cell_type": "code",
   "execution_count": 191,
   "metadata": {},
   "outputs": [
    {
     "name": "stdout",
     "output_type": "stream",
     "text": [
      "Random Forest Feature Importance:\n",
      "EGroup1: 0.263428\n",
      "EGroup2: 0.094055\n",
      "EGroup3: 0.104388\n",
      "EGroup4: 0.059457\n",
      "Ggroup: 0.069095\n",
      "SGroup1: 0.061267\n",
      "SGroup2: 0.104310\n",
      "SGroup3: 0.090591\n",
      "SGroup4: 0.077851\n",
      "Controversy Score: 0.075557\n"
     ]
    }
   ],
   "source": [
    "%matplotlib qt5\n",
    "#%% Global Interpretation\n",
    "# Feature Importance (Criterion: MSE)\n",
    "rf_fi = best_rf_classifier.feature_importances_\n",
    "#print(\"*\"*50)\n",
    "print(\"Random Forest Feature Importance:\")\n",
    "for i in range(gbm_fi.shape[0]):\n",
    "    print(\"{}: {:.6f}\".format(X_train.columns[i], gbm_fi[i]))\n",
    "\n",
    "w_list = rf_fi\n",
    "feature_names = [X_train.columns[i] for i in range(len(w_list))]\n",
    "name, w_list = zip(*sorted(zip(feature_names, list(w_list)),key=lambda x: x[1], reverse=False))\n",
    "plt.figure()\n",
    "plt.title(\"Feature Importance for Random Forest\",fontsize=16)\n",
    "plt.rcParams[\"axes.labelsize\"] = 14\n",
    "plt.rcParams[\"xtick.labelsize\"] = \"large\"\n",
    "plt.rcParams[\"ytick.labelsize\"] = \"large\"\n",
    "plt.barh(name, w_list,color=\"royalblue\")\n",
    "plt.grid(True, axis=\"x\")\n",
    "plt.xlabel(\"Feature Importance\")\n",
    "plt.ylabel(\"Feature Name\")\n",
    "for i in range(len(weight)):\n",
    "    plt.text(weight[i]+0.03, name[i], \"%.4f\" % weight[i], ha='center', fontsize=12)"
   ]
  },
  {
   "cell_type": "code",
   "execution_count": 111,
   "metadata": {},
   "outputs": [
    {
     "data": {
      "text/plain": [
       "(0.0594566675312935,\n",
       " 0.061267376272436884,\n",
       " 0.06909486836233238,\n",
       " 0.07555652305054686,\n",
       " 0.07785129510845404,\n",
       " 0.0905914458878068,\n",
       " 0.09405546108627315,\n",
       " 0.10430954508302386,\n",
       " 0.10438834840591824,\n",
       " 0.2634284692119144)"
      ]
     },
     "execution_count": 111,
     "metadata": {},
     "output_type": "execute_result"
    }
   ],
   "source": [
    "w_list"
   ]
  },
  {
   "cell_type": "markdown",
   "metadata": {},
   "source": [
    "# PDP"
   ]
  },
  {
   "cell_type": "code",
   "execution_count": 194,
   "metadata": {},
   "outputs": [],
   "source": [
    "%matplotlib qt5\n",
    "features = [i for i in range(6)]  # Replace with the indices or names of the features you want to inspect\n",
    "\n",
    "# Generate the PDP\n",
    "fig, ax = plt.subplots()\n",
    "PartialDependenceDisplay.from_estimator(best_rf_classifier, X_train, features, ax=ax, target = 2)\n",
    "\n",
    "# Show the plot\n",
    "plt.tight_layout()\n",
    "plt.show()"
   ]
  },
  {
   "cell_type": "code",
   "execution_count": 192,
   "metadata": {},
   "outputs": [
    {
     "name": "stderr",
     "output_type": "stream",
     "text": [
      "C:\\Users\\joel.sarkisyan\\AppData\\Local\\Temp\\ipykernel_21336\\870307692.py:4: MatplotlibDeprecationWarning: Auto-removal of overlapping axes is deprecated since 3.6 and will be removed two minor releases later; explicitly call ax.remove() as needed.\n",
      "  ax1 = plt.subplot(1, 3, 1)\n"
     ]
    },
    {
     "ename": "NameError",
     "evalue": "name 'pred_test_xgbm' is not defined",
     "output_type": "error",
     "traceback": [
      "\u001b[1;31m---------------------------------------------------------------------------\u001b[0m",
      "\u001b[1;31mNameError\u001b[0m                                 Traceback (most recent call last)",
      "Cell \u001b[1;32mIn[192], line 23\u001b[0m\n\u001b[0;32m     20\u001b[0m ax2\u001b[38;5;241m.\u001b[39mset_ylabel(\u001b[38;5;124m'\u001b[39m\u001b[38;5;124mTrue Class\u001b[39m\u001b[38;5;124m'\u001b[39m, fontsize\u001b[38;5;241m=\u001b[39m\u001b[38;5;241m10\u001b[39m)\n\u001b[0;32m     22\u001b[0m ax3 \u001b[38;5;241m=\u001b[39m plt\u001b[38;5;241m.\u001b[39msubplot(\u001b[38;5;241m1\u001b[39m, \u001b[38;5;241m3\u001b[39m, \u001b[38;5;241m3\u001b[39m)\n\u001b[1;32m---> 23\u001b[0m confMat\u001b[38;5;241m=\u001b[39mconfusion_matrix(y_test, pred_test_xgbm)\n\u001b[0;32m     24\u001b[0m confMat\u001b[38;5;241m=\u001b[39mpd\u001b[38;5;241m.\u001b[39mDataFrame(confMat)\n\u001b[0;32m     25\u001b[0m confMat\u001b[38;5;241m=\u001b[39mconfMat\u001b[38;5;241m.\u001b[39mrename(index\u001b[38;5;241m=\u001b[39mlabel_map, columns\u001b[38;5;241m=\u001b[39m label_map)\n",
      "\u001b[1;31mNameError\u001b[0m: name 'pred_test_xgbm' is not defined"
     ]
    }
   ],
   "source": [
    "label_map = {0: 'Low', 1: 'Medium', 2: 'High'}\n",
    "\n",
    "plt.subplots(figsize=(16, 4))\n",
    "ax1 = plt.subplot(1, 3, 1)\n",
    "confMat=confusion_matrix(y_test, pred_test_logist)\n",
    "confMat=pd.DataFrame(confMat)\n",
    "confMat=confMat.rename(index=label_map, columns= label_map)\n",
    "ax1=sns.heatmap(confMat, fmt='d',cmap='Greys',annot=True)\n",
    "ax1.set_title('Confusion Matrix on Test Set (Logistic Regression)', fontsize=12)\n",
    "ax1.set_xlabel('Predicted Class', fontsize=10)\n",
    "ax1.set_ylabel('True Class', fontsize=10)\n",
    "\n",
    "ax2 = plt.subplot(1, 3, 2)\n",
    "confMat=confusion_matrix(y_test, pred_test_rf)\n",
    "confMat=pd.DataFrame(confMat)\n",
    "confMat=confMat.rename(index=label_map, columns= label_map)\n",
    "ax2=sns.heatmap(confMat, fmt='d',cmap='Greys',annot=True)\n",
    "ax2.set_title('Confusion Matrix on Test Set (Random Forest)', fontsize=12)\n",
    "ax2.set_xlabel('Predicted Class', fontsize=10)\n",
    "ax2.set_ylabel('True Class', fontsize=10)\n",
    "\n",
    "ax3 = plt.subplot(1, 3, 3)\n",
    "confMat=confusion_matrix(y_test, pred_test_xgbm)\n",
    "confMat=pd.DataFrame(confMat)\n",
    "confMat=confMat.rename(index=label_map, columns= label_map)\n",
    "ax3=sns.heatmap(confMat, fmt='d',cmap='Greys',annot=True)\n",
    "ax3.set_title('Confusion Matrix on Test Set (XGBoost)', fontsize=12)\n",
    "ax3.set_xlabel('Predicted Class', fontsize=10)\n",
    "ax3.set_ylabel('True Class', fontsize=10)\n",
    "\n",
    "plt.show()"
   ]
  },
  {
   "cell_type": "code",
   "execution_count": null,
   "metadata": {},
   "outputs": [],
   "source": []
  }
 ],
 "metadata": {
  "kernelspec": {
   "display_name": "Python 3 (ipykernel)",
   "language": "python",
   "name": "python3"
  },
  "language_info": {
   "codemirror_mode": {
    "name": "ipython",
    "version": 3
   },
   "file_extension": ".py",
   "mimetype": "text/x-python",
   "name": "python",
   "nbconvert_exporter": "python",
   "pygments_lexer": "ipython3",
   "version": "3.11.5"
  }
 },
 "nbformat": 4,
 "nbformat_minor": 2
}
