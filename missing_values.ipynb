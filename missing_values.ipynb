{
 "cells": [
  {
   "cell_type": "code",
   "execution_count": 1,
   "metadata": {},
   "outputs": [],
   "source": [
    "# Import required libs\n",
    "import numpy as np\n",
    "import pandas as pd\n",
    "import matplotlib.pyplot as plt\n",
    "import seaborn as sns\n",
    "from sklearn.model_selection import train_test_split\n",
    "from sklearn.model_selection import GridSearchCV\n",
    "import xgboost as xgb\n",
    "from sklearn.ensemble import RandomForestClassifier\n",
    "from sklearn.linear_model import LogisticRegression\n",
    "from sklearn.metrics import accuracy_score,precision_score,f1_score,recall_score\n",
    "from sklearn.metrics import confusion_matrix"
   ]
  },
  {
   "cell_type": "code",
   "execution_count": 2,
   "metadata": {},
   "outputs": [],
   "source": [
    "# Read the dataset\n",
    "dataset = pd.read_excel('esg-dataset.xlsx')"
   ]
  },
  {
   "cell_type": "code",
   "execution_count": 3,
   "metadata": {},
   "outputs": [],
   "source": [
    "## Selecting the features and target variable\n",
    "# Controversy Level and Controversy Score reflect the same infomation (highly correlated). So, we can drop one of them.\n",
    "interested_features = ['EGroup1',\n",
    "                       'EGroup2',\n",
    "                       'EGroup3',\n",
    "                       'EGroup4',\n",
    "                       'Ggroup',\n",
    "                       'SGroup1',\n",
    "                       'SGroup2',\n",
    "                       'SGroup3',\n",
    "                       'SGroup4',\n",
    "                       'Controversy Score']\n",
    "target_var = 'ESG_Loan Approval'"
   ]
  },
  {
   "cell_type": "markdown",
   "metadata": {},
   "source": [
    "## Missing Value Detection and Filling"
   ]
  },
  {
   "cell_type": "code",
   "execution_count": 7,
   "metadata": {},
   "outputs": [
    {
     "name": "stdout",
     "output_type": "stream",
     "text": [
      "    EGroup1 EGroup2 EGroup3 EGroup4 Ggroup SGroup1 SGroup2 SGroup3 SGroup4  \\\n",
      "0         A       A       A       A      A       A       A       D       D   \n",
      "1         A       A       A       A      A       A       A       A       A   \n",
      "2         A       A       A       A      A       A       A       A       A   \n",
      "3         B       B       A       A      A       C       A       A       A   \n",
      "4         B       B       D       A      A       A       A       A       C   \n",
      "..      ...     ...     ...     ...    ...     ...     ...     ...     ...   \n",
      "425       D       D       D       D      D       D       D       D       C   \n",
      "426       C       C       A       D      D       B       B       D       A   \n",
      "427       D       D       C       A      D       D       D       D       A   \n",
      "428       D       D       D       D      C       D       C       D       C   \n",
      "429       D       B       D       C      C       C       B       C       C   \n",
      "\n",
      "     Controversy Score  \n",
      "0                  2.0  \n",
      "1                  1.0  \n",
      "2                  1.0  \n",
      "3                  2.0  \n",
      "4                  1.0  \n",
      "..                 ...  \n",
      "425                2.0  \n",
      "426                4.0  \n",
      "427                3.0  \n",
      "428                3.0  \n",
      "429                2.0  \n",
      "\n",
      "[430 rows x 10 columns]\n"
     ]
    }
   ],
   "source": [
    "features = dataset[interested_features].copy()\n",
    "target = dataset[target_var]\n",
    "\n",
    "# Fill the controversy Score with the mode\n",
    "mode = features[\"Controversy Score\"].mode()[0]\n",
    "features.loc[:,\"Controversy Score\"] = features[\"Controversy Score\"].replace(np.nan, mode)\n",
    "print(features)"
   ]
  },
  {
   "cell_type": "code",
   "execution_count": 8,
   "metadata": {},
   "outputs": [
    {
     "name": "stdout",
     "output_type": "stream",
     "text": [
      "    EGroup1 EGroup2 EGroup3 EGroup4 Ggroup SGroup1 SGroup2 SGroup3 SGroup4  \\\n",
      "0         A       A       A       A      A       A       A       D       D   \n",
      "1         A       A       A       A      A       A       A       A       A   \n",
      "2         A       A       A       A      A       A       A       A       A   \n",
      "3         B       B       A       A      A       C       A       A       A   \n",
      "4         B       B       D       A      A       A       A       A       C   \n",
      "..      ...     ...     ...     ...    ...     ...     ...     ...     ...   \n",
      "425       D       D       D       D      D       D       D       D       C   \n",
      "426       C       C       A       D      D       B       B       D       A   \n",
      "427       D       D       C       A      D       D       D       D       A   \n",
      "428       D       D       D       D      C       D       C       D       C   \n",
      "429       D       B       D       C      C       C       B       C       C   \n",
      "\n",
      "     Controversy Score  \n",
      "0                  2.0  \n",
      "1                  1.0  \n",
      "2                  1.0  \n",
      "3                  1.0  \n",
      "4                  1.0  \n",
      "..                 ...  \n",
      "425                2.0  \n",
      "426                4.0  \n",
      "427                3.0  \n",
      "428                3.0  \n",
      "429                2.0  \n",
      "\n",
      "[430 rows x 10 columns]\n"
     ]
    }
   ],
   "source": [
    "# Imputing with low scores\n",
    "\n",
    "# Create a copy of the features\n",
    "features_low = dataset[interested_features].copy()\n",
    "\n",
    "features_low['Controversy Score'].fillna(1.0, inplace=True)\n",
    "\n",
    "print(features_low)"
   ]
  },
  {
   "cell_type": "code",
   "execution_count": 9,
   "metadata": {},
   "outputs": [
    {
     "name": "stdout",
     "output_type": "stream",
     "text": [
      "    EGroup1 EGroup2 EGroup3 EGroup4 Ggroup SGroup1 SGroup2 SGroup3 SGroup4  \\\n",
      "0         A       A       A       A      A       A       A       D       D   \n",
      "1         A       A       A       A      A       A       A       A       A   \n",
      "2         A       A       A       A      A       A       A       A       A   \n",
      "3         B       B       A       A      A       C       A       A       A   \n",
      "4         B       B       D       A      A       A       A       A       C   \n",
      "..      ...     ...     ...     ...    ...     ...     ...     ...     ...   \n",
      "425       D       D       D       D      D       D       D       D       C   \n",
      "426       C       C       A       D      D       B       B       D       A   \n",
      "427       D       D       C       A      D       D       D       D       A   \n",
      "428       D       D       D       D      C       D       C       D       C   \n",
      "429       D       B       D       C      C       C       B       C       C   \n",
      "\n",
      "     Controversy Score  \n",
      "0                  2.0  \n",
      "1                  1.0  \n",
      "2                  1.0  \n",
      "3                  2.0  \n",
      "4                  1.0  \n",
      "..                 ...  \n",
      "425                2.0  \n",
      "426                4.0  \n",
      "427                3.0  \n",
      "428                3.0  \n",
      "429                2.0  \n",
      "\n",
      "[430 rows x 10 columns]\n"
     ]
    }
   ],
   "source": [
    "# Imputing random values\n",
    "\n",
    "features_random = dataset[interested_features].copy()\n",
    "\n",
    "# Function to perform random imputation\n",
    "def random_imputation(df, column_name):\n",
    "    np.random.seed(42)  # Set the seed for reproducibility\n",
    "    non_missing_values = df[column_name].dropna().values\n",
    "    imputed_values = df[column_name].apply(\n",
    "        lambda x: np.random.choice(non_missing_values) if np.isnan(x) else x\n",
    "    )\n",
    "    return imputed_values\n",
    "\n",
    "# Apply random imputation\n",
    "features_random['Controversy Score'] = random_imputation(features_random, 'Controversy Score')\n",
    "\n",
    "print(features_random)"
   ]
  },
  {
   "cell_type": "markdown",
   "metadata": {},
   "source": [
    "## Data Transformation"
   ]
  },
  {
   "cell_type": "code",
   "execution_count": 10,
   "metadata": {},
   "outputs": [
    {
     "name": "stdout",
     "output_type": "stream",
     "text": [
      "     EGroup1  EGroup2  EGroup3  EGroup4  Ggroup  SGroup1  SGroup2  SGroup3  \\\n",
      "0          3        3        3        3       3        3        3        0   \n",
      "1          3        3        3        3       3        3        3        3   \n",
      "2          3        3        3        3       3        3        3        3   \n",
      "3          2        2        3        3       3        1        3        3   \n",
      "4          2        2        0        3       3        3        3        3   \n",
      "..       ...      ...      ...      ...     ...      ...      ...      ...   \n",
      "425        0        0        0        0       0        0        0        0   \n",
      "426        1        1        3        0       0        2        2        0   \n",
      "427        0        0        1        3       0        0        0        0   \n",
      "428        0        0        0        0       1        0        1        0   \n",
      "429        0        2        0        1       1        1        2        1   \n",
      "\n",
      "     SGroup4  Controversy Score  \n",
      "0          0                  2  \n",
      "1          3                  1  \n",
      "2          3                  1  \n",
      "3          3                  2  \n",
      "4          1                  1  \n",
      "..       ...                ...  \n",
      "425        1                  2  \n",
      "426        3                  4  \n",
      "427        3                  3  \n",
      "428        1                  3  \n",
      "429        1                  2  \n",
      "\n",
      "[430 rows x 10 columns]\n"
     ]
    }
   ],
   "source": [
    "# Encode the categorical variables using one-hot encoding\n",
    "cat_featrues = ['EGroup1',\n",
    "                'EGroup2',\n",
    "                'EGroup3',\n",
    "                'EGroup4',\n",
    "                'Ggroup',\n",
    "                'SGroup1',\n",
    "                'SGroup2',\n",
    "                'SGroup3',\n",
    "                'SGroup4']\n",
    "# features = pd.get_dummies(features, columns=cat_featrues, drop_first=False, dtype = int)\n",
    "# mode imputation\n",
    "cat_mapping = {\"A\": int(3), \"B\": int(2), \"C\": int(1), \"D\": int(0)}\n",
    "for feature in cat_featrues:\n",
    "    features.loc[:,feature] = features[feature].replace(cat_mapping)\n",
    "features = features.astype(int)\n",
    "print(features)"
   ]
  },
  {
   "cell_type": "code",
   "execution_count": 11,
   "metadata": {},
   "outputs": [
    {
     "name": "stdout",
     "output_type": "stream",
     "text": [
      "     EGroup1  EGroup2  EGroup3  EGroup4  Ggroup  SGroup1  SGroup2  SGroup3  \\\n",
      "0          3        3        3        3       3        3        3        0   \n",
      "1          3        3        3        3       3        3        3        3   \n",
      "2          3        3        3        3       3        3        3        3   \n",
      "3          2        2        3        3       3        1        3        3   \n",
      "4          2        2        0        3       3        3        3        3   \n",
      "..       ...      ...      ...      ...     ...      ...      ...      ...   \n",
      "425        0        0        0        0       0        0        0        0   \n",
      "426        1        1        3        0       0        2        2        0   \n",
      "427        0        0        1        3       0        0        0        0   \n",
      "428        0        0        0        0       1        0        1        0   \n",
      "429        0        2        0        1       1        1        2        1   \n",
      "\n",
      "     SGroup4  Controversy Score  \n",
      "0          0                  2  \n",
      "1          3                  1  \n",
      "2          3                  1  \n",
      "3          3                  1  \n",
      "4          1                  1  \n",
      "..       ...                ...  \n",
      "425        1                  2  \n",
      "426        3                  4  \n",
      "427        3                  3  \n",
      "428        1                  3  \n",
      "429        1                  2  \n",
      "\n",
      "[430 rows x 10 columns]\n"
     ]
    }
   ],
   "source": [
    "# Encode the categorical variables using one-hot encoding\n",
    "cat_featrues = ['EGroup1',\n",
    "                'EGroup2',\n",
    "                'EGroup3',\n",
    "                'EGroup4',\n",
    "                'Ggroup',\n",
    "                'SGroup1',\n",
    "                'SGroup2',\n",
    "                'SGroup3',\n",
    "                'SGroup4']\n",
    "# features = pd.get_dummies(features, columns=cat_featrues, drop_first=False, dtype = int)\n",
    "# low score imputation\n",
    "cat_mapping = {\"A\": int(3), \"B\": int(2), \"C\": int(1), \"D\": int(0)}\n",
    "for feature in cat_featrues:\n",
    "    features_low.loc[:,feature] = features_low[feature].replace(cat_mapping)\n",
    "features_low = features_low.astype(int)\n",
    "print(features_low)"
   ]
  },
  {
   "cell_type": "code",
   "execution_count": 12,
   "metadata": {},
   "outputs": [
    {
     "name": "stdout",
     "output_type": "stream",
     "text": [
      "     EGroup1  EGroup2  EGroup3  EGroup4  Ggroup  SGroup1  SGroup2  SGroup3  \\\n",
      "0          3        3        3        3       3        3        3        0   \n",
      "1          3        3        3        3       3        3        3        3   \n",
      "2          3        3        3        3       3        3        3        3   \n",
      "3          2        2        3        3       3        1        3        3   \n",
      "4          2        2        0        3       3        3        3        3   \n",
      "..       ...      ...      ...      ...     ...      ...      ...      ...   \n",
      "425        0        0        0        0       0        0        0        0   \n",
      "426        1        1        3        0       0        2        2        0   \n",
      "427        0        0        1        3       0        0        0        0   \n",
      "428        0        0        0        0       1        0        1        0   \n",
      "429        0        2        0        1       1        1        2        1   \n",
      "\n",
      "     SGroup4  Controversy Score  \n",
      "0          0                  2  \n",
      "1          3                  1  \n",
      "2          3                  1  \n",
      "3          3                  2  \n",
      "4          1                  1  \n",
      "..       ...                ...  \n",
      "425        1                  2  \n",
      "426        3                  4  \n",
      "427        3                  3  \n",
      "428        1                  3  \n",
      "429        1                  2  \n",
      "\n",
      "[430 rows x 10 columns]\n"
     ]
    }
   ],
   "source": [
    "# Encode the categorical variables using one-hot encoding\n",
    "cat_featrues = ['EGroup1',\n",
    "                'EGroup2',\n",
    "                'EGroup3',\n",
    "                'EGroup4',\n",
    "                'Ggroup',\n",
    "                'SGroup1',\n",
    "                'SGroup2',\n",
    "                'SGroup3',\n",
    "                'SGroup4']\n",
    "# features = pd.get_dummies(features, columns=cat_featrues, drop_first=False, dtype = int)\n",
    "# random imputation\n",
    "cat_mapping = {\"A\": int(3), \"B\": int(2), \"C\": int(1), \"D\": int(0)}\n",
    "for feature in cat_featrues:\n",
    "    features_random.loc[:,feature] = features_random[feature].replace(cat_mapping)\n",
    "features_random = features_random.astype(int)\n",
    "print(features_random)"
   ]
  },
  {
   "cell_type": "code",
   "execution_count": 13,
   "metadata": {},
   "outputs": [],
   "source": [
    "# Transform the target variable from categorical to numerical\n",
    "target_map = {\"High\": int(2), \"Medium\": int(1), \"Low\": int(0)}\n",
    "target = target.replace(target_map).astype(int)"
   ]
  },
  {
   "cell_type": "markdown",
   "metadata": {},
   "source": [
    "## Modelling"
   ]
  },
  {
   "cell_type": "markdown",
   "metadata": {},
   "source": [
    "### Model selection: Logistic Regression"
   ]
  },
  {
   "cell_type": "markdown",
   "metadata": {},
   "source": [
    "1. Mode imputation"
   ]
  },
  {
   "cell_type": "code",
   "execution_count": 14,
   "metadata": {},
   "outputs": [],
   "source": [
    "# Split the dataset into training and testing sets \n",
    "X_train, X_test, y_train, y_test = train_test_split(features, target, test_size=0.2, random_state=42)"
   ]
  },
  {
   "cell_type": "code",
   "execution_count": 15,
   "metadata": {},
   "outputs": [
    {
     "name": "stdout",
     "output_type": "stream",
     "text": [
      "Fitting 8 folds for each of 12 candidates, totalling 96 fits\n"
     ]
    },
    {
     "name": "stderr",
     "output_type": "stream",
     "text": [
      "/opt/conda/lib/python3.11/site-packages/sklearn/linear_model/_logistic.py:1183: FutureWarning: `penalty='none'`has been deprecated in 1.2 and will be removed in 1.4. To keep the past behaviour, set `penalty=None`.\n",
      "  warnings.warn(\n",
      "/opt/conda/lib/python3.11/site-packages/sklearn/linear_model/_logistic.py:1193: UserWarning: Setting penalty=None will ignore the C and l1_ratio parameters\n",
      "  warnings.warn(\n",
      "/opt/conda/lib/python3.11/site-packages/sklearn/linear_model/_logistic.py:1183: FutureWarning: `penalty='none'`has been deprecated in 1.2 and will be removed in 1.4. To keep the past behaviour, set `penalty=None`.\n",
      "  warnings.warn(\n",
      "/opt/conda/lib/python3.11/site-packages/sklearn/linear_model/_logistic.py:1193: UserWarning: Setting penalty=None will ignore the C and l1_ratio parameters\n",
      "  warnings.warn(\n",
      "/opt/conda/lib/python3.11/site-packages/sklearn/linear_model/_logistic.py:1183: FutureWarning: `penalty='none'`has been deprecated in 1.2 and will be removed in 1.4. To keep the past behaviour, set `penalty=None`.\n",
      "  warnings.warn(\n",
      "/opt/conda/lib/python3.11/site-packages/sklearn/linear_model/_logistic.py:1193: UserWarning: Setting penalty=None will ignore the C and l1_ratio parameters\n",
      "  warnings.warn(\n",
      "/opt/conda/lib/python3.11/site-packages/sklearn/linear_model/_logistic.py:1183: FutureWarning: `penalty='none'`has been deprecated in 1.2 and will be removed in 1.4. To keep the past behaviour, set `penalty=None`.\n",
      "  warnings.warn(\n",
      "/opt/conda/lib/python3.11/site-packages/sklearn/linear_model/_logistic.py:1193: UserWarning: Setting penalty=None will ignore the C and l1_ratio parameters\n",
      "  warnings.warn(\n",
      "/opt/conda/lib/python3.11/site-packages/sklearn/linear_model/_logistic.py:1183: FutureWarning: `penalty='none'`has been deprecated in 1.2 and will be removed in 1.4. To keep the past behaviour, set `penalty=None`.\n",
      "  warnings.warn(\n",
      "/opt/conda/lib/python3.11/site-packages/sklearn/linear_model/_logistic.py:1193: UserWarning: Setting penalty=None will ignore the C and l1_ratio parameters\n",
      "  warnings.warn(\n",
      "/opt/conda/lib/python3.11/site-packages/sklearn/linear_model/_logistic.py:1183: FutureWarning: `penalty='none'`has been deprecated in 1.2 and will be removed in 1.4. To keep the past behaviour, set `penalty=None`.\n",
      "  warnings.warn(\n",
      "/opt/conda/lib/python3.11/site-packages/sklearn/linear_model/_logistic.py:1193: UserWarning: Setting penalty=None will ignore the C and l1_ratio parameters\n",
      "  warnings.warn(\n",
      "/opt/conda/lib/python3.11/site-packages/sklearn/linear_model/_logistic.py:1183: FutureWarning: `penalty='none'`has been deprecated in 1.2 and will be removed in 1.4. To keep the past behaviour, set `penalty=None`.\n",
      "  warnings.warn(\n",
      "/opt/conda/lib/python3.11/site-packages/sklearn/linear_model/_logistic.py:1193: UserWarning: Setting penalty=None will ignore the C and l1_ratio parameters\n",
      "  warnings.warn(\n",
      "/opt/conda/lib/python3.11/site-packages/sklearn/linear_model/_logistic.py:1183: FutureWarning: `penalty='none'`has been deprecated in 1.2 and will be removed in 1.4. To keep the past behaviour, set `penalty=None`.\n",
      "  warnings.warn(\n",
      "/opt/conda/lib/python3.11/site-packages/sklearn/linear_model/_logistic.py:1193: UserWarning: Setting penalty=None will ignore the C and l1_ratio parameters\n",
      "  warnings.warn(\n",
      "/opt/conda/lib/python3.11/site-packages/sklearn/linear_model/_logistic.py:1183: FutureWarning: `penalty='none'`has been deprecated in 1.2 and will be removed in 1.4. To keep the past behaviour, set `penalty=None`.\n",
      "  warnings.warn(\n",
      "/opt/conda/lib/python3.11/site-packages/sklearn/linear_model/_logistic.py:1193: UserWarning: Setting penalty=None will ignore the C and l1_ratio parameters\n",
      "  warnings.warn(\n",
      "/opt/conda/lib/python3.11/site-packages/sklearn/linear_model/_logistic.py:1183: FutureWarning: `penalty='none'`has been deprecated in 1.2 and will be removed in 1.4. To keep the past behaviour, set `penalty=None`.\n",
      "  warnings.warn(\n",
      "/opt/conda/lib/python3.11/site-packages/sklearn/linear_model/_logistic.py:1193: UserWarning: Setting penalty=None will ignore the C and l1_ratio parameters\n",
      "  warnings.warn(\n",
      "/opt/conda/lib/python3.11/site-packages/sklearn/linear_model/_logistic.py:1183: FutureWarning: `penalty='none'`has been deprecated in 1.2 and will be removed in 1.4. To keep the past behaviour, set `penalty=None`.\n",
      "  warnings.warn(\n",
      "/opt/conda/lib/python3.11/site-packages/sklearn/linear_model/_logistic.py:1193: UserWarning: Setting penalty=None will ignore the C and l1_ratio parameters\n",
      "  warnings.warn(\n",
      "/opt/conda/lib/python3.11/site-packages/sklearn/linear_model/_logistic.py:1183: FutureWarning: `penalty='none'`has been deprecated in 1.2 and will be removed in 1.4. To keep the past behaviour, set `penalty=None`.\n",
      "  warnings.warn(\n",
      "/opt/conda/lib/python3.11/site-packages/sklearn/linear_model/_logistic.py:1193: UserWarning: Setting penalty=None will ignore the C and l1_ratio parameters\n",
      "  warnings.warn(\n",
      "/opt/conda/lib/python3.11/site-packages/sklearn/linear_model/_logistic.py:1183: FutureWarning: `penalty='none'`has been deprecated in 1.2 and will be removed in 1.4. To keep the past behaviour, set `penalty=None`.\n",
      "  warnings.warn(\n",
      "/opt/conda/lib/python3.11/site-packages/sklearn/linear_model/_logistic.py:1193: UserWarning: Setting penalty=None will ignore the C and l1_ratio parameters\n",
      "  warnings.warn(\n",
      "/opt/conda/lib/python3.11/site-packages/sklearn/linear_model/_logistic.py:1183: FutureWarning: `penalty='none'`has been deprecated in 1.2 and will be removed in 1.4. To keep the past behaviour, set `penalty=None`.\n",
      "  warnings.warn(\n",
      "/opt/conda/lib/python3.11/site-packages/sklearn/linear_model/_logistic.py:1193: UserWarning: Setting penalty=None will ignore the C and l1_ratio parameters\n",
      "  warnings.warn(\n",
      "/opt/conda/lib/python3.11/site-packages/sklearn/linear_model/_logistic.py:1183: FutureWarning: `penalty='none'`has been deprecated in 1.2 and will be removed in 1.4. To keep the past behaviour, set `penalty=None`.\n",
      "  warnings.warn(\n",
      "/opt/conda/lib/python3.11/site-packages/sklearn/linear_model/_logistic.py:1193: UserWarning: Setting penalty=None will ignore the C and l1_ratio parameters\n",
      "  warnings.warn(\n",
      "/opt/conda/lib/python3.11/site-packages/sklearn/linear_model/_logistic.py:1183: FutureWarning: `penalty='none'`has been deprecated in 1.2 and will be removed in 1.4. To keep the past behaviour, set `penalty=None`.\n",
      "  warnings.warn(\n",
      "/opt/conda/lib/python3.11/site-packages/sklearn/linear_model/_logistic.py:1193: UserWarning: Setting penalty=None will ignore the C and l1_ratio parameters\n",
      "  warnings.warn(\n",
      "/opt/conda/lib/python3.11/site-packages/sklearn/linear_model/_logistic.py:1183: FutureWarning: `penalty='none'`has been deprecated in 1.2 and will be removed in 1.4. To keep the past behaviour, set `penalty=None`.\n",
      "  warnings.warn(\n",
      "/opt/conda/lib/python3.11/site-packages/sklearn/linear_model/_logistic.py:1183: FutureWarning: `penalty='none'`has been deprecated in 1.2 and will be removed in 1.4. To keep the past behaviour, set `penalty=None`.\n",
      "  warnings.warn(\n",
      "/opt/conda/lib/python3.11/site-packages/sklearn/linear_model/_logistic.py:1183: FutureWarning: `penalty='none'`has been deprecated in 1.2 and will be removed in 1.4. To keep the past behaviour, set `penalty=None`.\n",
      "  warnings.warn(\n",
      "/opt/conda/lib/python3.11/site-packages/sklearn/linear_model/_logistic.py:1183: FutureWarning: `penalty='none'`has been deprecated in 1.2 and will be removed in 1.4. To keep the past behaviour, set `penalty=None`.\n",
      "  warnings.warn(\n",
      "/opt/conda/lib/python3.11/site-packages/sklearn/linear_model/_logistic.py:1183: FutureWarning: `penalty='none'`has been deprecated in 1.2 and will be removed in 1.4. To keep the past behaviour, set `penalty=None`.\n",
      "  warnings.warn(\n",
      "/opt/conda/lib/python3.11/site-packages/sklearn/linear_model/_logistic.py:1183: FutureWarning: `penalty='none'`has been deprecated in 1.2 and will be removed in 1.4. To keep the past behaviour, set `penalty=None`.\n",
      "  warnings.warn(\n"
     ]
    },
    {
     "name": "stdout",
     "output_type": "stream",
     "text": [
      "{'C': 2, 'class_weight': 'balanced', 'penalty': 'l2'}\n"
     ]
    },
    {
     "name": "stderr",
     "output_type": "stream",
     "text": [
      "/opt/conda/lib/python3.11/site-packages/sklearn/linear_model/_logistic.py:1183: FutureWarning: `penalty='none'`has been deprecated in 1.2 and will be removed in 1.4. To keep the past behaviour, set `penalty=None`.\n",
      "  warnings.warn(\n",
      "/opt/conda/lib/python3.11/site-packages/sklearn/linear_model/_logistic.py:1183: FutureWarning: `penalty='none'`has been deprecated in 1.2 and will be removed in 1.4. To keep the past behaviour, set `penalty=None`.\n",
      "  warnings.warn(\n",
      "/opt/conda/lib/python3.11/site-packages/sklearn/linear_model/_logistic.py:1183: FutureWarning: `penalty='none'`has been deprecated in 1.2 and will be removed in 1.4. To keep the past behaviour, set `penalty=None`.\n",
      "  warnings.warn(\n",
      "/opt/conda/lib/python3.11/site-packages/sklearn/linear_model/_logistic.py:1193: UserWarning: Setting penalty=None will ignore the C and l1_ratio parameters\n",
      "  warnings.warn(\n",
      "/opt/conda/lib/python3.11/site-packages/sklearn/linear_model/_logistic.py:1183: FutureWarning: `penalty='none'`has been deprecated in 1.2 and will be removed in 1.4. To keep the past behaviour, set `penalty=None`.\n",
      "  warnings.warn(\n",
      "/opt/conda/lib/python3.11/site-packages/sklearn/linear_model/_logistic.py:1193: UserWarning: Setting penalty=None will ignore the C and l1_ratio parameters\n",
      "  warnings.warn(\n",
      "/opt/conda/lib/python3.11/site-packages/sklearn/linear_model/_logistic.py:1183: FutureWarning: `penalty='none'`has been deprecated in 1.2 and will be removed in 1.4. To keep the past behaviour, set `penalty=None`.\n",
      "  warnings.warn(\n",
      "/opt/conda/lib/python3.11/site-packages/sklearn/linear_model/_logistic.py:1193: UserWarning: Setting penalty=None will ignore the C and l1_ratio parameters\n",
      "  warnings.warn(\n",
      "/opt/conda/lib/python3.11/site-packages/sklearn/linear_model/_logistic.py:1183: FutureWarning: `penalty='none'`has been deprecated in 1.2 and will be removed in 1.4. To keep the past behaviour, set `penalty=None`.\n",
      "  warnings.warn(\n",
      "/opt/conda/lib/python3.11/site-packages/sklearn/linear_model/_logistic.py:1193: UserWarning: Setting penalty=None will ignore the C and l1_ratio parameters\n",
      "  warnings.warn(\n",
      "/opt/conda/lib/python3.11/site-packages/sklearn/linear_model/_logistic.py:1183: FutureWarning: `penalty='none'`has been deprecated in 1.2 and will be removed in 1.4. To keep the past behaviour, set `penalty=None`.\n",
      "  warnings.warn(\n",
      "/opt/conda/lib/python3.11/site-packages/sklearn/linear_model/_logistic.py:1193: UserWarning: Setting penalty=None will ignore the C and l1_ratio parameters\n",
      "  warnings.warn(\n",
      "/opt/conda/lib/python3.11/site-packages/sklearn/linear_model/_logistic.py:1183: FutureWarning: `penalty='none'`has been deprecated in 1.2 and will be removed in 1.4. To keep the past behaviour, set `penalty=None`.\n",
      "  warnings.warn(\n",
      "/opt/conda/lib/python3.11/site-packages/sklearn/linear_model/_logistic.py:1193: UserWarning: Setting penalty=None will ignore the C and l1_ratio parameters\n",
      "  warnings.warn(\n",
      "/opt/conda/lib/python3.11/site-packages/sklearn/linear_model/_logistic.py:1183: FutureWarning: `penalty='none'`has been deprecated in 1.2 and will be removed in 1.4. To keep the past behaviour, set `penalty=None`.\n",
      "  warnings.warn(\n",
      "/opt/conda/lib/python3.11/site-packages/sklearn/linear_model/_logistic.py:1193: UserWarning: Setting penalty=None will ignore the C and l1_ratio parameters\n",
      "  warnings.warn(\n",
      "/opt/conda/lib/python3.11/site-packages/sklearn/linear_model/_logistic.py:1183: FutureWarning: `penalty='none'`has been deprecated in 1.2 and will be removed in 1.4. To keep the past behaviour, set `penalty=None`.\n",
      "  warnings.warn(\n",
      "/opt/conda/lib/python3.11/site-packages/sklearn/linear_model/_logistic.py:1193: UserWarning: Setting penalty=None will ignore the C and l1_ratio parameters\n",
      "  warnings.warn(\n",
      "/opt/conda/lib/python3.11/site-packages/sklearn/linear_model/_logistic.py:1183: FutureWarning: `penalty='none'`has been deprecated in 1.2 and will be removed in 1.4. To keep the past behaviour, set `penalty=None`.\n",
      "  warnings.warn(\n",
      "/opt/conda/lib/python3.11/site-packages/sklearn/linear_model/_logistic.py:1193: UserWarning: Setting penalty=None will ignore the C and l1_ratio parameters\n",
      "  warnings.warn(\n",
      "/opt/conda/lib/python3.11/site-packages/sklearn/linear_model/_logistic.py:1183: FutureWarning: `penalty='none'`has been deprecated in 1.2 and will be removed in 1.4. To keep the past behaviour, set `penalty=None`.\n",
      "  warnings.warn(\n",
      "/opt/conda/lib/python3.11/site-packages/sklearn/linear_model/_logistic.py:1193: UserWarning: Setting penalty=None will ignore the C and l1_ratio parameters\n",
      "  warnings.warn(\n",
      "/opt/conda/lib/python3.11/site-packages/sklearn/linear_model/_logistic.py:1183: FutureWarning: `penalty='none'`has been deprecated in 1.2 and will be removed in 1.4. To keep the past behaviour, set `penalty=None`.\n",
      "  warnings.warn(\n",
      "/opt/conda/lib/python3.11/site-packages/sklearn/linear_model/_logistic.py:1193: UserWarning: Setting penalty=None will ignore the C and l1_ratio parameters\n",
      "  warnings.warn(\n",
      "/opt/conda/lib/python3.11/site-packages/sklearn/linear_model/_logistic.py:1183: FutureWarning: `penalty='none'`has been deprecated in 1.2 and will be removed in 1.4. To keep the past behaviour, set `penalty=None`.\n",
      "  warnings.warn(\n",
      "/opt/conda/lib/python3.11/site-packages/sklearn/linear_model/_logistic.py:1193: UserWarning: Setting penalty=None will ignore the C and l1_ratio parameters\n",
      "  warnings.warn(\n",
      "/opt/conda/lib/python3.11/site-packages/sklearn/linear_model/_logistic.py:1183: FutureWarning: `penalty='none'`has been deprecated in 1.2 and will be removed in 1.4. To keep the past behaviour, set `penalty=None`.\n",
      "  warnings.warn(\n",
      "/opt/conda/lib/python3.11/site-packages/sklearn/linear_model/_logistic.py:1193: UserWarning: Setting penalty=None will ignore the C and l1_ratio parameters\n",
      "  warnings.warn(\n",
      "/opt/conda/lib/python3.11/site-packages/sklearn/linear_model/_logistic.py:1183: FutureWarning: `penalty='none'`has been deprecated in 1.2 and will be removed in 1.4. To keep the past behaviour, set `penalty=None`.\n",
      "  warnings.warn(\n",
      "/opt/conda/lib/python3.11/site-packages/sklearn/linear_model/_logistic.py:1193: UserWarning: Setting penalty=None will ignore the C and l1_ratio parameters\n",
      "  warnings.warn(\n",
      "/opt/conda/lib/python3.11/site-packages/sklearn/linear_model/_logistic.py:1183: FutureWarning: `penalty='none'`has been deprecated in 1.2 and will be removed in 1.4. To keep the past behaviour, set `penalty=None`.\n",
      "  warnings.warn(\n",
      "/opt/conda/lib/python3.11/site-packages/sklearn/linear_model/_logistic.py:1193: UserWarning: Setting penalty=None will ignore the C and l1_ratio parameters\n",
      "  warnings.warn(\n",
      "/opt/conda/lib/python3.11/site-packages/sklearn/linear_model/_logistic.py:1183: FutureWarning: `penalty='none'`has been deprecated in 1.2 and will be removed in 1.4. To keep the past behaviour, set `penalty=None`.\n",
      "  warnings.warn(\n",
      "/opt/conda/lib/python3.11/site-packages/sklearn/linear_model/_logistic.py:1193: UserWarning: Setting penalty=None will ignore the C and l1_ratio parameters\n",
      "  warnings.warn(\n",
      "/opt/conda/lib/python3.11/site-packages/sklearn/linear_model/_logistic.py:1183: FutureWarning: `penalty='none'`has been deprecated in 1.2 and will be removed in 1.4. To keep the past behaviour, set `penalty=None`.\n",
      "  warnings.warn(\n",
      "/opt/conda/lib/python3.11/site-packages/sklearn/linear_model/_logistic.py:1193: UserWarning: Setting penalty=None will ignore the C and l1_ratio parameters\n",
      "  warnings.warn(\n",
      "/opt/conda/lib/python3.11/site-packages/sklearn/linear_model/_logistic.py:1183: FutureWarning: `penalty='none'`has been deprecated in 1.2 and will be removed in 1.4. To keep the past behaviour, set `penalty=None`.\n",
      "  warnings.warn(\n",
      "/opt/conda/lib/python3.11/site-packages/sklearn/linear_model/_logistic.py:1193: UserWarning: Setting penalty=None will ignore the C and l1_ratio parameters\n",
      "  warnings.warn(\n",
      "/opt/conda/lib/python3.11/site-packages/sklearn/linear_model/_logistic.py:1183: FutureWarning: `penalty='none'`has been deprecated in 1.2 and will be removed in 1.4. To keep the past behaviour, set `penalty=None`.\n",
      "  warnings.warn(\n",
      "/opt/conda/lib/python3.11/site-packages/sklearn/linear_model/_logistic.py:1193: UserWarning: Setting penalty=None will ignore the C and l1_ratio parameters\n",
      "  warnings.warn(\n",
      "/opt/conda/lib/python3.11/site-packages/sklearn/linear_model/_logistic.py:1183: FutureWarning: `penalty='none'`has been deprecated in 1.2 and will be removed in 1.4. To keep the past behaviour, set `penalty=None`.\n",
      "  warnings.warn(\n",
      "/opt/conda/lib/python3.11/site-packages/sklearn/linear_model/_logistic.py:1193: UserWarning: Setting penalty=None will ignore the C and l1_ratio parameters\n",
      "  warnings.warn(\n",
      "/opt/conda/lib/python3.11/site-packages/sklearn/linear_model/_logistic.py:1183: FutureWarning: `penalty='none'`has been deprecated in 1.2 and will be removed in 1.4. To keep the past behaviour, set `penalty=None`.\n",
      "  warnings.warn(\n",
      "/opt/conda/lib/python3.11/site-packages/sklearn/linear_model/_logistic.py:1193: UserWarning: Setting penalty=None will ignore the C and l1_ratio parameters\n",
      "  warnings.warn(\n",
      "/opt/conda/lib/python3.11/site-packages/sklearn/linear_model/_logistic.py:1183: FutureWarning: `penalty='none'`has been deprecated in 1.2 and will be removed in 1.4. To keep the past behaviour, set `penalty=None`.\n",
      "  warnings.warn(\n",
      "/opt/conda/lib/python3.11/site-packages/sklearn/linear_model/_logistic.py:1193: UserWarning: Setting penalty=None will ignore the C and l1_ratio parameters\n",
      "  warnings.warn(\n",
      "/opt/conda/lib/python3.11/site-packages/sklearn/linear_model/_logistic.py:1183: FutureWarning: `penalty='none'`has been deprecated in 1.2 and will be removed in 1.4. To keep the past behaviour, set `penalty=None`.\n",
      "  warnings.warn(\n",
      "/opt/conda/lib/python3.11/site-packages/sklearn/linear_model/_logistic.py:1193: UserWarning: Setting penalty=None will ignore the C and l1_ratio parameters\n",
      "  warnings.warn(\n",
      "/opt/conda/lib/python3.11/site-packages/sklearn/linear_model/_logistic.py:1183: FutureWarning: `penalty='none'`has been deprecated in 1.2 and will be removed in 1.4. To keep the past behaviour, set `penalty=None`.\n",
      "  warnings.warn(\n",
      "/opt/conda/lib/python3.11/site-packages/sklearn/linear_model/_logistic.py:1193: UserWarning: Setting penalty=None will ignore the C and l1_ratio parameters\n",
      "  warnings.warn(\n"
     ]
    }
   ],
   "source": [
    "# Baseline model: Logistic Regression\n",
    "logis_classifier = LogisticRegression()\n",
    "param_grid = {\n",
    "    'C': [5, 2, 1, 0.5, 0.1, 0.05],\n",
    "    'class_weight': ['balanced'],\n",
    "    'penalty': ['none', 'l2']\n",
    "}\n",
    "grid_search = GridSearchCV(estimator=logis_classifier, param_grid=param_grid, cv=8, n_jobs=-1, verbose=2)\n",
    "grid_search.fit(X_train, y_train)\n",
    "# Get the best parameters\n",
    "best_params = grid_search.best_params_\n",
    "print(best_params)\n",
    "# Get the best model\n",
    "best_xgb_classifier = grid_search.best_estimator_"
   ]
  },
  {
   "cell_type": "code",
   "execution_count": 16,
   "metadata": {},
   "outputs": [],
   "source": [
    "pred_train_logist = best_xgb_classifier.predict(X_train)\n",
    "acc_train = accuracy_score(y_train, pred_train_logist)\n",
    "prec_train = precision_score(y_train,pred_train_logist, average='macro')\n",
    "recall_train = recall_score(y_train,pred_train_logist, average='macro')\n",
    "f1_train = f1_score(y_train,pred_train_logist, average='macro')\n",
    "\n",
    "pred_test_logist = best_xgb_classifier.predict(X_test)\n",
    "acc_test = accuracy_score(y_test, pred_test_logist)\n",
    "prec_test = precision_score(y_test,pred_test_logist, average='macro')\n",
    "recall_test = recall_score(y_test,pred_test_logist, average='macro')\n",
    "f1_test = f1_score(y_test,pred_test_logist, average='macro')"
   ]
  },
  {
   "cell_type": "code",
   "execution_count": 17,
   "metadata": {},
   "outputs": [
    {
     "name": "stdout",
     "output_type": "stream",
     "text": [
      "**********Training Phase**********\n",
      "Train Acc: 0.7529\n",
      "Train Precision: 0.7081\n",
      "Train recall: 0.7784\n",
      "Train f1-score: 0.7271\n",
      "**********Test Phase**********\n",
      "Test Acc: 0.7674\n",
      "Test Precision: 0.7267\n",
      "Test recall: 0.7184\n",
      "Test f1-score: 0.7222\n"
     ]
    }
   ],
   "source": [
    "print(\"*\"*10 + \"Training Phase\" + \"*\"*10)\n",
    "print(\"Train Acc: %.4f\" %(acc_train))\n",
    "print(\"Train Precision: %.4f\" %(prec_train))\n",
    "print(\"Train recall: %.4f\" %(recall_train))\n",
    "print(\"Train f1-score: %.4f\" %(f1_train)) \n",
    "\n",
    "print(\"*\"*10 + \"Test Phase\" + \"*\"*10)\n",
    "print(\"Test Acc: %.4f\" %(acc_test))\n",
    "print(\"Test Precision: %.4f\" %(prec_test))\n",
    "print(\"Test recall: %.4f\" %(recall_test))\n",
    "print(\"Test f1-score: %.4f\" %(f1_test)) "
   ]
  },
  {
   "cell_type": "markdown",
   "metadata": {},
   "source": [
    "2. Low score imputation"
   ]
  },
  {
   "cell_type": "code",
   "execution_count": 18,
   "metadata": {},
   "outputs": [],
   "source": [
    "# Split the dataset into training and testing sets\n",
    "X_train_low, X_test_low, y_train_low, y_test_low = train_test_split(features_low, target, test_size=0.2, random_state=42)"
   ]
  },
  {
   "cell_type": "code",
   "execution_count": 19,
   "metadata": {},
   "outputs": [
    {
     "name": "stdout",
     "output_type": "stream",
     "text": [
      "Fitting 8 folds for each of 12 candidates, totalling 96 fits\n"
     ]
    },
    {
     "name": "stderr",
     "output_type": "stream",
     "text": [
      "/opt/conda/lib/python3.11/site-packages/sklearn/linear_model/_logistic.py:1183: FutureWarning: `penalty='none'`has been deprecated in 1.2 and will be removed in 1.4. To keep the past behaviour, set `penalty=None`.\n",
      "  warnings.warn(\n",
      "/opt/conda/lib/python3.11/site-packages/sklearn/linear_model/_logistic.py:1193: UserWarning: Setting penalty=None will ignore the C and l1_ratio parameters\n",
      "  warnings.warn(\n",
      "/opt/conda/lib/python3.11/site-packages/sklearn/linear_model/_logistic.py:1183: FutureWarning: `penalty='none'`has been deprecated in 1.2 and will be removed in 1.4. To keep the past behaviour, set `penalty=None`.\n",
      "  warnings.warn(\n",
      "/opt/conda/lib/python3.11/site-packages/sklearn/linear_model/_logistic.py:1183: FutureWarning: `penalty='none'`has been deprecated in 1.2 and will be removed in 1.4. To keep the past behaviour, set `penalty=None`.\n",
      "  warnings.warn(\n",
      "/opt/conda/lib/python3.11/site-packages/sklearn/linear_model/_logistic.py:1193: UserWarning: Setting penalty=None will ignore the C and l1_ratio parameters\n",
      "  warnings.warn(\n",
      "/opt/conda/lib/python3.11/site-packages/sklearn/linear_model/_logistic.py:1193: UserWarning: Setting penalty=None will ignore the C and l1_ratio parameters\n",
      "  warnings.warn(\n",
      "/opt/conda/lib/python3.11/site-packages/sklearn/linear_model/_logistic.py:1183: FutureWarning: `penalty='none'`has been deprecated in 1.2 and will be removed in 1.4. To keep the past behaviour, set `penalty=None`.\n",
      "  warnings.warn(\n",
      "/opt/conda/lib/python3.11/site-packages/sklearn/linear_model/_logistic.py:1193: UserWarning: Setting penalty=None will ignore the C and l1_ratio parameters\n",
      "  warnings.warn(\n",
      "/opt/conda/lib/python3.11/site-packages/sklearn/linear_model/_logistic.py:1183: FutureWarning: `penalty='none'`has been deprecated in 1.2 and will be removed in 1.4. To keep the past behaviour, set `penalty=None`.\n",
      "  warnings.warn(\n",
      "/opt/conda/lib/python3.11/site-packages/sklearn/linear_model/_logistic.py:1193: UserWarning: Setting penalty=None will ignore the C and l1_ratio parameters\n",
      "  warnings.warn(\n",
      "/opt/conda/lib/python3.11/site-packages/sklearn/linear_model/_logistic.py:1183: FutureWarning: `penalty='none'`has been deprecated in 1.2 and will be removed in 1.4. To keep the past behaviour, set `penalty=None`.\n",
      "  warnings.warn(\n",
      "/opt/conda/lib/python3.11/site-packages/sklearn/linear_model/_logistic.py:1193: UserWarning: Setting penalty=None will ignore the C and l1_ratio parameters\n",
      "  warnings.warn(\n",
      "/opt/conda/lib/python3.11/site-packages/sklearn/linear_model/_logistic.py:1183: FutureWarning: `penalty='none'`has been deprecated in 1.2 and will be removed in 1.4. To keep the past behaviour, set `penalty=None`.\n",
      "  warnings.warn(\n",
      "/opt/conda/lib/python3.11/site-packages/sklearn/linear_model/_logistic.py:1193: UserWarning: Setting penalty=None will ignore the C and l1_ratio parameters\n",
      "  warnings.warn(\n",
      "/opt/conda/lib/python3.11/site-packages/sklearn/linear_model/_logistic.py:1183: FutureWarning: `penalty='none'`has been deprecated in 1.2 and will be removed in 1.4. To keep the past behaviour, set `penalty=None`.\n",
      "  warnings.warn(\n",
      "/opt/conda/lib/python3.11/site-packages/sklearn/linear_model/_logistic.py:1193: UserWarning: Setting penalty=None will ignore the C and l1_ratio parameters\n",
      "  warnings.warn(\n",
      "/opt/conda/lib/python3.11/site-packages/sklearn/linear_model/_logistic.py:1183: FutureWarning: `penalty='none'`has been deprecated in 1.2 and will be removed in 1.4. To keep the past behaviour, set `penalty=None`.\n",
      "  warnings.warn(\n",
      "/opt/conda/lib/python3.11/site-packages/sklearn/linear_model/_logistic.py:1193: UserWarning: Setting penalty=None will ignore the C and l1_ratio parameters\n",
      "  warnings.warn(\n",
      "/opt/conda/lib/python3.11/site-packages/sklearn/linear_model/_logistic.py:1183: FutureWarning: `penalty='none'`has been deprecated in 1.2 and will be removed in 1.4. To keep the past behaviour, set `penalty=None`.\n",
      "  warnings.warn(\n",
      "/opt/conda/lib/python3.11/site-packages/sklearn/linear_model/_logistic.py:1193: UserWarning: Setting penalty=None will ignore the C and l1_ratio parameters\n",
      "  warnings.warn(\n",
      "/opt/conda/lib/python3.11/site-packages/sklearn/linear_model/_logistic.py:1183: FutureWarning: `penalty='none'`has been deprecated in 1.2 and will be removed in 1.4. To keep the past behaviour, set `penalty=None`.\n",
      "  warnings.warn(\n",
      "/opt/conda/lib/python3.11/site-packages/sklearn/linear_model/_logistic.py:1193: UserWarning: Setting penalty=None will ignore the C and l1_ratio parameters\n",
      "  warnings.warn(\n",
      "/opt/conda/lib/python3.11/site-packages/sklearn/linear_model/_logistic.py:1183: FutureWarning: `penalty='none'`has been deprecated in 1.2 and will be removed in 1.4. To keep the past behaviour, set `penalty=None`.\n",
      "  warnings.warn(\n",
      "/opt/conda/lib/python3.11/site-packages/sklearn/linear_model/_logistic.py:1193: UserWarning: Setting penalty=None will ignore the C and l1_ratio parameters\n",
      "  warnings.warn(\n",
      "/opt/conda/lib/python3.11/site-packages/sklearn/linear_model/_logistic.py:1183: FutureWarning: `penalty='none'`has been deprecated in 1.2 and will be removed in 1.4. To keep the past behaviour, set `penalty=None`.\n",
      "  warnings.warn(\n",
      "/opt/conda/lib/python3.11/site-packages/sklearn/linear_model/_logistic.py:1193: UserWarning: Setting penalty=None will ignore the C and l1_ratio parameters\n",
      "  warnings.warn(\n",
      "/opt/conda/lib/python3.11/site-packages/sklearn/linear_model/_logistic.py:1183: FutureWarning: `penalty='none'`has been deprecated in 1.2 and will be removed in 1.4. To keep the past behaviour, set `penalty=None`.\n",
      "  warnings.warn(\n",
      "/opt/conda/lib/python3.11/site-packages/sklearn/linear_model/_logistic.py:1193: UserWarning: Setting penalty=None will ignore the C and l1_ratio parameters\n",
      "  warnings.warn(\n",
      "/opt/conda/lib/python3.11/site-packages/sklearn/linear_model/_logistic.py:1183: FutureWarning: `penalty='none'`has been deprecated in 1.2 and will be removed in 1.4. To keep the past behaviour, set `penalty=None`.\n",
      "  warnings.warn(\n",
      "/opt/conda/lib/python3.11/site-packages/sklearn/linear_model/_logistic.py:1193: UserWarning: Setting penalty=None will ignore the C and l1_ratio parameters\n",
      "  warnings.warn(\n",
      "/opt/conda/lib/python3.11/site-packages/sklearn/linear_model/_logistic.py:1183: FutureWarning: `penalty='none'`has been deprecated in 1.2 and will be removed in 1.4. To keep the past behaviour, set `penalty=None`.\n",
      "  warnings.warn(\n",
      "/opt/conda/lib/python3.11/site-packages/sklearn/linear_model/_logistic.py:1193: UserWarning: Setting penalty=None will ignore the C and l1_ratio parameters\n",
      "  warnings.warn(\n",
      "/opt/conda/lib/python3.11/site-packages/sklearn/linear_model/_logistic.py:1183: FutureWarning: `penalty='none'`has been deprecated in 1.2 and will be removed in 1.4. To keep the past behaviour, set `penalty=None`.\n",
      "  warnings.warn(\n",
      "/opt/conda/lib/python3.11/site-packages/sklearn/linear_model/_logistic.py:1183: FutureWarning: `penalty='none'`has been deprecated in 1.2 and will be removed in 1.4. To keep the past behaviour, set `penalty=None`.\n",
      "  warnings.warn(\n",
      "/opt/conda/lib/python3.11/site-packages/sklearn/linear_model/_logistic.py:1183: FutureWarning: `penalty='none'`has been deprecated in 1.2 and will be removed in 1.4. To keep the past behaviour, set `penalty=None`.\n",
      "  warnings.warn(\n",
      "/opt/conda/lib/python3.11/site-packages/sklearn/linear_model/_logistic.py:1183: FutureWarning: `penalty='none'`has been deprecated in 1.2 and will be removed in 1.4. To keep the past behaviour, set `penalty=None`.\n",
      "  warnings.warn(\n",
      "/opt/conda/lib/python3.11/site-packages/sklearn/linear_model/_logistic.py:1183: FutureWarning: `penalty='none'`has been deprecated in 1.2 and will be removed in 1.4. To keep the past behaviour, set `penalty=None`.\n",
      "  warnings.warn(\n",
      "/opt/conda/lib/python3.11/site-packages/sklearn/linear_model/_logistic.py:1183: FutureWarning: `penalty='none'`has been deprecated in 1.2 and will be removed in 1.4. To keep the past behaviour, set `penalty=None`.\n",
      "  warnings.warn(\n",
      "/opt/conda/lib/python3.11/site-packages/sklearn/linear_model/_logistic.py:1193: UserWarning: Setting penalty=None will ignore the C and l1_ratio parameters\n",
      "  warnings.warn(\n",
      "/opt/conda/lib/python3.11/site-packages/sklearn/linear_model/_logistic.py:1183: FutureWarning: `penalty='none'`has been deprecated in 1.2 and will be removed in 1.4. To keep the past behaviour, set `penalty=None`.\n",
      "  warnings.warn(\n",
      "/opt/conda/lib/python3.11/site-packages/sklearn/linear_model/_logistic.py:1193: UserWarning: Setting penalty=None will ignore the C and l1_ratio parameters\n",
      "  warnings.warn(\n",
      "/opt/conda/lib/python3.11/site-packages/sklearn/linear_model/_logistic.py:1183: FutureWarning: `penalty='none'`has been deprecated in 1.2 and will be removed in 1.4. To keep the past behaviour, set `penalty=None`.\n",
      "  warnings.warn(\n",
      "/opt/conda/lib/python3.11/site-packages/sklearn/linear_model/_logistic.py:1183: FutureWarning: `penalty='none'`has been deprecated in 1.2 and will be removed in 1.4. To keep the past behaviour, set `penalty=None`.\n",
      "  warnings.warn(\n",
      "/opt/conda/lib/python3.11/site-packages/sklearn/linear_model/_logistic.py:1193: UserWarning: Setting penalty=None will ignore the C and l1_ratio parameters\n",
      "  warnings.warn(\n",
      "/opt/conda/lib/python3.11/site-packages/sklearn/linear_model/_logistic.py:1183: FutureWarning: `penalty='none'`has been deprecated in 1.2 and will be removed in 1.4. To keep the past behaviour, set `penalty=None`.\n",
      "  warnings.warn(\n",
      "/opt/conda/lib/python3.11/site-packages/sklearn/linear_model/_logistic.py:1193: UserWarning: Setting penalty=None will ignore the C and l1_ratio parameters\n",
      "  warnings.warn(\n",
      "/opt/conda/lib/python3.11/site-packages/sklearn/linear_model/_logistic.py:1183: FutureWarning: `penalty='none'`has been deprecated in 1.2 and will be removed in 1.4. To keep the past behaviour, set `penalty=None`.\n",
      "  warnings.warn(\n",
      "/opt/conda/lib/python3.11/site-packages/sklearn/linear_model/_logistic.py:1183: FutureWarning: `penalty='none'`has been deprecated in 1.2 and will be removed in 1.4. To keep the past behaviour, set `penalty=None`.\n",
      "  warnings.warn(\n",
      "/opt/conda/lib/python3.11/site-packages/sklearn/linear_model/_logistic.py:1193: UserWarning: Setting penalty=None will ignore the C and l1_ratio parameters\n",
      "  warnings.warn(\n",
      "/opt/conda/lib/python3.11/site-packages/sklearn/linear_model/_logistic.py:1183: FutureWarning: `penalty='none'`has been deprecated in 1.2 and will be removed in 1.4. To keep the past behaviour, set `penalty=None`.\n",
      "  warnings.warn(\n",
      "/opt/conda/lib/python3.11/site-packages/sklearn/linear_model/_logistic.py:1193: UserWarning: Setting penalty=None will ignore the C and l1_ratio parameters\n",
      "  warnings.warn(\n",
      "/opt/conda/lib/python3.11/site-packages/sklearn/linear_model/_logistic.py:1183: FutureWarning: `penalty='none'`has been deprecated in 1.2 and will be removed in 1.4. To keep the past behaviour, set `penalty=None`.\n",
      "  warnings.warn(\n",
      "/opt/conda/lib/python3.11/site-packages/sklearn/linear_model/_logistic.py:1183: FutureWarning: `penalty='none'`has been deprecated in 1.2 and will be removed in 1.4. To keep the past behaviour, set `penalty=None`.\n",
      "  warnings.warn(\n",
      "/opt/conda/lib/python3.11/site-packages/sklearn/linear_model/_logistic.py:1193: UserWarning: Setting penalty=None will ignore the C and l1_ratio parameters\n",
      "  warnings.warn(\n",
      "/opt/conda/lib/python3.11/site-packages/sklearn/linear_model/_logistic.py:1183: FutureWarning: `penalty='none'`has been deprecated in 1.2 and will be removed in 1.4. To keep the past behaviour, set `penalty=None`.\n",
      "  warnings.warn(\n",
      "/opt/conda/lib/python3.11/site-packages/sklearn/linear_model/_logistic.py:1193: UserWarning: Setting penalty=None will ignore the C and l1_ratio parameters\n",
      "  warnings.warn(\n",
      "/opt/conda/lib/python3.11/site-packages/sklearn/linear_model/_logistic.py:1183: FutureWarning: `penalty='none'`has been deprecated in 1.2 and will be removed in 1.4. To keep the past behaviour, set `penalty=None`.\n",
      "  warnings.warn(\n",
      "/opt/conda/lib/python3.11/site-packages/sklearn/linear_model/_logistic.py:1193: UserWarning: Setting penalty=None will ignore the C and l1_ratio parameters\n",
      "  warnings.warn(\n",
      "/opt/conda/lib/python3.11/site-packages/sklearn/linear_model/_logistic.py:1183: FutureWarning: `penalty='none'`has been deprecated in 1.2 and will be removed in 1.4. To keep the past behaviour, set `penalty=None`.\n",
      "  warnings.warn(\n",
      "/opt/conda/lib/python3.11/site-packages/sklearn/linear_model/_logistic.py:1193: UserWarning: Setting penalty=None will ignore the C and l1_ratio parameters\n",
      "  warnings.warn(\n",
      "/opt/conda/lib/python3.11/site-packages/sklearn/linear_model/_logistic.py:1183: FutureWarning: `penalty='none'`has been deprecated in 1.2 and will be removed in 1.4. To keep the past behaviour, set `penalty=None`.\n",
      "  warnings.warn(\n",
      "/opt/conda/lib/python3.11/site-packages/sklearn/linear_model/_logistic.py:1193: UserWarning: Setting penalty=None will ignore the C and l1_ratio parameters\n",
      "  warnings.warn(\n",
      "/opt/conda/lib/python3.11/site-packages/sklearn/linear_model/_logistic.py:1183: FutureWarning: `penalty='none'`has been deprecated in 1.2 and will be removed in 1.4. To keep the past behaviour, set `penalty=None`.\n",
      "  warnings.warn(\n",
      "/opt/conda/lib/python3.11/site-packages/sklearn/linear_model/_logistic.py:1193: UserWarning: Setting penalty=None will ignore the C and l1_ratio parameters\n",
      "  warnings.warn(\n",
      "/opt/conda/lib/python3.11/site-packages/sklearn/linear_model/_logistic.py:1183: FutureWarning: `penalty='none'`has been deprecated in 1.2 and will be removed in 1.4. To keep the past behaviour, set `penalty=None`.\n",
      "  warnings.warn(\n",
      "/opt/conda/lib/python3.11/site-packages/sklearn/linear_model/_logistic.py:1193: UserWarning: Setting penalty=None will ignore the C and l1_ratio parameters\n",
      "  warnings.warn(\n",
      "/opt/conda/lib/python3.11/site-packages/sklearn/linear_model/_logistic.py:1183: FutureWarning: `penalty='none'`has been deprecated in 1.2 and will be removed in 1.4. To keep the past behaviour, set `penalty=None`.\n",
      "  warnings.warn(\n",
      "/opt/conda/lib/python3.11/site-packages/sklearn/linear_model/_logistic.py:1193: UserWarning: Setting penalty=None will ignore the C and l1_ratio parameters\n",
      "  warnings.warn(\n",
      "/opt/conda/lib/python3.11/site-packages/sklearn/linear_model/_logistic.py:1183: FutureWarning: `penalty='none'`has been deprecated in 1.2 and will be removed in 1.4. To keep the past behaviour, set `penalty=None`.\n",
      "  warnings.warn(\n",
      "/opt/conda/lib/python3.11/site-packages/sklearn/linear_model/_logistic.py:1193: UserWarning: Setting penalty=None will ignore the C and l1_ratio parameters\n",
      "  warnings.warn(\n",
      "/opt/conda/lib/python3.11/site-packages/sklearn/linear_model/_logistic.py:1183: FutureWarning: `penalty='none'`has been deprecated in 1.2 and will be removed in 1.4. To keep the past behaviour, set `penalty=None`.\n",
      "  warnings.warn(\n",
      "/opt/conda/lib/python3.11/site-packages/sklearn/linear_model/_logistic.py:1193: UserWarning: Setting penalty=None will ignore the C and l1_ratio parameters\n",
      "  warnings.warn(\n",
      "/opt/conda/lib/python3.11/site-packages/sklearn/linear_model/_logistic.py:1183: FutureWarning: `penalty='none'`has been deprecated in 1.2 and will be removed in 1.4. To keep the past behaviour, set `penalty=None`.\n",
      "  warnings.warn(\n",
      "/opt/conda/lib/python3.11/site-packages/sklearn/linear_model/_logistic.py:1193: UserWarning: Setting penalty=None will ignore the C and l1_ratio parameters\n",
      "  warnings.warn(\n",
      "/opt/conda/lib/python3.11/site-packages/sklearn/linear_model/_logistic.py:1183: FutureWarning: `penalty='none'`has been deprecated in 1.2 and will be removed in 1.4. To keep the past behaviour, set `penalty=None`.\n",
      "  warnings.warn(\n",
      "/opt/conda/lib/python3.11/site-packages/sklearn/linear_model/_logistic.py:1193: UserWarning: Setting penalty=None will ignore the C and l1_ratio parameters\n",
      "  warnings.warn(\n",
      "/opt/conda/lib/python3.11/site-packages/sklearn/linear_model/_logistic.py:1183: FutureWarning: `penalty='none'`has been deprecated in 1.2 and will be removed in 1.4. To keep the past behaviour, set `penalty=None`.\n",
      "  warnings.warn(\n",
      "/opt/conda/lib/python3.11/site-packages/sklearn/linear_model/_logistic.py:1193: UserWarning: Setting penalty=None will ignore the C and l1_ratio parameters\n",
      "  warnings.warn(\n",
      "/opt/conda/lib/python3.11/site-packages/sklearn/linear_model/_logistic.py:1183: FutureWarning: `penalty='none'`has been deprecated in 1.2 and will be removed in 1.4. To keep the past behaviour, set `penalty=None`.\n",
      "  warnings.warn(\n",
      "/opt/conda/lib/python3.11/site-packages/sklearn/linear_model/_logistic.py:1193: UserWarning: Setting penalty=None will ignore the C and l1_ratio parameters\n",
      "  warnings.warn(\n",
      "/opt/conda/lib/python3.11/site-packages/sklearn/linear_model/_logistic.py:1183: FutureWarning: `penalty='none'`has been deprecated in 1.2 and will be removed in 1.4. To keep the past behaviour, set `penalty=None`.\n",
      "  warnings.warn(\n",
      "/opt/conda/lib/python3.11/site-packages/sklearn/linear_model/_logistic.py:1193: UserWarning: Setting penalty=None will ignore the C and l1_ratio parameters\n",
      "  warnings.warn(\n",
      "/opt/conda/lib/python3.11/site-packages/sklearn/linear_model/_logistic.py:1183: FutureWarning: `penalty='none'`has been deprecated in 1.2 and will be removed in 1.4. To keep the past behaviour, set `penalty=None`.\n",
      "  warnings.warn(\n",
      "/opt/conda/lib/python3.11/site-packages/sklearn/linear_model/_logistic.py:1193: UserWarning: Setting penalty=None will ignore the C and l1_ratio parameters\n",
      "  warnings.warn(\n",
      "/opt/conda/lib/python3.11/site-packages/sklearn/linear_model/_logistic.py:1183: FutureWarning: `penalty='none'`has been deprecated in 1.2 and will be removed in 1.4. To keep the past behaviour, set `penalty=None`.\n",
      "  warnings.warn(\n",
      "/opt/conda/lib/python3.11/site-packages/sklearn/linear_model/_logistic.py:1193: UserWarning: Setting penalty=None will ignore the C and l1_ratio parameters\n",
      "  warnings.warn(\n",
      "/opt/conda/lib/python3.11/site-packages/sklearn/linear_model/_logistic.py:1183: FutureWarning: `penalty='none'`has been deprecated in 1.2 and will be removed in 1.4. To keep the past behaviour, set `penalty=None`.\n",
      "  warnings.warn(\n",
      "/opt/conda/lib/python3.11/site-packages/sklearn/linear_model/_logistic.py:1193: UserWarning: Setting penalty=None will ignore the C and l1_ratio parameters\n",
      "  warnings.warn(\n"
     ]
    },
    {
     "name": "stdout",
     "output_type": "stream",
     "text": [
      "{'C': 2, 'class_weight': 'balanced', 'penalty': 'l2'}\n"
     ]
    }
   ],
   "source": [
    "# Baseline model: Logistic Regression\n",
    "logis_classifier_low = LogisticRegression()\n",
    "param_grid_low = {\n",
    "    'C': [5, 2, 1, 0.5, 0.1, 0.05],\n",
    "    'class_weight': ['balanced'],\n",
    "    'penalty': ['none', 'l2']\n",
    "}\n",
    "grid_search_low = GridSearchCV(estimator=logis_classifier_low, param_grid=param_grid_low, cv=8, n_jobs=-1, verbose=1)\n",
    "grid_search_low.fit(X_train_low, y_train_low)\n",
    "# Get the best parameters\n",
    "best_params_low = grid_search_low.best_params_\n",
    "print(best_params_low)\n",
    "# Get the best model\n",
    "best_xgb_classifier_low = grid_search_low.best_estimator_"
   ]
  },
  {
   "cell_type": "code",
   "execution_count": 20,
   "metadata": {},
   "outputs": [],
   "source": [
    "pred_train_logist_low = best_xgb_classifier_low.predict(X_train_low)\n",
    "acc_train_low = accuracy_score(y_train_low, pred_train_logist_low)\n",
    "prec_train_low = precision_score(y_train_low,pred_train_logist_low, average='macro')\n",
    "recall_train_low = recall_score(y_train_low,pred_train_logist_low, average='macro')\n",
    "f1_train_low = f1_score(y_train_low,pred_train_logist_low, average='macro')\n",
    "\n",
    "pred_test_logist_low = best_xgb_classifier_low.predict(X_test_low)\n",
    "acc_test_low = accuracy_score(y_test_low, pred_test_logist_low)\n",
    "prec_test_low = precision_score(y_test_low,pred_test_logist_low, average='macro')\n",
    "recall_test_low = recall_score(y_test_low,pred_test_logist_low, average='macro')\n",
    "f1_test_low = f1_score(y_test_low,pred_test_logist_low, average='macro')"
   ]
  },
  {
   "cell_type": "code",
   "execution_count": 21,
   "metadata": {},
   "outputs": [
    {
     "name": "stdout",
     "output_type": "stream",
     "text": [
      "**********Training Phase**********\n",
      "Train Acc: 0.7587\n",
      "Train Precision: 0.7128\n",
      "Train recall: 0.7828\n",
      "Train f1-score: 0.7316\n",
      "**********Test Phase**********\n",
      "Test Acc: 0.7674\n",
      "Test Precision: 0.7267\n",
      "Test recall: 0.7184\n",
      "Test f1-score: 0.7222\n"
     ]
    }
   ],
   "source": [
    "print(\"*\"*10 + \"Training Phase\" + \"*\"*10)\n",
    "print(\"Train Acc: %.4f\" %(acc_train_low))\n",
    "print(\"Train Precision: %.4f\" %(prec_train_low))\n",
    "print(\"Train recall: %.4f\" %(recall_train_low))\n",
    "print(\"Train f1-score: %.4f\" %(f1_train_low)) \n",
    "\n",
    "print(\"*\"*10 + \"Test Phase\" + \"*\"*10)\n",
    "print(\"Test Acc: %.4f\" %(acc_test_low))\n",
    "print(\"Test Precision: %.4f\" %(prec_test_low))\n",
    "print(\"Test recall: %.4f\" %(recall_test_low))\n",
    "print(\"Test f1-score: %.4f\" %(f1_test_low)) "
   ]
  },
  {
   "cell_type": "markdown",
   "metadata": {},
   "source": [
    "3. Random imputation"
   ]
  },
  {
   "cell_type": "code",
   "execution_count": 158,
   "metadata": {},
   "outputs": [],
   "source": [
    "# Split the dataset into training and testing sets using random imputation\n",
    "X_train_random, X_test_random, y_train_random, y_test_random = train_test_split(features_random, target, test_size=0.2, random_state=42)"
   ]
  },
  {
   "cell_type": "code",
   "execution_count": 159,
   "metadata": {},
   "outputs": [
    {
     "name": "stdout",
     "output_type": "stream",
     "text": [
      "Fitting 8 folds for each of 12 candidates, totalling 96 fits\n"
     ]
    },
    {
     "name": "stderr",
     "output_type": "stream",
     "text": [
      "/opt/conda/lib/python3.11/site-packages/sklearn/linear_model/_logistic.py:1183: FutureWarning: `penalty='none'`has been deprecated in 1.2 and will be removed in 1.4. To keep the past behaviour, set `penalty=None`.\n",
      "  warnings.warn(\n",
      "/opt/conda/lib/python3.11/site-packages/sklearn/linear_model/_logistic.py:1193: UserWarning: Setting penalty=None will ignore the C and l1_ratio parameters\n",
      "  warnings.warn(\n",
      "/opt/conda/lib/python3.11/site-packages/sklearn/linear_model/_logistic.py:1183: FutureWarning: `penalty='none'`has been deprecated in 1.2 and will be removed in 1.4. To keep the past behaviour, set `penalty=None`.\n",
      "  warnings.warn(\n",
      "/opt/conda/lib/python3.11/site-packages/sklearn/linear_model/_logistic.py:1193: UserWarning: Setting penalty=None will ignore the C and l1_ratio parameters\n",
      "  warnings.warn(\n",
      "/opt/conda/lib/python3.11/site-packages/sklearn/linear_model/_logistic.py:1183: FutureWarning: `penalty='none'`has been deprecated in 1.2 and will be removed in 1.4. To keep the past behaviour, set `penalty=None`.\n",
      "  warnings.warn(\n",
      "/opt/conda/lib/python3.11/site-packages/sklearn/linear_model/_logistic.py:1193: UserWarning: Setting penalty=None will ignore the C and l1_ratio parameters\n",
      "  warnings.warn(\n",
      "/opt/conda/lib/python3.11/site-packages/sklearn/linear_model/_logistic.py:1183: FutureWarning: `penalty='none'`has been deprecated in 1.2 and will be removed in 1.4. To keep the past behaviour, set `penalty=None`.\n",
      "  warnings.warn(\n",
      "/opt/conda/lib/python3.11/site-packages/sklearn/linear_model/_logistic.py:1193: UserWarning: Setting penalty=None will ignore the C and l1_ratio parameters\n",
      "  warnings.warn(\n",
      "/opt/conda/lib/python3.11/site-packages/sklearn/linear_model/_logistic.py:1183: FutureWarning: `penalty='none'`has been deprecated in 1.2 and will be removed in 1.4. To keep the past behaviour, set `penalty=None`.\n",
      "  warnings.warn(\n",
      "/opt/conda/lib/python3.11/site-packages/sklearn/linear_model/_logistic.py:1193: UserWarning: Setting penalty=None will ignore the C and l1_ratio parameters\n",
      "  warnings.warn(\n",
      "/opt/conda/lib/python3.11/site-packages/sklearn/linear_model/_logistic.py:1183: FutureWarning: `penalty='none'`has been deprecated in 1.2 and will be removed in 1.4. To keep the past behaviour, set `penalty=None`.\n",
      "  warnings.warn(\n",
      "/opt/conda/lib/python3.11/site-packages/sklearn/linear_model/_logistic.py:1193: UserWarning: Setting penalty=None will ignore the C and l1_ratio parameters\n",
      "  warnings.warn(\n",
      "/opt/conda/lib/python3.11/site-packages/sklearn/linear_model/_logistic.py:1183: FutureWarning: `penalty='none'`has been deprecated in 1.2 and will be removed in 1.4. To keep the past behaviour, set `penalty=None`.\n",
      "  warnings.warn(\n",
      "/opt/conda/lib/python3.11/site-packages/sklearn/linear_model/_logistic.py:1193: UserWarning: Setting penalty=None will ignore the C and l1_ratio parameters\n",
      "  warnings.warn(\n",
      "/opt/conda/lib/python3.11/site-packages/sklearn/linear_model/_logistic.py:1183: FutureWarning: `penalty='none'`has been deprecated in 1.2 and will be removed in 1.4. To keep the past behaviour, set `penalty=None`.\n",
      "  warnings.warn(\n",
      "/opt/conda/lib/python3.11/site-packages/sklearn/linear_model/_logistic.py:1193: UserWarning: Setting penalty=None will ignore the C and l1_ratio parameters\n",
      "  warnings.warn(\n",
      "/opt/conda/lib/python3.11/site-packages/sklearn/linear_model/_logistic.py:1183: FutureWarning: `penalty='none'`has been deprecated in 1.2 and will be removed in 1.4. To keep the past behaviour, set `penalty=None`.\n",
      "  warnings.warn(\n",
      "/opt/conda/lib/python3.11/site-packages/sklearn/linear_model/_logistic.py:1193: UserWarning: Setting penalty=None will ignore the C and l1_ratio parameters\n",
      "  warnings.warn(\n",
      "/opt/conda/lib/python3.11/site-packages/sklearn/linear_model/_logistic.py:1183: FutureWarning: `penalty='none'`has been deprecated in 1.2 and will be removed in 1.4. To keep the past behaviour, set `penalty=None`.\n",
      "  warnings.warn(\n",
      "/opt/conda/lib/python3.11/site-packages/sklearn/linear_model/_logistic.py:1193: UserWarning: Setting penalty=None will ignore the C and l1_ratio parameters\n",
      "  warnings.warn(\n",
      "/opt/conda/lib/python3.11/site-packages/sklearn/linear_model/_logistic.py:1183: FutureWarning: `penalty='none'`has been deprecated in 1.2 and will be removed in 1.4. To keep the past behaviour, set `penalty=None`.\n",
      "  warnings.warn(\n",
      "/opt/conda/lib/python3.11/site-packages/sklearn/linear_model/_logistic.py:1193: UserWarning: Setting penalty=None will ignore the C and l1_ratio parameters\n",
      "  warnings.warn(\n",
      "/opt/conda/lib/python3.11/site-packages/sklearn/linear_model/_logistic.py:1183: FutureWarning: `penalty='none'`has been deprecated in 1.2 and will be removed in 1.4. To keep the past behaviour, set `penalty=None`.\n",
      "  warnings.warn(\n",
      "/opt/conda/lib/python3.11/site-packages/sklearn/linear_model/_logistic.py:1193: UserWarning: Setting penalty=None will ignore the C and l1_ratio parameters\n",
      "  warnings.warn(\n",
      "/opt/conda/lib/python3.11/site-packages/sklearn/linear_model/_logistic.py:1183: FutureWarning: `penalty='none'`has been deprecated in 1.2 and will be removed in 1.4. To keep the past behaviour, set `penalty=None`.\n",
      "  warnings.warn(\n",
      "/opt/conda/lib/python3.11/site-packages/sklearn/linear_model/_logistic.py:1193: UserWarning: Setting penalty=None will ignore the C and l1_ratio parameters\n",
      "  warnings.warn(\n",
      "/opt/conda/lib/python3.11/site-packages/sklearn/linear_model/_logistic.py:1183: FutureWarning: `penalty='none'`has been deprecated in 1.2 and will be removed in 1.4. To keep the past behaviour, set `penalty=None`.\n",
      "  warnings.warn(\n",
      "/opt/conda/lib/python3.11/site-packages/sklearn/linear_model/_logistic.py:1193: UserWarning: Setting penalty=None will ignore the C and l1_ratio parameters\n",
      "  warnings.warn(\n",
      "/opt/conda/lib/python3.11/site-packages/sklearn/linear_model/_logistic.py:1183: FutureWarning: `penalty='none'`has been deprecated in 1.2 and will be removed in 1.4. To keep the past behaviour, set `penalty=None`.\n",
      "  warnings.warn(\n",
      "/opt/conda/lib/python3.11/site-packages/sklearn/linear_model/_logistic.py:1193: UserWarning: Setting penalty=None will ignore the C and l1_ratio parameters\n",
      "  warnings.warn(\n",
      "/opt/conda/lib/python3.11/site-packages/sklearn/linear_model/_logistic.py:1183: FutureWarning: `penalty='none'`has been deprecated in 1.2 and will be removed in 1.4. To keep the past behaviour, set `penalty=None`.\n",
      "  warnings.warn(\n",
      "/opt/conda/lib/python3.11/site-packages/sklearn/linear_model/_logistic.py:1193: UserWarning: Setting penalty=None will ignore the C and l1_ratio parameters\n",
      "  warnings.warn(\n",
      "/opt/conda/lib/python3.11/site-packages/sklearn/linear_model/_logistic.py:1183: FutureWarning: `penalty='none'`has been deprecated in 1.2 and will be removed in 1.4. To keep the past behaviour, set `penalty=None`.\n",
      "  warnings.warn(\n",
      "/opt/conda/lib/python3.11/site-packages/sklearn/linear_model/_logistic.py:1183: FutureWarning: `penalty='none'`has been deprecated in 1.2 and will be removed in 1.4. To keep the past behaviour, set `penalty=None`.\n",
      "  warnings.warn(\n",
      "/opt/conda/lib/python3.11/site-packages/sklearn/linear_model/_logistic.py:1183: FutureWarning: `penalty='none'`has been deprecated in 1.2 and will be removed in 1.4. To keep the past behaviour, set `penalty=None`.\n",
      "  warnings.warn(\n",
      "/opt/conda/lib/python3.11/site-packages/sklearn/linear_model/_logistic.py:1183: FutureWarning: `penalty='none'`has been deprecated in 1.2 and will be removed in 1.4. To keep the past behaviour, set `penalty=None`.\n",
      "  warnings.warn(\n",
      "/opt/conda/lib/python3.11/site-packages/sklearn/linear_model/_logistic.py:1183: FutureWarning: `penalty='none'`has been deprecated in 1.2 and will be removed in 1.4. To keep the past behaviour, set `penalty=None`.\n",
      "  warnings.warn(\n",
      "/opt/conda/lib/python3.11/site-packages/sklearn/linear_model/_logistic.py:1183: FutureWarning: `penalty='none'`has been deprecated in 1.2 and will be removed in 1.4. To keep the past behaviour, set `penalty=None`.\n",
      "  warnings.warn(\n",
      "/opt/conda/lib/python3.11/site-packages/sklearn/linear_model/_logistic.py:1193: UserWarning: Setting penalty=None will ignore the C and l1_ratio parameters\n",
      "  warnings.warn(\n",
      "/opt/conda/lib/python3.11/site-packages/sklearn/linear_model/_logistic.py:1183: FutureWarning: `penalty='none'`has been deprecated in 1.2 and will be removed in 1.4. To keep the past behaviour, set `penalty=None`.\n",
      "  warnings.warn(\n",
      "/opt/conda/lib/python3.11/site-packages/sklearn/linear_model/_logistic.py:1193: UserWarning: Setting penalty=None will ignore the C and l1_ratio parameters\n",
      "  warnings.warn(\n",
      "/opt/conda/lib/python3.11/site-packages/sklearn/linear_model/_logistic.py:1183: FutureWarning: `penalty='none'`has been deprecated in 1.2 and will be removed in 1.4. To keep the past behaviour, set `penalty=None`.\n",
      "  warnings.warn(\n",
      "/opt/conda/lib/python3.11/site-packages/sklearn/linear_model/_logistic.py:1183: FutureWarning: `penalty='none'`has been deprecated in 1.2 and will be removed in 1.4. To keep the past behaviour, set `penalty=None`.\n",
      "  warnings.warn(\n",
      "/opt/conda/lib/python3.11/site-packages/sklearn/linear_model/_logistic.py:1193: UserWarning: Setting penalty=None will ignore the C and l1_ratio parameters\n",
      "  warnings.warn(\n",
      "/opt/conda/lib/python3.11/site-packages/sklearn/linear_model/_logistic.py:1183: FutureWarning: `penalty='none'`has been deprecated in 1.2 and will be removed in 1.4. To keep the past behaviour, set `penalty=None`.\n",
      "  warnings.warn(\n",
      "/opt/conda/lib/python3.11/site-packages/sklearn/linear_model/_logistic.py:1193: UserWarning: Setting penalty=None will ignore the C and l1_ratio parameters\n",
      "  warnings.warn(\n",
      "/opt/conda/lib/python3.11/site-packages/sklearn/linear_model/_logistic.py:1183: FutureWarning: `penalty='none'`has been deprecated in 1.2 and will be removed in 1.4. To keep the past behaviour, set `penalty=None`.\n",
      "  warnings.warn(\n",
      "/opt/conda/lib/python3.11/site-packages/sklearn/linear_model/_logistic.py:1183: FutureWarning: `penalty='none'`has been deprecated in 1.2 and will be removed in 1.4. To keep the past behaviour, set `penalty=None`.\n",
      "  warnings.warn(\n",
      "/opt/conda/lib/python3.11/site-packages/sklearn/linear_model/_logistic.py:1193: UserWarning: Setting penalty=None will ignore the C and l1_ratio parameters\n",
      "  warnings.warn(\n",
      "/opt/conda/lib/python3.11/site-packages/sklearn/linear_model/_logistic.py:1183: FutureWarning: `penalty='none'`has been deprecated in 1.2 and will be removed in 1.4. To keep the past behaviour, set `penalty=None`.\n",
      "  warnings.warn(\n",
      "/opt/conda/lib/python3.11/site-packages/sklearn/linear_model/_logistic.py:1193: UserWarning: Setting penalty=None will ignore the C and l1_ratio parameters\n",
      "  warnings.warn(\n",
      "/opt/conda/lib/python3.11/site-packages/sklearn/linear_model/_logistic.py:1183: FutureWarning: `penalty='none'`has been deprecated in 1.2 and will be removed in 1.4. To keep the past behaviour, set `penalty=None`.\n",
      "  warnings.warn(\n",
      "/opt/conda/lib/python3.11/site-packages/sklearn/linear_model/_logistic.py:1183: FutureWarning: `penalty='none'`has been deprecated in 1.2 and will be removed in 1.4. To keep the past behaviour, set `penalty=None`.\n",
      "  warnings.warn(\n",
      "/opt/conda/lib/python3.11/site-packages/sklearn/linear_model/_logistic.py:1193: UserWarning: Setting penalty=None will ignore the C and l1_ratio parameters\n",
      "  warnings.warn(\n",
      "/opt/conda/lib/python3.11/site-packages/sklearn/linear_model/_logistic.py:1183: FutureWarning: `penalty='none'`has been deprecated in 1.2 and will be removed in 1.4. To keep the past behaviour, set `penalty=None`.\n",
      "  warnings.warn(\n",
      "/opt/conda/lib/python3.11/site-packages/sklearn/linear_model/_logistic.py:1193: UserWarning: Setting penalty=None will ignore the C and l1_ratio parameters\n",
      "  warnings.warn(\n",
      "/opt/conda/lib/python3.11/site-packages/sklearn/linear_model/_logistic.py:1183: FutureWarning: `penalty='none'`has been deprecated in 1.2 and will be removed in 1.4. To keep the past behaviour, set `penalty=None`.\n",
      "  warnings.warn(\n",
      "/opt/conda/lib/python3.11/site-packages/sklearn/linear_model/_logistic.py:1193: UserWarning: Setting penalty=None will ignore the C and l1_ratio parameters\n",
      "  warnings.warn(\n",
      "/opt/conda/lib/python3.11/site-packages/sklearn/linear_model/_logistic.py:1183: FutureWarning: `penalty='none'`has been deprecated in 1.2 and will be removed in 1.4. To keep the past behaviour, set `penalty=None`.\n",
      "  warnings.warn(\n",
      "/opt/conda/lib/python3.11/site-packages/sklearn/linear_model/_logistic.py:1193: UserWarning: Setting penalty=None will ignore the C and l1_ratio parameters\n",
      "  warnings.warn(\n",
      "/opt/conda/lib/python3.11/site-packages/sklearn/linear_model/_logistic.py:1183: FutureWarning: `penalty='none'`has been deprecated in 1.2 and will be removed in 1.4. To keep the past behaviour, set `penalty=None`.\n",
      "  warnings.warn(\n",
      "/opt/conda/lib/python3.11/site-packages/sklearn/linear_model/_logistic.py:1193: UserWarning: Setting penalty=None will ignore the C and l1_ratio parameters\n",
      "  warnings.warn(\n",
      "/opt/conda/lib/python3.11/site-packages/sklearn/linear_model/_logistic.py:1183: FutureWarning: `penalty='none'`has been deprecated in 1.2 and will be removed in 1.4. To keep the past behaviour, set `penalty=None`.\n",
      "  warnings.warn(\n",
      "/opt/conda/lib/python3.11/site-packages/sklearn/linear_model/_logistic.py:1193: UserWarning: Setting penalty=None will ignore the C and l1_ratio parameters\n",
      "  warnings.warn(\n",
      "/opt/conda/lib/python3.11/site-packages/sklearn/linear_model/_logistic.py:1183: FutureWarning: `penalty='none'`has been deprecated in 1.2 and will be removed in 1.4. To keep the past behaviour, set `penalty=None`.\n",
      "  warnings.warn(\n",
      "/opt/conda/lib/python3.11/site-packages/sklearn/linear_model/_logistic.py:1193: UserWarning: Setting penalty=None will ignore the C and l1_ratio parameters\n",
      "  warnings.warn(\n",
      "/opt/conda/lib/python3.11/site-packages/sklearn/linear_model/_logistic.py:1183: FutureWarning: `penalty='none'`has been deprecated in 1.2 and will be removed in 1.4. To keep the past behaviour, set `penalty=None`.\n",
      "  warnings.warn(\n",
      "/opt/conda/lib/python3.11/site-packages/sklearn/linear_model/_logistic.py:1193: UserWarning: Setting penalty=None will ignore the C and l1_ratio parameters\n",
      "  warnings.warn(\n",
      "/opt/conda/lib/python3.11/site-packages/sklearn/linear_model/_logistic.py:1183: FutureWarning: `penalty='none'`has been deprecated in 1.2 and will be removed in 1.4. To keep the past behaviour, set `penalty=None`.\n",
      "  warnings.warn(\n",
      "/opt/conda/lib/python3.11/site-packages/sklearn/linear_model/_logistic.py:1193: UserWarning: Setting penalty=None will ignore the C and l1_ratio parameters\n",
      "  warnings.warn(\n",
      "/opt/conda/lib/python3.11/site-packages/sklearn/linear_model/_logistic.py:1183: FutureWarning: `penalty='none'`has been deprecated in 1.2 and will be removed in 1.4. To keep the past behaviour, set `penalty=None`.\n",
      "  warnings.warn(\n",
      "/opt/conda/lib/python3.11/site-packages/sklearn/linear_model/_logistic.py:1193: UserWarning: Setting penalty=None will ignore the C and l1_ratio parameters\n",
      "  warnings.warn(\n",
      "/opt/conda/lib/python3.11/site-packages/sklearn/linear_model/_logistic.py:1183: FutureWarning: `penalty='none'`has been deprecated in 1.2 and will be removed in 1.4. To keep the past behaviour, set `penalty=None`.\n",
      "  warnings.warn(\n",
      "/opt/conda/lib/python3.11/site-packages/sklearn/linear_model/_logistic.py:1193: UserWarning: Setting penalty=None will ignore the C and l1_ratio parameters\n",
      "  warnings.warn(\n",
      "/opt/conda/lib/python3.11/site-packages/sklearn/linear_model/_logistic.py:1183: FutureWarning: `penalty='none'`has been deprecated in 1.2 and will be removed in 1.4. To keep the past behaviour, set `penalty=None`.\n",
      "  warnings.warn(\n",
      "/opt/conda/lib/python3.11/site-packages/sklearn/linear_model/_logistic.py:1193: UserWarning: Setting penalty=None will ignore the C and l1_ratio parameters\n",
      "  warnings.warn(\n",
      "/opt/conda/lib/python3.11/site-packages/sklearn/linear_model/_logistic.py:1183: FutureWarning: `penalty='none'`has been deprecated in 1.2 and will be removed in 1.4. To keep the past behaviour, set `penalty=None`.\n",
      "  warnings.warn(\n",
      "/opt/conda/lib/python3.11/site-packages/sklearn/linear_model/_logistic.py:1193: UserWarning: Setting penalty=None will ignore the C and l1_ratio parameters\n",
      "  warnings.warn(\n",
      "/opt/conda/lib/python3.11/site-packages/sklearn/linear_model/_logistic.py:1183: FutureWarning: `penalty='none'`has been deprecated in 1.2 and will be removed in 1.4. To keep the past behaviour, set `penalty=None`.\n",
      "  warnings.warn(\n",
      "/opt/conda/lib/python3.11/site-packages/sklearn/linear_model/_logistic.py:1193: UserWarning: Setting penalty=None will ignore the C and l1_ratio parameters\n",
      "  warnings.warn(\n",
      "/opt/conda/lib/python3.11/site-packages/sklearn/linear_model/_logistic.py:1183: FutureWarning: `penalty='none'`has been deprecated in 1.2 and will be removed in 1.4. To keep the past behaviour, set `penalty=None`.\n",
      "  warnings.warn(\n",
      "/opt/conda/lib/python3.11/site-packages/sklearn/linear_model/_logistic.py:1193: UserWarning: Setting penalty=None will ignore the C and l1_ratio parameters\n",
      "  warnings.warn(\n",
      "/opt/conda/lib/python3.11/site-packages/sklearn/linear_model/_logistic.py:1183: FutureWarning: `penalty='none'`has been deprecated in 1.2 and will be removed in 1.4. To keep the past behaviour, set `penalty=None`.\n",
      "  warnings.warn(\n",
      "/opt/conda/lib/python3.11/site-packages/sklearn/linear_model/_logistic.py:1193: UserWarning: Setting penalty=None will ignore the C and l1_ratio parameters\n",
      "  warnings.warn(\n",
      "/opt/conda/lib/python3.11/site-packages/sklearn/linear_model/_logistic.py:1183: FutureWarning: `penalty='none'`has been deprecated in 1.2 and will be removed in 1.4. To keep the past behaviour, set `penalty=None`.\n",
      "  warnings.warn(\n",
      "/opt/conda/lib/python3.11/site-packages/sklearn/linear_model/_logistic.py:1193: UserWarning: Setting penalty=None will ignore the C and l1_ratio parameters\n",
      "  warnings.warn(\n",
      "/opt/conda/lib/python3.11/site-packages/sklearn/linear_model/_logistic.py:1183: FutureWarning: `penalty='none'`has been deprecated in 1.2 and will be removed in 1.4. To keep the past behaviour, set `penalty=None`.\n",
      "  warnings.warn(\n",
      "/opt/conda/lib/python3.11/site-packages/sklearn/linear_model/_logistic.py:1193: UserWarning: Setting penalty=None will ignore the C and l1_ratio parameters\n",
      "  warnings.warn(\n"
     ]
    },
    {
     "name": "stdout",
     "output_type": "stream",
     "text": [
      "{'C': 5, 'class_weight': 'balanced', 'penalty': 'l2'}\n"
     ]
    }
   ],
   "source": [
    "# Baseline model: Logistic Regression\n",
    "logis_classifier_random = LogisticRegression()\n",
    "param_grid_random = {\n",
    "    'C': [5, 2, 1, 0.5, 0.1, 0.05],\n",
    "    'class_weight': ['balanced'],\n",
    "    'penalty': ['none', 'l2']\n",
    "}\n",
    "grid_search_random = GridSearchCV(estimator=logis_classifier_random, param_grid=param_grid_random, cv=8, n_jobs=-1, verbose=2)\n",
    "grid_search_random.fit(X_train_random, y_train_random)\n",
    "# Get the best parameters\n",
    "best_params_random = grid_search_random.best_params_\n",
    "print(best_params_random)\n",
    "# Get the best model\n",
    "best_xgb_classifier_random = grid_search_random.best_estimator_"
   ]
  },
  {
   "cell_type": "code",
   "execution_count": 160,
   "metadata": {},
   "outputs": [],
   "source": [
    "pred_train_logist_random = best_xgb_classifier_random.predict(X_train_random)\n",
    "acc_train_random = accuracy_score(y_train_random, pred_train_logist_random)\n",
    "prec_train_random = precision_score(y_train_random,pred_train_logist_random, average='macro')\n",
    "recall_train_random = recall_score(y_train_random,pred_train_logist_random, average='macro')\n",
    "f1_train_random = f1_score(y_train_random,pred_train_logist_random, average='macro')\n",
    "\n",
    "pred_test_logist_random = best_xgb_classifier_random.predict(X_test_random)\n",
    "acc_test_random = accuracy_score(y_test_random, pred_test_logist_random)\n",
    "prec_test_random = precision_score(y_test_random,pred_test_logist_random, average='macro')\n",
    "recall_test_random = recall_score(y_test_random,pred_test_logist_random, average='macro')\n",
    "f1_test_random = f1_score(y_test_random,pred_test_logist_random, average='macro')"
   ]
  },
  {
   "cell_type": "code",
   "execution_count": 161,
   "metadata": {},
   "outputs": [
    {
     "name": "stdout",
     "output_type": "stream",
     "text": [
      "**********Training Phase**********\n",
      "Train Acc: 0.7442\n",
      "Train Precision: 0.7003\n",
      "Train recall: 0.7718\n",
      "Train f1-score: 0.7193\n",
      "**********Test Phase**********\n",
      "Test Acc: 0.7674\n",
      "Test Precision: 0.7267\n",
      "Test recall: 0.7184\n",
      "Test f1-score: 0.7222\n"
     ]
    }
   ],
   "source": [
    "print(\"*\"*10 + \"Training Phase\" + \"*\"*10)\n",
    "print(\"Train Acc: %.4f\" %(acc_train_random))\n",
    "print(\"Train Precision: %.4f\" %(prec_train_random))\n",
    "print(\"Train recall: %.4f\" %(recall_train_random))\n",
    "print(\"Train f1-score: %.4f\" %(f1_train_random)) \n",
    "\n",
    "print(\"*\"*10 + \"Test Phase\" + \"*\"*10)\n",
    "print(\"Test Acc: %.4f\" %(acc_test_random))\n",
    "print(\"Test Precision: %.4f\" %(prec_test_random))\n",
    "print(\"Test recall: %.4f\" %(recall_test_random))\n",
    "print(\"Test f1-score: %.4f\" %(f1_test_random)) "
   ]
  },
  {
   "cell_type": "markdown",
   "metadata": {},
   "source": [
    "## Random Forest"
   ]
  },
  {
   "cell_type": "markdown",
   "metadata": {},
   "source": [
    "1. Mode imputation"
   ]
  },
  {
   "cell_type": "code",
   "execution_count": null,
   "metadata": {},
   "outputs": [],
   "source": [
    "# Create a random forest regressor\n",
    "rf_classifier = RandomForestClassifier()\n",
    "# grid search for hyperparameters\n",
    "param_grid = {\n",
    "    'n_estimators': [10, 50, 100, 200, 500],\n",
    "    'max_depth': [2, 5, 7, 10, 15],\n",
    "    'min_samples_split': [2, 5, 10, 20, 40],\n",
    "    'max_features' : [\"auto\", \"sqrt\", \"log2\"],\n",
    "    'class_weight': ['balanced']\n",
    "}\n",
    "grid_search = GridSearchCV(estimator=rf_classifier, param_grid=param_grid, cv=8, n_jobs=-1, verbose=1)\n",
    "grid_search.fit(X_train, y_train)\n",
    "# Get the best parameters\n",
    "best_params = grid_search.best_params_\n",
    "# Get the best model\n",
    "best_rf_classifier = grid_search.best_estimator_"
   ]
  },
  {
   "cell_type": "code",
   "execution_count": 62,
   "metadata": {},
   "outputs": [],
   "source": [
    "pred_train_rf = best_rf_classifier.predict(X_train)\n",
    "acc_train = accuracy_score(y_train, pred_train_rf)\n",
    "prec_train = precision_score(y_train,pred_train_rf, average='macro')\n",
    "recall_train = recall_score(y_train,pred_train_rf, average='macro')\n",
    "f1_train = f1_score(y_train,pred_train_rf, average='macro')\n",
    "\n",
    "pred_test_rf = best_rf_classifier.predict(X_test)\n",
    "acc_test = accuracy_score(y_test, pred_test_rf)\n",
    "prec_test = precision_score(y_test,pred_test_rf, average='macro')\n",
    "recall_test = recall_score(y_test,pred_test_rf, average='macro')\n",
    "f1_test = f1_score(y_test,pred_test_rf, average='macro')"
   ]
  },
  {
   "cell_type": "code",
   "execution_count": 63,
   "metadata": {},
   "outputs": [
    {
     "name": "stdout",
     "output_type": "stream",
     "text": [
      "**********Training Phase**********\n",
      "Train Acc: 0.8721\n",
      "Train Precision: 0.8362\n",
      "Train recall: 0.8740\n",
      "Train f1-score: 0.8502\n",
      "**********Test Phase**********\n",
      "Test Acc: 0.7674\n",
      "Test Precision: 0.7251\n",
      "Test recall: 0.6850\n",
      "Test f1-score: 0.6991\n"
     ]
    }
   ],
   "source": [
    "print(\"*\"*10 + \"Training Phase\" + \"*\"*10)\n",
    "print(\"Train Acc: %.4f\" %(acc_train))\n",
    "print(\"Train Precision: %.4f\" %(prec_train))\n",
    "print(\"Train recall: %.4f\" %(recall_train))\n",
    "print(\"Train f1-score: %.4f\" %(f1_train)) \n",
    "\n",
    "print(\"*\"*10 + \"Test Phase\" + \"*\"*10)\n",
    "print(\"Test Acc: %.4f\" %(acc_test))\n",
    "print(\"Test Precision: %.4f\" %(prec_test))\n",
    "print(\"Test recall: %.4f\" %(recall_test))\n",
    "print(\"Test f1-score: %.4f\" %(f1_test)) "
   ]
  },
  {
   "cell_type": "markdown",
   "metadata": {},
   "source": [
    "2. Low imputation"
   ]
  },
  {
   "cell_type": "code",
   "execution_count": null,
   "metadata": {},
   "outputs": [],
   "source": [
    "# Create a random forest regressor\n",
    "rf_classifier_low = RandomForestClassifier()\n",
    "# grid search for hyperparameters\n",
    "param_grid_low = {\n",
    "    'n_estimators': [10, 50, 100, 200, 500],\n",
    "    'max_depth': [2, 5, 7, 10, 15],\n",
    "    'min_samples_split': [2, 5, 10, 20, 40],\n",
    "    'max_features' : [\"auto\", \"sqrt\", \"log2\"],\n",
    "    'class_weight': ['balanced']\n",
    "}\n",
    "grid_search_low = GridSearchCV(estimator=rf_classifier_low, param_grid=param_grid_low, cv=8, n_jobs=-1, verbose=2)\n",
    "grid_search_low.fit(X_train_low, y_train_low)\n",
    "# Get the best parameters\n",
    "best_params_low = grid_search_low.best_params_\n",
    "# Get the best model\n",
    "best_rf_classifier_low = grid_search_low.best_estimator_"
   ]
  },
  {
   "cell_type": "code",
   "execution_count": 66,
   "metadata": {},
   "outputs": [],
   "source": [
    "pred_train_rf_low = best_rf_classifier_low.predict(X_train_low)\n",
    "acc_train_low = accuracy_score(y_train_low, pred_train_rf_low)\n",
    "prec_train_low = precision_score(y_train_low,pred_train_rf_low, average='macro')\n",
    "recall_train_low = recall_score(y_train_low,pred_train_rf_low, average='macro')\n",
    "f1_train_low = f1_score(y_train_low,pred_train_rf_low, average='macro')"
   ]
  },
  {
   "cell_type": "code",
   "execution_count": 67,
   "metadata": {},
   "outputs": [],
   "source": [
    "pred_test_rf_low = best_rf_classifier_low.predict(X_test_low)\n",
    "acc_test_low = accuracy_score(y_test_low, pred_test_rf_low)\n",
    "prec_test_low = precision_score(y_test_low,pred_test_rf_low, average='macro')\n",
    "recall_test_low = recall_score(y_test_low,pred_test_rf_low, average='macro')\n",
    "f1_test_low = f1_score(y_test_low,pred_test_rf_low, average='macro')"
   ]
  },
  {
   "cell_type": "code",
   "execution_count": null,
   "metadata": {},
   "outputs": [],
   "source": [
    "print(\"*\"*10 + \"Training Phase\" + \"*\"*10)\n",
    "print(\"Train Acc: %.4f\" %(acc_train_low))\n",
    "print(\"Train Precision: %.4f\" %(prec_train_low))\n",
    "print(\"Train recall: %.4f\" %(recall_train_low))\n",
    "print(\"Train f1-score: %.4f\" %(f1_train_low)) \n",
    "\n",
    "print(\"*\"*10 + \"Test Phase\" + \"*\"*10)\n",
    "print(\"Test Acc: %.4f\" %(acc_test_low))\n",
    "print(\"Test Precision: %.4f\" %(prec_test_low))\n",
    "print(\"Test recall: %.4f\" %(recall_test_low))\n",
    "print(\"Test f1-score: %.4f\" %(f1_test_low))"
   ]
  },
  {
   "cell_type": "markdown",
   "metadata": {},
   "source": [
    "3. Random imputation"
   ]
  },
  {
   "cell_type": "code",
   "execution_count": null,
   "metadata": {},
   "outputs": [],
   "source": [
    "# Create a random forest regressor using random imputation\n",
    "rf_classifier_random = RandomForestClassifier()\n",
    "# grid search for hyperparameters\n",
    "param_grid_random = {\n",
    "    'n_estimators': [10, 50, 100, 200, 500],\n",
    "    'max_depth': [2, 5, 7, 10, 15],\n",
    "    'min_samples_split': [2, 5, 10, 20, 40],\n",
    "    'max_features' : [\"auto\", \"sqrt\", \"log2\"],\n",
    "    'class_weight': ['balanced']\n",
    "}\n",
    "grid_search_random = GridSearchCV(estimator=rf_classifier_random, param_grid=param_grid_random, cv=8, n_jobs=-1, verbose=2)\n",
    "grid_search_random.fit(X_train_random, y_train_random)\n",
    "# Get the best parameters\n",
    "best_params_random = grid_search_random.best_params_\n",
    "# Get the best model\n",
    "best_rf_classifier_random = grid_search_random.best_estimator_"
   ]
  },
  {
   "cell_type": "code",
   "execution_count": 70,
   "metadata": {},
   "outputs": [],
   "source": [
    "pred_train_rf_random = best_rf_classifier_random.predict(X_train_random)\n",
    "acc_train_random = accuracy_score(y_train_random, pred_train_rf_random)\n",
    "prec_train_random = precision_score(y_train_random,pred_train_rf_random, average='macro')\n",
    "recall_train_random = recall_score(y_train_random,pred_train_rf_random, average='macro')\n",
    "f1_train_random = f1_score(y_train_random,pred_train_rf_random, average='macro')"
   ]
  },
  {
   "cell_type": "code",
   "execution_count": 71,
   "metadata": {},
   "outputs": [],
   "source": [
    "pred_test_rf_random = best_rf_classifier_random.predict(X_test_random)\n",
    "acc_test_random = accuracy_score(y_test_random, pred_test_rf_random)\n",
    "prec_test_random = precision_score(y_test_random,pred_test_rf_random, average='macro')\n",
    "recall_test_random = recall_score(y_test_random,pred_test_rf_random, average='macro')\n",
    "f1_test_random = f1_score(y_test_random,pred_test_rf_random, average='macro')"
   ]
  },
  {
   "cell_type": "code",
   "execution_count": 72,
   "metadata": {},
   "outputs": [
    {
     "name": "stdout",
     "output_type": "stream",
     "text": [
      "**********Training Phase**********\n",
      "Train Acc: 0.8895\n",
      "Train Precision: 0.8662\n",
      "Train recall: 0.8996\n",
      "Train f1-score: 0.8791\n",
      "**********Test Phase**********\n",
      "Test Acc: 0.7558\n",
      "Test Precision: 0.7389\n",
      "Test recall: 0.6841\n",
      "Test f1-score: 0.6997\n"
     ]
    }
   ],
   "source": [
    "print(\"*\"*10 + \"Training Phase\" + \"*\"*10)\n",
    "print(\"Train Acc: %.4f\" %(acc_train_random))\n",
    "print(\"Train Precision: %.4f\" %(prec_train_random))\n",
    "print(\"Train recall: %.4f\" %(recall_train_random))\n",
    "print(\"Train f1-score: %.4f\" %(f1_train_random)) \n",
    "\n",
    "print(\"*\"*10 + \"Test Phase\" + \"*\"*10)\n",
    "print(\"Test Acc: %.4f\" %(acc_test_random))\n",
    "print(\"Test Precision: %.4f\" %(prec_test_random))\n",
    "print(\"Test recall: %.4f\" %(recall_test_random))\n",
    "print(\"Test f1-score: %.4f\" %(f1_test_random))"
   ]
  },
  {
   "cell_type": "markdown",
   "metadata": {},
   "source": [
    "## Gradient Boosting"
   ]
  },
  {
   "cell_type": "markdown",
   "metadata": {},
   "source": [
    "1. Mode imputation"
   ]
  },
  {
   "cell_type": "code",
   "execution_count": null,
   "metadata": {},
   "outputs": [
    {
     "name": "stdout",
     "output_type": "stream",
     "text": [
      "Fitting 8 folds for each of 2916 candidates, totalling 23328 fits\n"
     ]
    }
   ],
   "source": [
    "xgb_classifier = xgb.XGBClassifier()\n",
    "param_grid = {\n",
    "    'n_estimators': [50, 100, 200],\n",
    "    'max_depth': [2, 5, 7],\n",
    "    'subsample': [0.95, 0.75, 0.5],\n",
    "    'lambda': [1, 0.75, 0.5],\n",
    "    'alpha': [2, 1, 0.5],\n",
    "    'eta': [0.5, 0.1, 0.3],\n",
    "    'max_delta_step': [0, 1, 2, 5],\n",
    "    'random_state': [11]\n",
    "}\n",
    "grid_search = GridSearchCV(estimator=xgb_classifier, param_grid=param_grid, cv=8, n_jobs=-1, verbose=1)\n",
    "grid_search.fit(X_train, y_train)\n",
    "# Get the best parameters\n",
    "best_params = grid_search.best_params_\n",
    "# Get the best model\n",
    "best_xgb_classifier = grid_search.best_estimator_"
   ]
  },
  {
   "cell_type": "code",
   "execution_count": 77,
   "metadata": {},
   "outputs": [],
   "source": [
    "pred_train_xgbm = best_xgb_classifier.predict(X_train)\n",
    "acc_train = accuracy_score(y_train, pred_train_xgbm)\n",
    "prec_train = precision_score(y_train,pred_train_xgbm, average='macro')\n",
    "recall_train = recall_score(y_train,pred_train_xgbm, average='macro')\n",
    "f1_train = f1_score(y_train,pred_train_xgbm, average='macro')\n",
    "\n",
    "pred_test_xgbm = best_xgb_classifier.predict(X_test)\n",
    "acc_test = accuracy_score(y_test, pred_test_xgbm)\n",
    "prec_test = precision_score(y_test,pred_test_xgbm, average='macro')\n",
    "recall_test = recall_score(y_test,pred_test_xgbm, average='macro')\n",
    "f1_test = f1_score(y_test,pred_test_xgbm, average='macro')"
   ]
  },
  {
   "cell_type": "code",
   "execution_count": 79,
   "metadata": {},
   "outputs": [
    {
     "name": "stdout",
     "output_type": "stream",
     "text": [
      "**********Training Phase**********\n",
      "Train Acc: 0.8430\n",
      "Train Precision: 0.8342\n",
      "Train recall: 0.7682\n",
      "Train f1-score: 0.7919\n",
      "**********Test Phase**********\n",
      "Test Acc: 0.7326\n",
      "Test Precision: 0.7441\n",
      "Test recall: 0.6427\n",
      "Test f1-score: 0.6568\n"
     ]
    }
   ],
   "source": [
    "print(\"*\"*10 + \"Training Phase\" + \"*\"*10)\n",
    "print(\"Train Acc: %.4f\" %(acc_train))\n",
    "print(\"Train Precision: %.4f\" %(prec_train))\n",
    "print(\"Train recall: %.4f\" %(recall_train))\n",
    "print(\"Train f1-score: %.4f\" %(f1_train)) \n",
    "\n",
    "print(\"*\"*10 + \"Test Phase\" + \"*\"*10)\n",
    "print(\"Test Acc: %.4f\" %(acc_test))\n",
    "print(\"Test Precision: %.4f\" %(prec_test))\n",
    "print(\"Test recall: %.4f\" %(recall_test))\n",
    "print(\"Test f1-score: %.4f\" %(f1_test)) "
   ]
  },
  {
   "cell_type": "markdown",
   "metadata": {},
   "source": [
    "2. Low score imputation"
   ]
  },
  {
   "cell_type": "code",
   "execution_count": null,
   "metadata": {},
   "outputs": [],
   "source": [
    "xgb_classifier_low = xgb.XGBClassifier()\n",
    "param_grid_low = {\n",
    "    'n_estimators': [50, 100, 200],\n",
    "    'max_depth': [2, 5, 7],\n",
    "    'subsample': [0.95, 0.75, 0.5],\n",
    "    'lambda': [1, 0.75, 0.5],\n",
    "    'alpha': [2, 1, 0.5],\n",
    "    'eta': [0.5, 0.1, 0.3],\n",
    "    'max_delta_step': [0, 1, 2, 5],\n",
    "    'random_state': [11]\n",
    "}\n",
    "grid_search_low = GridSearchCV(estimator=xgb_classifier_low, param_grid=param_grid_low, cv=8, n_jobs=-1, verbose=1)\n",
    "grid_search_low.fit(X_train_low, y_train_low)\n",
    "# Get the best parameters\n",
    "best_params_low = grid_search_low.best_params_\n",
    "# Get the best model\n",
    "best_xgb_classifier_low = grid_search_low.best_estimator_"
   ]
  },
  {
   "cell_type": "code",
   "execution_count": 81,
   "metadata": {},
   "outputs": [],
   "source": [
    "pred_train_xgbm_low = best_xgb_classifier_low.predict(X_train_low)\n",
    "acc_train_low = accuracy_score(y_train_low, pred_train_xgbm_low)\n",
    "prec_train_low = precision_score(y_train_low,pred_train_xgbm_low, average='macro')\n",
    "recall_train_low = recall_score(y_train_low,pred_train_xgbm_low, average='macro')\n",
    "f1_train_low = f1_score(y_train_low,pred_train_xgbm_low, average='macro')\n",
    "\n",
    "pred_test_xgbm_low = best_xgb_classifier_low.predict(X_test_low)\n",
    "acc_test_low = accuracy_score(y_test_low, pred_test_xgbm_low)\n",
    "prec_test_low = precision_score(y_test_low,pred_test_xgbm_low, average='macro')\n",
    "recall_test_low = recall_score(y_test_low,pred_test_xgbm_low, average='macro')\n",
    "f1_test_low = f1_score(y_test_low,pred_test_xgbm_low, average='macro')"
   ]
  },
  {
   "cell_type": "code",
   "execution_count": 82,
   "metadata": {},
   "outputs": [
    {
     "name": "stdout",
     "output_type": "stream",
     "text": [
      "**********Training Phase**********\n",
      "Train Acc: 0.9070\n",
      "Train Precision: 0.8976\n",
      "Train recall: 0.8545\n",
      "Train f1-score: 0.8725\n",
      "**********Test Phase**********\n",
      "Test Acc: 0.7326\n",
      "Test Precision: 0.7012\n",
      "Test recall: 0.6323\n",
      "Test f1-score: 0.6340\n"
     ]
    }
   ],
   "source": [
    "print(\"*\"*10 + \"Training Phase\" + \"*\"*10)\n",
    "print(\"Train Acc: %.4f\" %(acc_train_low))\n",
    "print(\"Train Precision: %.4f\" %(prec_train_low))\n",
    "print(\"Train recall: %.4f\" %(recall_train_low))\n",
    "print(\"Train f1-score: %.4f\" %(f1_train_low)) \n",
    "\n",
    "print(\"*\"*10 + \"Test Phase\" + \"*\"*10)\n",
    "print(\"Test Acc: %.4f\" %(acc_test_low))\n",
    "print(\"Test Precision: %.4f\" %(prec_test_low))\n",
    "print(\"Test recall: %.4f\" %(recall_test_low))\n",
    "print(\"Test f1-score: %.4f\" %(f1_test_low))"
   ]
  },
  {
   "cell_type": "markdown",
   "metadata": {},
   "source": [
    "3. Random imputation"
   ]
  },
  {
   "cell_type": "code",
   "execution_count": 83,
   "metadata": {},
   "outputs": [
    {
     "name": "stdout",
     "output_type": "stream",
     "text": [
      "Fitting 8 folds for each of 2916 candidates, totalling 23328 fits\n",
      "{'alpha': 2, 'eta': 0.3, 'lambda': 1, 'max_delta_step': 1, 'max_depth': 2, 'n_estimators': 50, 'random_state': 11, 'subsample': 0.5}\n"
     ]
    }
   ],
   "source": [
    "# Random imputation\n",
    "xgb_classifier_random = xgb.XGBClassifier()\n",
    "param_grid_random = {\n",
    "    'n_estimators': [50, 100, 200],\n",
    "    'max_depth': [2, 5, 7],\n",
    "    'subsample': [0.95, 0.75, 0.5],\n",
    "    'lambda': [1, 0.75, 0.5],\n",
    "    'alpha': [2, 1, 0.5],\n",
    "    'eta': [0.5, 0.1, 0.3],\n",
    "    'max_delta_step': [0, 1, 2, 5],\n",
    "    'random_state': [11]\n",
    "}\n",
    "grid_search_random = GridSearchCV(estimator=xgb_classifier_random, param_grid=param_grid_random, cv=8, n_jobs=-1, verbose=1)\n",
    "grid_search_random.fit(X_train_random, y_train_random)\n",
    "# Get the best parameters\n",
    "best_params_random = grid_search_random.best_params_\n",
    "print(best_params_random)\n",
    "# Get the best model\n",
    "best_xgb_classifier_random = grid_search_random.best_estimator_"
   ]
  },
  {
   "cell_type": "code",
   "execution_count": 85,
   "metadata": {},
   "outputs": [],
   "source": [
    "pred_train_xgbm_random = best_xgb_classifier_random.predict(X_train_random)\n",
    "acc_train_random = accuracy_score(y_train_random, pred_train_xgbm_random)\n",
    "prec_train_random = precision_score(y_train_random,pred_train_xgbm_random, average='macro')\n",
    "recall_train_random = recall_score(y_train_random,pred_train_xgbm_random, average='macro')\n",
    "f1_train_random = f1_score(y_train_random,pred_train_xgbm_random, average='macro')\n",
    "\n",
    "pred_test_xgbm_random = best_xgb_classifier_random.predict(X_test_random)\n",
    "acc_test_random = accuracy_score(y_test_random, pred_test_xgbm_random)\n",
    "prec_test_random = precision_score(y_test_random,pred_test_xgbm_random, average='macro')\n",
    "recall_test_random = recall_score(y_test_random,pred_test_xgbm_random, average='macro')\n",
    "f1_test_random = f1_score(y_test_random,pred_test_xgbm_random, average='macro')"
   ]
  },
  {
   "cell_type": "code",
   "execution_count": 86,
   "metadata": {},
   "outputs": [
    {
     "name": "stdout",
     "output_type": "stream",
     "text": [
      "**********Training Phase**********\n",
      "Train Acc: 0.8314\n",
      "Train Precision: 0.8258\n",
      "Train recall: 0.7594\n",
      "Train f1-score: 0.7834\n",
      "**********Test Phase**********\n",
      "Test Acc: 0.7209\n",
      "Test Precision: 0.7050\n",
      "Test recall: 0.6356\n",
      "Test f1-score: 0.6444\n"
     ]
    }
   ],
   "source": [
    "print(\"*\"*10 + \"Training Phase\" + \"*\"*10)\n",
    "print(\"Train Acc: %.4f\" %(acc_train_random))\n",
    "print(\"Train Precision: %.4f\" %(prec_train_random))\n",
    "print(\"Train recall: %.4f\" %(recall_train_random))\n",
    "print(\"Train f1-score: %.4f\" %(f1_train_random)) \n",
    "\n",
    "print(\"*\"*10 + \"Test Phase\" + \"*\"*10)\n",
    "print(\"Test Acc: %.4f\" %(acc_test_random))\n",
    "print(\"Test Precision: %.4f\" %(prec_test_random))\n",
    "print(\"Test recall: %.4f\" %(recall_test_random))\n",
    "print(\"Test f1-score: %.4f\" %(f1_test_random))"
   ]
  },
  {
   "cell_type": "code",
   "execution_count": 65,
   "metadata": {},
   "outputs": [
    {
     "data": {
      "image/png": "[encoded data removed]",
      "text/plain": [
       "<Figure size 1152x288 with 6 Axes>"
      ]
     },
     "metadata": {
      "needs_background": "light"
     },
     "output_type": "display_data"
    }
   ],
   "source": [
    "label_map = {0: 'Low', 1: 'Medium', 2: 'High'}\n",
    "\n",
    "plt.subplots(figsize=(16, 4))\n",
    "ax1 = plt.subplot(1, 3, 1)\n",
    "confMat=confusion_matrix(y_test, pred_test_logist)\n",
    "confMat=pd.DataFrame(confMat)\n",
    "confMat=confMat.rename(index=label_map, columns= label_map)\n",
    "ax1=sns.heatmap(confMat, fmt='d',cmap='Greys',annot=True)\n",
    "ax1.set_title('Confusion Matrix on Test Set (Logistic Regression)', fontsize=12)\n",
    "ax1.set_xlabel('Predicted Class', fontsize=10)\n",
    "ax1.set_ylabel('True Class', fontsize=10)\n",
    "\n",
    "ax2 = plt.subplot(1, 3, 2)\n",
    "confMat=confusion_matrix(y_test, pred_test_rf)\n",
    "confMat=pd.DataFrame(confMat)\n",
    "confMat=confMat.rename(index=label_map, columns= label_map)\n",
    "ax2=sns.heatmap(confMat, fmt='d',cmap='Greys',annot=True)\n",
    "ax2.set_title('Confusion Matrix on Test Set (Random Forest)', fontsize=12)\n",
    "ax2.set_xlabel('Predicted Class', fontsize=10)\n",
    "ax2.set_ylabel('True Class', fontsize=10)\n",
    "\n",
    "ax3 = plt.subplot(1, 3, 3)\n",
    "confMat=confusion_matrix(y_test, pred_test_xgbm)\n",
    "confMat=pd.DataFrame(confMat)\n",
    "confMat=confMat.rename(index=label_map, columns= label_map)\n",
    "ax3=sns.heatmap(confMat, fmt='d',cmap='Greys',annot=True)\n",
    "ax3.set_title('Confusion Matrix on Test Set (XGBoost)', fontsize=12)\n",
    "ax3.set_xlabel('Predicted Class', fontsize=10)\n",
    "ax3.set_ylabel('True Class', fontsize=10)\n",
    "\n",
    "plt.show()"
   ]
  }
 ],
 "metadata": {
  "kernelspec": {
   "display_name": "Python 3 (ipykernel)",
   "language": "python",
   "name": "python3"
  },
  "language_info": {
   "codemirror_mode": {
    "name": "ipython",
    "version": 3
   },
   "file_extension": ".py",
   "mimetype": "text/x-python",
   "name": "python",
   "nbconvert_exporter": "python",
   "pygments_lexer": "ipython3",
   "version": "3.11.6"
  }
 },
 "nbformat": 4,
 "nbformat_minor": 4
}
