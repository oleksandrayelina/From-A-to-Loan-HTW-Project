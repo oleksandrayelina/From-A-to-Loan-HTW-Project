{
 "cells": [
  {
   "cell_type": "code",
   "execution_count": null,
   "metadata": {},
   "outputs": [],
   "source": [
    "# Import required libs\n",
    "import numpy as np\n",
    "import pandas as pd\n",
    "import matplotlib.pyplot as plt\n",
    "import seaborn as sns\n",
    "from sklearn.model_selection import train_test_split\n",
    "from sklearn.model_selection import GridSearchCV\n",
    "import xgboost as xgb\n",
    "from sklearn.ensemble import RandomForestClassifier\n",
    "from sklearn.linear_model import LogisticRegression\n",
    "from sklearn.svm import SVC\n",
    "from sklearn.ensemble import GradientBoostingClassifier\n",
    "from sklearn.neighbors import KNeighborsRegressor\n",
    "from sklearn.metrics import mean_squared_error, r2_score\n",
    "from sklearn.metrics import accuracy_score,precision_score,f1_score,recall_score\n",
    "from sklearn.metrics import confusion_matrix\n",
    "from sklearn.impute import KNNImputer\n",
    "from sklearn.preprocessing import OrdinalEncoder\n",
    "pd.set_option(\"future.no_silent_downcasting\", True)"
   ]
  },
  {
   "cell_type": "markdown",
   "metadata": {},
   "source": [
    "### Support Vector Machines"
   ]
  },
  {
   "cell_type": "code",
   "execution_count": null,
   "metadata": {},
   "outputs": [
    {
     "name": "stdout",
     "output_type": "stream",
     "text": [
      "Fitting 8 folds for each of 12 candidates, totalling 96 fits\n",
      "{'C': 10, 'gamma': 'scale', 'kernel': 'linear'}\n"
     ]
    }
   ],
   "source": [
    "svm_classifier = SVC()\n",
    "param_grid = {\n",
    "    'C': [0.1, 1, 10],\n",
    "    'kernel': ['linear', 'rbf'],\n",
    "    'gamma': ['scale', 'auto']\n",
    "}\n",
    "grid_search = GridSearchCV(estimator=svm_classifier, param_grid=param_grid, cv=8, n_jobs=-1, verbose=2)\n",
    "grid_search.fit(X_train, y_train)\n",
    "# Get the best parameters\n",
    "best_params = grid_search.best_params_\n",
    "print(best_params)\n",
    "# Get the best model\n",
    "best_svm_classifier = grid_search.best_estimator_"
   ]
  },
  {
   "cell_type": "code",
   "execution_count": null,
   "metadata": {},
   "outputs": [],
   "source": [
    "pred_train_svm = best_svm_classifier.predict(X_train)\n",
    "acc_train = accuracy_score(y_train, pred_train_svm)\n",
    "prec_train = precision_score(y_train, pred_train_svm, average='macro')\n",
    "recall_train = recall_score(y_train, pred_train_svm, average='macro')\n",
    "f1_train = f1_score(y_train, pred_train_svm, average='macro')\n",
    "\n",
    "pred_test_svm = best_svm_classifier.predict(X_test)\n",
    "acc_test = accuracy_score(y_test, pred_test_svm)\n",
    "prec_test = precision_score(y_test, pred_test_svm, average='macro')\n",
    "recall_test = recall_score(y_test, pred_test_svm, average='macro')\n",
    "f1_test = f1_score(y_test, pred_test_svm, average='macro')"
   ]
  },
  {
   "cell_type": "code",
   "execution_count": null,
   "metadata": {},
   "outputs": [
    {
     "name": "stdout",
     "output_type": "stream",
     "text": [
      "**********Training Phase**********\n",
      "Train Acc: 0.7820\n",
      "Train Precision: 0.7730\n",
      "Train recall: 0.7155\n",
      "Train f1-score: 0.7370\n",
      "**********Test Phase**********\n",
      "Test Acc: 0.7558\n",
      "Test Precision: 0.7605\n",
      "Test recall: 0.6632\n",
      "Test f1-score: 0.6758\n"
     ]
    }
   ],
   "source": [
    "print(\"*\"*10 + \"Training Phase\" + \"*\"*10)\n",
    "print(\"Train Acc: %.4f\" % acc_train)\n",
    "print(\"Train Precision: %.4f\" % prec_train)\n",
    "print(\"Train recall: %.4f\" % recall_train)\n",
    "print(\"Train f1-score: %.4f\" % f1_train)\n",
    "\n",
    "print(\"*\"*10 + \"Test Phase\" + \"*\"*10)\n",
    "print(\"Test Acc: %.4f\" % acc_test)\n",
    "print(\"Test Precision: %.4f\" % prec_test)\n",
    "print(\"Test recall: %.4f\" % recall_test)\n",
    "print(\"Test f1-score: %.4f\" % f1_test)"
   ]
  },
  {
   "cell_type": "markdown",
   "metadata": {},
   "source": [
    "### Gradient Boosting"
   ]
  },
  {
   "cell_type": "code",
   "execution_count": null,
   "metadata": {},
   "outputs": [
    {
     "name": "stdout",
     "output_type": "stream",
     "text": [
      "Fitting 8 folds for each of 27 candidates, totalling 216 fits\n",
      "{'learning_rate': 0.1, 'max_depth': 3, 'n_estimators': 50}\n"
     ]
    }
   ],
   "source": [
    "gb_classifier = GradientBoostingClassifier()\n",
    "param_grid = {\n",
    "    'n_estimators': [50, 100, 200],\n",
    "    'learning_rate': [0.01, 0.1, 0.2],\n",
    "    'max_depth': [3, 5, 7]\n",
    "}\n",
    "grid_search = GridSearchCV(estimator=gb_classifier, param_grid=param_grid, cv=8, n_jobs=-1, verbose=2)\n",
    "grid_search.fit(X_train, y_train)\n",
    "# Get the best parameters\n",
    "best_params = grid_search.best_params_\n",
    "print(best_params)\n",
    "# Get the best model\n",
    "best_gb_classifier = grid_search.best_estimator_"
   ]
  },
  {
   "cell_type": "code",
   "execution_count": null,
   "metadata": {},
   "outputs": [],
   "source": [
    "pred_train_gb = best_gb_classifier.predict(X_train)\n",
    "acc_train = accuracy_score(y_train, pred_train_gb)\n",
    "prec_train = precision_score(y_train, pred_train_gb, average='macro')\n",
    "recall_train = recall_score(y_train, pred_train_gb, average='macro')\n",
    "f1_train = f1_score(y_train, pred_train_gb, average='macro')\n",
    "\n",
    "pred_test_gb = best_gb_classifier.predict(X_test)\n",
    "acc_test = accuracy_score(y_test, pred_test_gb)\n",
    "prec_test = precision_score(y_test, pred_test_gb, average='macro')\n",
    "recall_test = recall_score(y_test, pred_test_gb, average='macro')\n",
    "f1_test = f1_score(y_test, pred_test_gb, average='macro')"
   ]
  },
  {
   "cell_type": "code",
   "execution_count": null,
   "metadata": {},
   "outputs": [
    {
     "name": "stdout",
     "output_type": "stream",
     "text": [
      "**********Training Phase**********\n",
      "Train Acc: 0.9041\n",
      "Train Precision: 0.9116\n",
      "Train recall: 0.8522\n",
      "Train f1-score: 0.8758\n",
      "**********Test Phase**********\n",
      "Test Acc: 0.6977\n",
      "Test Precision: 0.6667\n",
      "Test recall: 0.5923\n",
      "Test f1-score: 0.6012\n"
     ]
    }
   ],
   "source": [
    "print(\"*\"*10 + \"Training Phase\" + \"*\"*10)\n",
    "print(\"Train Acc: %.4f\" % acc_train)\n",
    "print(\"Train Precision: %.4f\" % prec_train)\n",
    "print(\"Train recall: %.4f\" % recall_train)\n",
    "print(\"Train f1-score: %.4f\" % f1_train)\n",
    "\n",
    "print(\"*\"*10 + \"Test Phase\" + \"*\"*10)\n",
    "print(\"Test Acc: %.4f\" % acc_test)\n",
    "print(\"Test Precision: %.4f\" % prec_test)\n",
    "print(\"Test recall: %.4f\" % recall_test)\n",
    "print(\"Test f1-score: %.4f\" % f1_test)"
   ]
  },
  {
   "cell_type": "markdown",
   "metadata": {},
   "source": [
    "### K-Nearest Neighbors"
   ]
  },
  {
   "cell_type": "code",
   "execution_count": null,
   "metadata": {},
   "outputs": [
    {
     "name": "stdout",
     "output_type": "stream",
     "text": [
      "Fitting 8 folds for each of 20 candidates, totalling 160 fits\n",
      "{'n_neighbors': 15, 'p': 1, 'weights': 'uniform'}\n"
     ]
    }
   ],
   "source": [
    "knn_regressor = KNeighborsRegressor()\n",
    "param_grid = {\n",
    "    'n_neighbors': [3, 5, 7, 10, 15],\n",
    "    'weights': ['uniform', 'distance'],\n",
    "    'p': [1, 2]  # p=1 is for Manhattan distance, p=2 is for Euclidean distance\n",
    "}\n",
    "grid_search = GridSearchCV(estimator=knn_regressor, param_grid=param_grid, cv=8, n_jobs=-1, verbose=2)\n",
    "grid_search.fit(X_train, y_train)\n",
    "# Get the best parameters\n",
    "best_params = grid_search.best_params_\n",
    "print(best_params)\n",
    "# Get the best model\n",
    "best_knn_regressor = grid_search.best_estimator_"
   ]
  },
  {
   "cell_type": "code",
   "execution_count": null,
   "metadata": {},
   "outputs": [],
   "source": [
    "pred_train_knn = best_knn_regressor.predict(X_train)\n",
    "mse_train = mean_squared_error(y_train, pred_train_knn)\n",
    "r2_train = r2_score(y_train, pred_train_knn)\n",
    "\n",
    "pred_test_knn = best_knn_regressor.predict(X_test)\n",
    "mse_test = mean_squared_error(y_test, pred_test_knn)\n",
    "r2_test = r2_score(y_test, pred_test_knn)"
   ]
  },
  {
   "cell_type": "code",
   "execution_count": null,
   "metadata": {},
   "outputs": [
    {
     "name": "stdout",
     "output_type": "stream",
     "text": [
      "**********Training Phase**********\n",
      "Train MSE: 0.1636\n",
      "Train R^2: 0.6300\n",
      "**********Test Phase**********\n",
      "Test MSE: 0.2279\n",
      "Test R^2: 0.5946\n"
     ]
    }
   ],
   "source": [
    "print(\"*\"*10 + \"Training Phase\" + \"*\"*10)\n",
    "print(\"Train MSE: %.4f\" % mse_train)\n",
    "print(\"Train R^2: %.4f\" % r2_train)\n",
    "\n",
    "print(\"*\"*10 + \"Test Phase\" + \"*\"*10)\n",
    "print(\"Test MSE: %.4f\" % mse_test)\n",
    "print(\"Test R^2: %.4f\" % r2_test)"
   ]
  }
 ],
 "metadata": {
  "language_info": {
   "name": "python"
  }
 },
 "nbformat": 4,
 "nbformat_minor": 2
}
